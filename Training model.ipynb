{
 "cells": [
  {
   "cell_type": "markdown",
   "metadata": {
    "id": "QUANWN3rpfC9"
   },
   "source": [
    "# 0. Setup Paths"
   ]
  },
  {
   "cell_type": "code",
   "execution_count": 4,
   "metadata": {
    "id": "146BB11JpfDA"
   },
   "outputs": [],
   "source": [
    "import os"
   ]
  },
  {
   "cell_type": "code",
   "execution_count": 5,
   "metadata": {
    "id": "42hJEdo_pfDB"
   },
   "outputs": [],
   "source": [
    "CUSTOM_MODEL_NAME = 'my_ssd_mobnetv2' \n",
    "PRETRAINED_MODEL_NAME = 'ssd_mobilenet_v2_fpnlite_320x320_coco17_tpu-8'\n",
    "PRETRAINED_MODEL_URL = 'http://download.tensorflow.org/models/object_detection/tf2/20200711/ssd_mobilenet_v2_fpnlite_320x320_coco17_tpu-8.tar.gz'\n",
    "TF_RECORD_SCRIPT_NAME = 'generate_tfrecord.py'\n",
    "LABEL_MAP_NAME = 'label_map.pbtxt'"
   ]
  },
  {
   "cell_type": "code",
   "execution_count": 6,
   "metadata": {
    "id": "hbPhYVy_pfDB"
   },
   "outputs": [],
   "source": [
    "paths = {\n",
    "    'WORKSPACE_PATH': os.path.join('Tensorflow', 'workspace'),\n",
    "    'SCRIPTS_PATH': os.path.join('Tensorflow','scripts'),\n",
    "    'APIMODEL_PATH': os.path.join('Tensorflow','models'),\n",
    "    'ANNOTATION_PATH': os.path.join('Tensorflow', 'workspace','annotations'),\n",
    "    'IMAGE_PATH': os.path.join('Tensorflow', 'workspace','images'),\n",
    "    'MODEL_PATH': os.path.join('Tensorflow', 'workspace','models'),\n",
    "    'PRETRAINED_MODEL_PATH': os.path.join('Tensorflow', 'workspace','pre-trained-models'),\n",
    "    'CHECKPOINT_PATH': os.path.join('Tensorflow', 'workspace','models',CUSTOM_MODEL_NAME), \n",
    "    'OUTPUT_PATH': os.path.join('Tensorflow', 'workspace','models',CUSTOM_MODEL_NAME, 'export'), \n",
    "    'TFJS_PATH':os.path.join('Tensorflow', 'workspace','models',CUSTOM_MODEL_NAME, 'tfjsexport'), \n",
    "    'TFLITE_PATH':os.path.join('Tensorflow', 'workspace','models',CUSTOM_MODEL_NAME, 'tfliteexport'), \n",
    "    'PROTOC_PATH':os.path.join('Tensorflow','protoc')\n",
    " }"
   ]
  },
  {
   "cell_type": "code",
   "execution_count": 7,
   "metadata": {
    "id": "LwhWZMI0pfDC"
   },
   "outputs": [],
   "source": [
    "files = {\n",
    "    'PIPELINE_CONFIG':os.path.join('Tensorflow', 'workspace','models', CUSTOM_MODEL_NAME, 'pipeline.config'),\n",
    "    'TF_RECORD_SCRIPT': os.path.join(paths['SCRIPTS_PATH'], TF_RECORD_SCRIPT_NAME), \n",
    "    'LABELMAP': os.path.join(paths['ANNOTATION_PATH'], LABEL_MAP_NAME)\n",
    "}"
   ]
  },
  {
   "cell_type": "code",
   "execution_count": 8,
   "metadata": {
    "id": "HR-TfDGrpfDC"
   },
   "outputs": [],
   "source": [
    "for path in paths.values():\n",
    "    if not os.path.exists(path):\n",
    "        if os.name == 'posix':\n",
    "            !mkdir -p {path}\n",
    "        if os.name == 'nt':\n",
    "            !mkdir {path}"
   ]
  },
  {
   "cell_type": "markdown",
   "metadata": {
    "id": "OLU-rs_ipfDE"
   },
   "source": [
    "# 1. Download TF Models Pretrained Models from Tensorflow Model Zoo and Install TFOD"
   ]
  },
  {
   "cell_type": "code",
   "execution_count": 10,
   "metadata": {
    "id": "K-Cmz2edpfDE",
    "scrolled": true
   },
   "outputs": [],
   "source": [
    "if os.name=='nt':\n",
    "    !pip install wget\n",
    "    import wget"
   ]
  },
  {
   "cell_type": "code",
   "execution_count": 11,
   "metadata": {
    "id": "iA1DIq5OpfDE"
   },
   "outputs": [],
   "source": [
    "if not os.path.exists(os.path.join(paths['APIMODEL_PATH'], 'research', 'object_detection')):\n",
    "    !git clone https://github.com/tensorflow/models {paths['APIMODEL_PATH']}"
   ]
  },
  {
   "cell_type": "code",
   "execution_count": 12,
   "metadata": {
    "id": "rJjMHbnDs3Tv"
   },
   "outputs": [
    {
     "name": "stdout",
     "output_type": "stream",
     "text": [
      "zsh:1: command not found: apt-get\n",
      "Processing /Users/benoit/code/bakerley/computervision/diving/Tensorflow/models/research\n",
      "Requirement already satisfied: avro-python3 in /Users/benoit/.pyenv/versions/3.8.6/envs/lewagon/lib/python3.8/site-packages (from object-detection==0.1) (1.9.2.1)\n",
      "Requirement already satisfied: apache-beam in /Users/benoit/.pyenv/versions/3.8.6/envs/lewagon/lib/python3.8/site-packages (from object-detection==0.1) (2.28.0)\n",
      "Requirement already satisfied: pillow in /Users/benoit/.pyenv/versions/3.8.6/envs/lewagon/lib/python3.8/site-packages (from object-detection==0.1) (8.1.0)\n",
      "Requirement already satisfied: lxml in /Users/benoit/.pyenv/versions/3.8.6/envs/lewagon/lib/python3.8/site-packages (from object-detection==0.1) (4.6.3)\n",
      "Requirement already satisfied: matplotlib in /Users/benoit/.pyenv/versions/3.8.6/envs/lewagon/lib/python3.8/site-packages (from object-detection==0.1) (3.2.0)\n",
      "Requirement already satisfied: Cython in /Users/benoit/.pyenv/versions/3.8.6/envs/lewagon/lib/python3.8/site-packages (from object-detection==0.1) (0.29.17)\n",
      "Requirement already satisfied: contextlib2 in /Users/benoit/.pyenv/versions/3.8.6/envs/lewagon/lib/python3.8/site-packages (from object-detection==0.1) (0.6.0.post1)\n",
      "Requirement already satisfied: tf-slim in /Users/benoit/.pyenv/versions/3.8.6/envs/lewagon/lib/python3.8/site-packages (from object-detection==0.1) (1.1.0)\n",
      "Requirement already satisfied: six in /Users/benoit/.pyenv/versions/3.8.6/envs/lewagon/lib/python3.8/site-packages (from object-detection==0.1) (1.15.0)\n",
      "Requirement already satisfied: pycocotools in /Users/benoit/.pyenv/versions/3.8.6/envs/lewagon/lib/python3.8/site-packages (from object-detection==0.1) (2.0.2)\n",
      "Requirement already satisfied: lvis in /Users/benoit/.pyenv/versions/3.8.6/envs/lewagon/lib/python3.8/site-packages (from object-detection==0.1) (0.5.3)\n",
      "Requirement already satisfied: scipy in /Users/benoit/.pyenv/versions/3.8.6/envs/lewagon/lib/python3.8/site-packages (from object-detection==0.1) (1.5.4)\n",
      "Requirement already satisfied: pandas in /Users/benoit/.pyenv/versions/3.8.6/envs/lewagon/lib/python3.8/site-packages (from object-detection==0.1) (1.0.5)\n",
      "Requirement already satisfied: tf-models-official in /Users/benoit/.pyenv/versions/3.8.6/envs/lewagon/lib/python3.8/site-packages (from object-detection==0.1) (2.4.0)\n",
      "Requirement already satisfied: mock<3.0.0,>=1.0.1 in /Users/benoit/.pyenv/versions/3.8.6/envs/lewagon/lib/python3.8/site-packages (from apache-beam->object-detection==0.1) (2.0.0)\n",
      "Requirement already satisfied: crcmod<2.0,>=1.7 in /Users/benoit/.pyenv/versions/3.8.6/envs/lewagon/lib/python3.8/site-packages (from apache-beam->object-detection==0.1) (1.7)\n",
      "Requirement already satisfied: python-dateutil<3,>=2.8.0 in /Users/benoit/.pyenv/versions/3.8.6/envs/lewagon/lib/python3.8/site-packages (from apache-beam->object-detection==0.1) (2.8.1)\n",
      "Requirement already satisfied: hdfs<3.0.0,>=2.1.0 in /Users/benoit/.pyenv/versions/3.8.6/envs/lewagon/lib/python3.8/site-packages (from apache-beam->object-detection==0.1) (2.6.0)\n",
      "Requirement already satisfied: numpy<1.20.0,>=1.14.3 in /Users/benoit/.pyenv/versions/3.8.6/envs/lewagon/lib/python3.8/site-packages (from apache-beam->object-detection==0.1) (1.19.1)\n",
      "Requirement already satisfied: fastavro<2,>=0.21.4 in /Users/benoit/.pyenv/versions/3.8.6/envs/lewagon/lib/python3.8/site-packages (from apache-beam->object-detection==0.1) (1.3.5)\n",
      "Requirement already satisfied: pydot<2,>=1.2.0 in /Users/benoit/.pyenv/versions/3.8.6/envs/lewagon/lib/python3.8/site-packages (from apache-beam->object-detection==0.1) (1.4.2)\n",
      "Requirement already satisfied: dill<0.3.2,>=0.3.1.1 in /Users/benoit/.pyenv/versions/3.8.6/envs/lewagon/lib/python3.8/site-packages (from apache-beam->object-detection==0.1) (0.3.1.1)\n",
      "Requirement already satisfied: pytz>=2018.3 in /Users/benoit/.pyenv/versions/3.8.6/envs/lewagon/lib/python3.8/site-packages (from apache-beam->object-detection==0.1) (2020.5)\n",
      "Requirement already satisfied: pyarrow<3.0.0,>=0.15.1 in /Users/benoit/.pyenv/versions/3.8.6/envs/lewagon/lib/python3.8/site-packages (from apache-beam->object-detection==0.1) (2.0.0)\n",
      "Requirement already satisfied: future<1.0.0,>=0.18.2 in /Users/benoit/.pyenv/versions/3.8.6/envs/lewagon/lib/python3.8/site-packages (from apache-beam->object-detection==0.1) (0.18.2)\n",
      "Requirement already satisfied: pymongo<4.0.0,>=3.8.0 in /Users/benoit/.pyenv/versions/3.8.6/envs/lewagon/lib/python3.8/site-packages (from apache-beam->object-detection==0.1) (3.11.3)\n",
      "Requirement already satisfied: oauth2client<5,>=2.0.1 in /Users/benoit/.pyenv/versions/3.8.6/envs/lewagon/lib/python3.8/site-packages (from apache-beam->object-detection==0.1) (4.1.3)\n",
      "Requirement already satisfied: grpcio<2,>=1.29.0 in /Users/benoit/.pyenv/versions/3.8.6/envs/lewagon/lib/python3.8/site-packages (from apache-beam->object-detection==0.1) (1.32.0)\n",
      "Requirement already satisfied: typing-extensions<3.8.0,>=3.7.0 in /Users/benoit/.pyenv/versions/3.8.6/envs/lewagon/lib/python3.8/site-packages (from apache-beam->object-detection==0.1) (3.7.4.3)\n",
      "Requirement already satisfied: protobuf<4,>=3.12.2 in /Users/benoit/.pyenv/versions/3.8.6/envs/lewagon/lib/python3.8/site-packages (from apache-beam->object-detection==0.1) (3.15.8)\n",
      "Requirement already satisfied: httplib2<0.18.0,>=0.8 in /Users/benoit/.pyenv/versions/3.8.6/envs/lewagon/lib/python3.8/site-packages (from apache-beam->object-detection==0.1) (0.17.4)\n",
      "Requirement already satisfied: requests<3.0.0,>=2.24.0 in /Users/benoit/.pyenv/versions/3.8.6/envs/lewagon/lib/python3.8/site-packages (from apache-beam->object-detection==0.1) (2.25.1)\n",
      "Requirement already satisfied: docopt in /Users/benoit/.pyenv/versions/3.8.6/envs/lewagon/lib/python3.8/site-packages (from hdfs<3.0.0,>=2.1.0->apache-beam->object-detection==0.1) (0.6.2)\n",
      "Requirement already satisfied: pbr>=0.11 in /Users/benoit/.pyenv/versions/3.8.6/envs/lewagon/lib/python3.8/site-packages (from mock<3.0.0,>=1.0.1->apache-beam->object-detection==0.1) (5.5.1)\n",
      "Requirement already satisfied: rsa>=3.1.4 in /Users/benoit/.pyenv/versions/3.8.6/envs/lewagon/lib/python3.8/site-packages (from oauth2client<5,>=2.0.1->apache-beam->object-detection==0.1) (4.7)\n",
      "Requirement already satisfied: pyasn1-modules>=0.0.5 in /Users/benoit/.pyenv/versions/3.8.6/envs/lewagon/lib/python3.8/site-packages (from oauth2client<5,>=2.0.1->apache-beam->object-detection==0.1) (0.2.8)\n",
      "Requirement already satisfied: pyasn1>=0.1.7 in /Users/benoit/.pyenv/versions/3.8.6/envs/lewagon/lib/python3.8/site-packages (from oauth2client<5,>=2.0.1->apache-beam->object-detection==0.1) (0.4.8)\n",
      "Requirement already satisfied: pyparsing>=2.1.4 in /Users/benoit/.pyenv/versions/3.8.6/envs/lewagon/lib/python3.8/site-packages (from pydot<2,>=1.2.0->apache-beam->object-detection==0.1) (2.4.7)\n",
      "Requirement already satisfied: urllib3<1.27,>=1.21.1 in /Users/benoit/.pyenv/versions/3.8.6/envs/lewagon/lib/python3.8/site-packages (from requests<3.0.0,>=2.24.0->apache-beam->object-detection==0.1) (1.26.2)\n",
      "Requirement already satisfied: idna<3,>=2.5 in /Users/benoit/.pyenv/versions/3.8.6/envs/lewagon/lib/python3.8/site-packages (from requests<3.0.0,>=2.24.0->apache-beam->object-detection==0.1) (2.10)\n",
      "Requirement already satisfied: certifi>=2017.4.17 in /Users/benoit/.pyenv/versions/3.8.6/envs/lewagon/lib/python3.8/site-packages (from requests<3.0.0,>=2.24.0->apache-beam->object-detection==0.1) (2020.12.5)\n",
      "Requirement already satisfied: chardet<5,>=3.0.2 in /Users/benoit/.pyenv/versions/3.8.6/envs/lewagon/lib/python3.8/site-packages (from requests<3.0.0,>=2.24.0->apache-beam->object-detection==0.1) (3.0.4)\n",
      "Requirement already satisfied: cycler>=0.10.0 in /Users/benoit/.pyenv/versions/3.8.6/envs/lewagon/lib/python3.8/site-packages (from lvis->object-detection==0.1) (0.10.0)\n",
      "Requirement already satisfied: kiwisolver>=1.1.0 in /Users/benoit/.pyenv/versions/3.8.6/envs/lewagon/lib/python3.8/site-packages (from lvis->object-detection==0.1) (1.3.1)\n",
      "Requirement already satisfied: opencv-python>=4.1.0.25 in /Users/benoit/.pyenv/versions/3.8.6/envs/lewagon/lib/python3.8/site-packages (from lvis->object-detection==0.1) (4.5.1.48)\n",
      "Requirement already satisfied: setuptools>=18.0 in /Users/benoit/.pyenv/versions/3.8.6/envs/lewagon/lib/python3.8/site-packages (from pycocotools->object-detection==0.1) (49.2.1)\n"
     ]
    },
    {
     "name": "stdout",
     "output_type": "stream",
     "text": [
      "Requirement already satisfied: gin-config in /Users/benoit/.pyenv/versions/3.8.6/envs/lewagon/lib/python3.8/site-packages (from tf-models-official->object-detection==0.1) (0.4.0)\n",
      "Requirement already satisfied: sentencepiece in /Users/benoit/.pyenv/versions/3.8.6/envs/lewagon/lib/python3.8/site-packages (from tf-models-official->object-detection==0.1) (0.1.95)\n",
      "Requirement already satisfied: tensorflow-addons in /Users/benoit/.pyenv/versions/3.8.6/envs/lewagon/lib/python3.8/site-packages (from tf-models-official->object-detection==0.1) (0.12.1)\n",
      "Requirement already satisfied: dataclasses in /Users/benoit/.pyenv/versions/3.8.6/envs/lewagon/lib/python3.8/site-packages (from tf-models-official->object-detection==0.1) (0.6)\n",
      "Requirement already satisfied: tensorflow-datasets in /Users/benoit/.pyenv/versions/3.8.6/envs/lewagon/lib/python3.8/site-packages (from tf-models-official->object-detection==0.1) (4.2.0)\n",
      "Requirement already satisfied: google-api-python-client>=1.6.7 in /Users/benoit/.pyenv/versions/3.8.6/envs/lewagon/lib/python3.8/site-packages (from tf-models-official->object-detection==0.1) (2.1.0)\n",
      "Requirement already satisfied: py-cpuinfo>=3.3.0 in /Users/benoit/.pyenv/versions/3.8.6/envs/lewagon/lib/python3.8/site-packages (from tf-models-official->object-detection==0.1) (7.0.0)\n",
      "Requirement already satisfied: pyyaml>=5.1 in /Users/benoit/.pyenv/versions/3.8.6/envs/lewagon/lib/python3.8/site-packages (from tf-models-official->object-detection==0.1) (5.3.1)\n",
      "Requirement already satisfied: tensorflow-model-optimization>=0.4.1 in /Users/benoit/.pyenv/versions/3.8.6/envs/lewagon/lib/python3.8/site-packages (from tf-models-official->object-detection==0.1) (0.5.0)\n",
      "Requirement already satisfied: psutil>=5.4.3 in /Users/benoit/.pyenv/versions/3.8.6/envs/lewagon/lib/python3.8/site-packages (from tf-models-official->object-detection==0.1) (5.8.0)\n",
      "Requirement already satisfied: tensorflow-hub>=0.6.0 in /Users/benoit/.pyenv/versions/3.8.6/envs/lewagon/lib/python3.8/site-packages (from tf-models-official->object-detection==0.1) (0.11.0)\n",
      "Requirement already satisfied: kaggle>=1.3.9 in /Users/benoit/.pyenv/versions/3.8.6/envs/lewagon/lib/python3.8/site-packages (from tf-models-official->object-detection==0.1) (1.5.12)\n",
      "Requirement already satisfied: seqeval in /Users/benoit/.pyenv/versions/3.8.6/envs/lewagon/lib/python3.8/site-packages (from tf-models-official->object-detection==0.1) (1.2.2)\n",
      "Requirement already satisfied: tensorflow>=2.4.0 in /Users/benoit/.pyenv/versions/3.8.6/envs/lewagon/lib/python3.8/site-packages (from tf-models-official->object-detection==0.1) (2.4.1)\n",
      "Requirement already satisfied: opencv-python-headless in /Users/benoit/.pyenv/versions/3.8.6/envs/lewagon/lib/python3.8/site-packages (from tf-models-official->object-detection==0.1) (4.5.1.48)\n",
      "Requirement already satisfied: google-cloud-bigquery>=0.31.0 in /Users/benoit/.pyenv/versions/3.8.6/envs/lewagon/lib/python3.8/site-packages (from tf-models-official->object-detection==0.1) (2.13.1)\n",
      "Requirement already satisfied: google-auth<2dev,>=1.16.0 in /Users/benoit/.pyenv/versions/3.8.6/envs/lewagon/lib/python3.8/site-packages (from google-api-python-client>=1.6.7->tf-models-official->object-detection==0.1) (1.24.0)\n",
      "Requirement already satisfied: uritemplate<4dev,>=3.0.0 in /Users/benoit/.pyenv/versions/3.8.6/envs/lewagon/lib/python3.8/site-packages (from google-api-python-client>=1.6.7->tf-models-official->object-detection==0.1) (3.0.1)\n",
      "Requirement already satisfied: google-auth-httplib2>=0.1.0 in /Users/benoit/.pyenv/versions/3.8.6/envs/lewagon/lib/python3.8/site-packages (from google-api-python-client>=1.6.7->tf-models-official->object-detection==0.1) (0.1.0)\n",
      "Requirement already satisfied: google-api-core<2dev,>=1.21.0 in /Users/benoit/.pyenv/versions/3.8.6/envs/lewagon/lib/python3.8/site-packages (from google-api-python-client>=1.6.7->tf-models-official->object-detection==0.1) (1.26.0)\n",
      "Requirement already satisfied: packaging>=14.3 in /Users/benoit/.pyenv/versions/3.8.6/envs/lewagon/lib/python3.8/site-packages (from google-api-core<2dev,>=1.21.0->google-api-python-client>=1.6.7->tf-models-official->object-detection==0.1) (20.8)\n",
      "Requirement already satisfied: googleapis-common-protos<2.0dev,>=1.6.0 in /Users/benoit/.pyenv/versions/3.8.6/envs/lewagon/lib/python3.8/site-packages (from google-api-core<2dev,>=1.21.0->google-api-python-client>=1.6.7->tf-models-official->object-detection==0.1) (1.52.0)\n",
      "Requirement already satisfied: cachetools<5.0,>=2.0.0 in /Users/benoit/.pyenv/versions/3.8.6/envs/lewagon/lib/python3.8/site-packages (from google-auth<2dev,>=1.16.0->google-api-python-client>=1.6.7->tf-models-official->object-detection==0.1) (4.2.0)\n",
      "Requirement already satisfied: proto-plus>=1.10.0 in /Users/benoit/.pyenv/versions/3.8.6/envs/lewagon/lib/python3.8/site-packages (from google-cloud-bigquery>=0.31.0->tf-models-official->object-detection==0.1) (1.18.1)\n",
      "Requirement already satisfied: google-resumable-media<2.0dev,>=0.6.0 in /Users/benoit/.pyenv/versions/3.8.6/envs/lewagon/lib/python3.8/site-packages (from google-cloud-bigquery>=0.31.0->tf-models-official->object-detection==0.1) (1.2.0)\n",
      "Requirement already satisfied: google-cloud-core<2.0dev,>=1.4.1 in /Users/benoit/.pyenv/versions/3.8.6/envs/lewagon/lib/python3.8/site-packages (from google-cloud-bigquery>=0.31.0->tf-models-official->object-detection==0.1) (1.6.0)\n",
      "Requirement already satisfied: google-crc32c<2.0dev,>=1.0 in /Users/benoit/.pyenv/versions/3.8.6/envs/lewagon/lib/python3.8/site-packages (from google-resumable-media<2.0dev,>=0.6.0->google-cloud-bigquery>=0.31.0->tf-models-official->object-detection==0.1) (1.1.2)\n",
      "Requirement already satisfied: cffi>=1.0.0 in /Users/benoit/.pyenv/versions/3.8.6/envs/lewagon/lib/python3.8/site-packages (from google-crc32c<2.0dev,>=1.0->google-resumable-media<2.0dev,>=0.6.0->google-cloud-bigquery>=0.31.0->tf-models-official->object-detection==0.1) (1.14.4)\n",
      "Requirement already satisfied: pycparser in /Users/benoit/.pyenv/versions/3.8.6/envs/lewagon/lib/python3.8/site-packages (from cffi>=1.0.0->google-crc32c<2.0dev,>=1.0->google-resumable-media<2.0dev,>=0.6.0->google-cloud-bigquery>=0.31.0->tf-models-official->object-detection==0.1) (2.20)\n",
      "Requirement already satisfied: python-slugify in /Users/benoit/.pyenv/versions/3.8.6/envs/lewagon/lib/python3.8/site-packages (from kaggle>=1.3.9->tf-models-official->object-detection==0.1) (4.0.1)\n",
      "Requirement already satisfied: tqdm in /Users/benoit/.pyenv/versions/3.8.6/envs/lewagon/lib/python3.8/site-packages (from kaggle>=1.3.9->tf-models-official->object-detection==0.1) (4.56.0)\n",
      "Requirement already satisfied: wheel~=0.35 in /Users/benoit/.pyenv/versions/3.8.6/envs/lewagon/lib/python3.8/site-packages (from tensorflow>=2.4.0->tf-models-official->object-detection==0.1) (0.36.2)\n",
      "Requirement already satisfied: google-pasta~=0.2 in /Users/benoit/.pyenv/versions/3.8.6/envs/lewagon/lib/python3.8/site-packages (from tensorflow>=2.4.0->tf-models-official->object-detection==0.1) (0.2.0)\n",
      "Requirement already satisfied: gast==0.3.3 in /Users/benoit/.pyenv/versions/3.8.6/envs/lewagon/lib/python3.8/site-packages (from tensorflow>=2.4.0->tf-models-official->object-detection==0.1) (0.3.3)\n",
      "Requirement already satisfied: wrapt~=1.12.1 in /Users/benoit/.pyenv/versions/3.8.6/envs/lewagon/lib/python3.8/site-packages (from tensorflow>=2.4.0->tf-models-official->object-detection==0.1) (1.12.1)\n",
      "Requirement already satisfied: absl-py~=0.10 in /Users/benoit/.pyenv/versions/3.8.6/envs/lewagon/lib/python3.8/site-packages (from tensorflow>=2.4.0->tf-models-official->object-detection==0.1) (0.11.0)\n",
      "Requirement already satisfied: keras-preprocessing~=1.1.2 in /Users/benoit/.pyenv/versions/3.8.6/envs/lewagon/lib/python3.8/site-packages (from tensorflow>=2.4.0->tf-models-official->object-detection==0.1) (1.1.2)\n",
      "Collecting numpy<1.20.0,>=1.14.3\n",
      "  Using cached numpy-1.19.5-cp38-cp38-macosx_10_9_x86_64.whl (15.6 MB)\n",
      "Requirement already satisfied: astunparse~=1.6.3 in /Users/benoit/.pyenv/versions/3.8.6/envs/lewagon/lib/python3.8/site-packages (from tensorflow>=2.4.0->tf-models-official->object-detection==0.1) (1.6.3)\n",
      "Requirement already satisfied: opt-einsum~=3.3.0 in /Users/benoit/.pyenv/versions/3.8.6/envs/lewagon/lib/python3.8/site-packages (from tensorflow>=2.4.0->tf-models-official->object-detection==0.1) (3.3.0)\n",
      "Requirement already satisfied: tensorflow-estimator<2.5.0,>=2.4.0 in /Users/benoit/.pyenv/versions/3.8.6/envs/lewagon/lib/python3.8/site-packages (from tensorflow>=2.4.0->tf-models-official->object-detection==0.1) (2.4.0)\n",
      "Requirement already satisfied: termcolor~=1.1.0 in /Users/benoit/.pyenv/versions/3.8.6/envs/lewagon/lib/python3.8/site-packages (from tensorflow>=2.4.0->tf-models-official->object-detection==0.1) (1.1.0)\n",
      "Requirement already satisfied: h5py~=2.10.0 in /Users/benoit/.pyenv/versions/3.8.6/envs/lewagon/lib/python3.8/site-packages (from tensorflow>=2.4.0->tf-models-official->object-detection==0.1) (2.10.0)\n",
      "Requirement already satisfied: flatbuffers~=1.12.0 in /Users/benoit/.pyenv/versions/3.8.6/envs/lewagon/lib/python3.8/site-packages (from tensorflow>=2.4.0->tf-models-official->object-detection==0.1) (1.12)\n",
      "Requirement already satisfied: tensorboard~=2.4 in /Users/benoit/.pyenv/versions/3.8.6/envs/lewagon/lib/python3.8/site-packages (from tensorflow>=2.4.0->tf-models-official->object-detection==0.1) (2.4.0)\n"
     ]
    },
    {
     "name": "stdout",
     "output_type": "stream",
     "text": [
      "Requirement already satisfied: tensorboard-plugin-wit>=1.6.0 in /Users/benoit/.pyenv/versions/3.8.6/envs/lewagon/lib/python3.8/site-packages (from tensorboard~=2.4->tensorflow>=2.4.0->tf-models-official->object-detection==0.1) (1.7.0)\n",
      "Requirement already satisfied: werkzeug>=0.11.15 in /Users/benoit/.pyenv/versions/3.8.6/envs/lewagon/lib/python3.8/site-packages (from tensorboard~=2.4->tensorflow>=2.4.0->tf-models-official->object-detection==0.1) (1.0.1)\n",
      "Requirement already satisfied: markdown>=2.6.8 in /Users/benoit/.pyenv/versions/3.8.6/envs/lewagon/lib/python3.8/site-packages (from tensorboard~=2.4->tensorflow>=2.4.0->tf-models-official->object-detection==0.1) (3.3.3)\n",
      "Requirement already satisfied: google-auth-oauthlib<0.5,>=0.4.1 in /Users/benoit/.pyenv/versions/3.8.6/envs/lewagon/lib/python3.8/site-packages (from tensorboard~=2.4->tensorflow>=2.4.0->tf-models-official->object-detection==0.1) (0.4.2)\n",
      "Requirement already satisfied: requests-oauthlib>=0.7.0 in /Users/benoit/.pyenv/versions/3.8.6/envs/lewagon/lib/python3.8/site-packages (from google-auth-oauthlib<0.5,>=0.4.1->tensorboard~=2.4->tensorflow>=2.4.0->tf-models-official->object-detection==0.1) (1.3.0)\n",
      "Requirement already satisfied: oauthlib>=3.0.0 in /Users/benoit/.pyenv/versions/3.8.6/envs/lewagon/lib/python3.8/site-packages (from requests-oauthlib>=0.7.0->google-auth-oauthlib<0.5,>=0.4.1->tensorboard~=2.4->tensorflow>=2.4.0->tf-models-official->object-detection==0.1) (3.1.0)\n",
      "Requirement already satisfied: dm-tree~=0.1.1 in /Users/benoit/.pyenv/versions/3.8.6/envs/lewagon/lib/python3.8/site-packages (from tensorflow-model-optimization>=0.4.1->tf-models-official->object-detection==0.1) (0.1.5)\n",
      "Requirement already satisfied: text-unidecode>=1.3 in /Users/benoit/.pyenv/versions/3.8.6/envs/lewagon/lib/python3.8/site-packages (from python-slugify->kaggle>=1.3.9->tf-models-official->object-detection==0.1) (1.3)\n",
      "Requirement already satisfied: scikit-learn>=0.21.3 in /Users/benoit/.pyenv/versions/3.8.6/envs/lewagon/lib/python3.8/site-packages (from seqeval->tf-models-official->object-detection==0.1) (0.23.1)\n",
      "Requirement already satisfied: threadpoolctl>=2.0.0 in /Users/benoit/.pyenv/versions/3.8.6/envs/lewagon/lib/python3.8/site-packages (from scikit-learn>=0.21.3->seqeval->tf-models-official->object-detection==0.1) (2.1.0)\n",
      "Requirement already satisfied: joblib>=0.11 in /Users/benoit/.pyenv/versions/3.8.6/envs/lewagon/lib/python3.8/site-packages (from scikit-learn>=0.21.3->seqeval->tf-models-official->object-detection==0.1) (1.0.0)\n",
      "Requirement already satisfied: typeguard>=2.7 in /Users/benoit/.pyenv/versions/3.8.6/envs/lewagon/lib/python3.8/site-packages (from tensorflow-addons->tf-models-official->object-detection==0.1) (2.11.1)\n",
      "Requirement already satisfied: tensorflow-metadata in /Users/benoit/.pyenv/versions/3.8.6/envs/lewagon/lib/python3.8/site-packages (from tensorflow-datasets->tf-models-official->object-detection==0.1) (0.29.0)\n",
      "Requirement already satisfied: attrs>=18.1.0 in /Users/benoit/.pyenv/versions/3.8.6/envs/lewagon/lib/python3.8/site-packages (from tensorflow-datasets->tf-models-official->object-detection==0.1) (20.3.0)\n",
      "Requirement already satisfied: importlib-resources in /Users/benoit/.pyenv/versions/3.8.6/envs/lewagon/lib/python3.8/site-packages (from tensorflow-datasets->tf-models-official->object-detection==0.1) (5.1.2)\n",
      "Requirement already satisfied: promise in /Users/benoit/.pyenv/versions/3.8.6/envs/lewagon/lib/python3.8/site-packages (from tensorflow-datasets->tf-models-official->object-detection==0.1) (2.3)\n",
      "Building wheels for collected packages: object-detection\n",
      "  Building wheel for object-detection (setup.py) ... \u001b[?25ldone\n",
      "\u001b[?25h  Created wheel for object-detection: filename=object_detection-0.1-py3-none-any.whl size=1644003 sha256=d8308086803bca0db8834791a92143617600200166723419122a4b2193677421\n",
      "  Stored in directory: /private/var/folders/n_/h2zv33m170v5ctjs73fwpdth0000gn/T/pip-ephem-wheel-cache-zlxqkqdw/wheels/a8/28/2a/6ce7d54c9ac6f41364662c787a0cf78509805e3c38924d6f2d\n",
      "Successfully built object-detection\n",
      "Installing collected packages: numpy, object-detection\n",
      "  Attempting uninstall: numpy\n",
      "    Found existing installation: numpy 1.19.1\n",
      "    Uninstalling numpy-1.19.1:\n",
      "      Successfully uninstalled numpy-1.19.1\n",
      "  Attempting uninstall: object-detection\n",
      "    Found existing installation: object-detection 0.1\n",
      "    Uninstalling object-detection-0.1:\n",
      "      Successfully uninstalled object-detection-0.1\n",
      "\u001b[31mERROR: pip's dependency resolver does not currently take into account all the packages that are installed. This behaviour is the source of the following dependency conflicts.\n",
      "lazypredict 0.2.9 requires numpy==1.19.1, but you have numpy 1.19.5 which is incompatible.\u001b[0m\n",
      "Successfully installed numpy-1.19.5 object-detection-0.1\n",
      "\u001b[33mWARNING: You are using pip version 21.0.1; however, version 21.1.1 is available.\n",
      "You should consider upgrading via the '/Users/benoit/.pyenv/versions/lewagon/bin/python -m pip install --upgrade pip' command.\u001b[0m\n"
     ]
    }
   ],
   "source": [
    "# Install Tensorflow Object Detection \n",
    "if os.name=='posix':  \n",
    "    !apt-get install protobuf-compiler\n",
    "    !cd Tensorflow/models/research && protoc object_detection/protos/*.proto --python_out=. && cp object_detection/packages/tf2/setup.py . && python -m pip install . \n",
    "    \n",
    "if os.name=='nt':\n",
    "    url=\"https://github.com/protocolbuffers/protobuf/releases/download/v3.15.6/protoc-3.15.6-win64.zip\"\n",
    "    wget.download(url)\n",
    "    !move protoc-3.15.6-win64.zip {paths['PROTOC_PATH']}\n",
    "    !cd {paths['PROTOC_PATH']} && tar -xf protoc-3.15.6-win64.zip\n",
    "    os.environ['PATH'] += os.pathsep + os.path.abspath(os.path.join(paths['PROTOC_PATH'], 'bin'))   \n",
    "    !cd Tensorflow/models/research && protoc object_detection/protos/*.proto --python_out=. && copy object_detection\\\\packages\\\\tf2\\\\setup.py setup.py && python setup.py build && python setup.py install\n",
    "    !cd Tensorflow/models/research/slim && pip install -e . "
   ]
  },
  {
   "cell_type": "code",
   "execution_count": 13,
   "metadata": {
    "scrolled": true
   },
   "outputs": [
    {
     "name": "stdout",
     "output_type": "stream",
     "text": [
      "Running tests under Python 3.8.6: /Users/benoit/.pyenv/versions/lewagon/bin/python\n",
      "[ RUN      ] ModelBuilderTF2Test.test_create_center_net_model\n",
      "2021-05-03 09:34:22.964065: I tensorflow/compiler/jit/xla_cpu_device.cc:41] Not creating XLA devices, tf_xla_enable_xla_devices not set\n",
      "2021-05-03 09:34:22.964250: I tensorflow/core/platform/cpu_feature_guard.cc:142] This TensorFlow binary is optimized with oneAPI Deep Neural Network Library (oneDNN) to use the following CPU instructions in performance-critical operations:  AVX2 FMA\n",
      "To enable them in other operations, rebuild TensorFlow with the appropriate compiler flags.\n",
      "INFO:tensorflow:time(__main__.ModelBuilderTF2Test.test_create_center_net_model): 0.94s\n",
      "I0503 09:34:23.302225 4663033344 test_util.py:2075] time(__main__.ModelBuilderTF2Test.test_create_center_net_model): 0.94s\n",
      "[       OK ] ModelBuilderTF2Test.test_create_center_net_model\n",
      "[ RUN      ] ModelBuilderTF2Test.test_create_center_net_model_from_keypoints\n",
      "INFO:tensorflow:time(__main__.ModelBuilderTF2Test.test_create_center_net_model_from_keypoints): 0.29s\n",
      "I0503 09:34:23.596168 4663033344 test_util.py:2075] time(__main__.ModelBuilderTF2Test.test_create_center_net_model_from_keypoints): 0.29s\n",
      "[       OK ] ModelBuilderTF2Test.test_create_center_net_model_from_keypoints\n",
      "[ RUN      ] ModelBuilderTF2Test.test_create_experimental_model\n",
      "INFO:tensorflow:time(__main__.ModelBuilderTF2Test.test_create_experimental_model): 0.0s\n",
      "I0503 09:34:23.596635 4663033344 test_util.py:2075] time(__main__.ModelBuilderTF2Test.test_create_experimental_model): 0.0s\n",
      "[       OK ] ModelBuilderTF2Test.test_create_experimental_model\n",
      "[ RUN      ] ModelBuilderTF2Test.test_create_faster_rcnn_from_config_with_crop_feature0 (True)\n",
      "INFO:tensorflow:time(__main__.ModelBuilderTF2Test.test_create_faster_rcnn_from_config_with_crop_feature0 (True)): 0.08s\n",
      "I0503 09:34:23.681392 4663033344 test_util.py:2075] time(__main__.ModelBuilderTF2Test.test_create_faster_rcnn_from_config_with_crop_feature0 (True)): 0.08s\n",
      "[       OK ] ModelBuilderTF2Test.test_create_faster_rcnn_from_config_with_crop_feature0 (True)\n",
      "[ RUN      ] ModelBuilderTF2Test.test_create_faster_rcnn_from_config_with_crop_feature1 (False)\n",
      "INFO:tensorflow:time(__main__.ModelBuilderTF2Test.test_create_faster_rcnn_from_config_with_crop_feature1 (False)): 0.02s\n",
      "I0503 09:34:23.701236 4663033344 test_util.py:2075] time(__main__.ModelBuilderTF2Test.test_create_faster_rcnn_from_config_with_crop_feature1 (False)): 0.02s\n",
      "[       OK ] ModelBuilderTF2Test.test_create_faster_rcnn_from_config_with_crop_feature1 (False)\n",
      "[ RUN      ] ModelBuilderTF2Test.test_create_faster_rcnn_model_from_config_with_example_miner\n",
      "INFO:tensorflow:time(__main__.ModelBuilderTF2Test.test_create_faster_rcnn_model_from_config_with_example_miner): 0.02s\n",
      "I0503 09:34:23.719630 4663033344 test_util.py:2075] time(__main__.ModelBuilderTF2Test.test_create_faster_rcnn_model_from_config_with_example_miner): 0.02s\n",
      "[       OK ] ModelBuilderTF2Test.test_create_faster_rcnn_model_from_config_with_example_miner\n",
      "[ RUN      ] ModelBuilderTF2Test.test_create_faster_rcnn_models_from_config_faster_rcnn_with_matmul\n",
      "INFO:tensorflow:time(__main__.ModelBuilderTF2Test.test_create_faster_rcnn_models_from_config_faster_rcnn_with_matmul): 0.12s\n",
      "I0503 09:34:23.844841 4663033344 test_util.py:2075] time(__main__.ModelBuilderTF2Test.test_create_faster_rcnn_models_from_config_faster_rcnn_with_matmul): 0.12s\n",
      "[       OK ] ModelBuilderTF2Test.test_create_faster_rcnn_models_from_config_faster_rcnn_with_matmul\n",
      "[ RUN      ] ModelBuilderTF2Test.test_create_faster_rcnn_models_from_config_faster_rcnn_without_matmul\n",
      "INFO:tensorflow:time(__main__.ModelBuilderTF2Test.test_create_faster_rcnn_models_from_config_faster_rcnn_without_matmul): 0.12s\n",
      "I0503 09:34:23.968137 4663033344 test_util.py:2075] time(__main__.ModelBuilderTF2Test.test_create_faster_rcnn_models_from_config_faster_rcnn_without_matmul): 0.12s\n",
      "[       OK ] ModelBuilderTF2Test.test_create_faster_rcnn_models_from_config_faster_rcnn_without_matmul\n",
      "[ RUN      ] ModelBuilderTF2Test.test_create_faster_rcnn_models_from_config_mask_rcnn_with_matmul\n",
      "INFO:tensorflow:time(__main__.ModelBuilderTF2Test.test_create_faster_rcnn_models_from_config_mask_rcnn_with_matmul): 0.12s\n",
      "I0503 09:34:24.088685 4663033344 test_util.py:2075] time(__main__.ModelBuilderTF2Test.test_create_faster_rcnn_models_from_config_mask_rcnn_with_matmul): 0.12s\n",
      "[       OK ] ModelBuilderTF2Test.test_create_faster_rcnn_models_from_config_mask_rcnn_with_matmul\n",
      "[ RUN      ] ModelBuilderTF2Test.test_create_faster_rcnn_models_from_config_mask_rcnn_without_matmul\n",
      "INFO:tensorflow:time(__main__.ModelBuilderTF2Test.test_create_faster_rcnn_models_from_config_mask_rcnn_without_matmul): 0.12s\n",
      "I0503 09:34:24.206095 4663033344 test_util.py:2075] time(__main__.ModelBuilderTF2Test.test_create_faster_rcnn_models_from_config_mask_rcnn_without_matmul): 0.12s\n",
      "[       OK ] ModelBuilderTF2Test.test_create_faster_rcnn_models_from_config_mask_rcnn_without_matmul\n",
      "[ RUN      ] ModelBuilderTF2Test.test_create_rfcn_model_from_config\n",
      "INFO:tensorflow:time(__main__.ModelBuilderTF2Test.test_create_rfcn_model_from_config): 0.12s\n",
      "I0503 09:34:24.328050 4663033344 test_util.py:2075] time(__main__.ModelBuilderTF2Test.test_create_rfcn_model_from_config): 0.12s\n",
      "[       OK ] ModelBuilderTF2Test.test_create_rfcn_model_from_config\n",
      "[ RUN      ] ModelBuilderTF2Test.test_create_ssd_fpn_model_from_config\n",
      "INFO:tensorflow:time(__main__.ModelBuilderTF2Test.test_create_ssd_fpn_model_from_config): 0.03s\n",
      "I0503 09:34:24.362853 4663033344 test_util.py:2075] time(__main__.ModelBuilderTF2Test.test_create_ssd_fpn_model_from_config): 0.03s\n",
      "[       OK ] ModelBuilderTF2Test.test_create_ssd_fpn_model_from_config\n",
      "[ RUN      ] ModelBuilderTF2Test.test_create_ssd_models_from_config\n",
      "I0503 09:34:24.601423 4663033344 ssd_efficientnet_bifpn_feature_extractor.py:142] EfficientDet EfficientNet backbone version: efficientnet-b0\n",
      "I0503 09:34:24.601528 4663033344 ssd_efficientnet_bifpn_feature_extractor.py:144] EfficientDet BiFPN num filters: 64\n",
      "I0503 09:34:24.601575 4663033344 ssd_efficientnet_bifpn_feature_extractor.py:145] EfficientDet BiFPN num iterations: 3\n",
      "I0503 09:34:24.605775 4663033344 efficientnet_model.py:147] round_filter input=32 output=32\n",
      "I0503 09:34:24.619519 4663033344 efficientnet_model.py:147] round_filter input=32 output=32\n",
      "I0503 09:34:24.619620 4663033344 efficientnet_model.py:147] round_filter input=16 output=16\n",
      "I0503 09:34:24.662642 4663033344 efficientnet_model.py:147] round_filter input=16 output=16\n",
      "I0503 09:34:24.662741 4663033344 efficientnet_model.py:147] round_filter input=24 output=24\n",
      "I0503 09:34:24.776681 4663033344 efficientnet_model.py:147] round_filter input=24 output=24\n",
      "I0503 09:34:24.776784 4663033344 efficientnet_model.py:147] round_filter input=40 output=40\n",
      "I0503 09:34:24.887629 4663033344 efficientnet_model.py:147] round_filter input=40 output=40\n",
      "I0503 09:34:24.887758 4663033344 efficientnet_model.py:147] round_filter input=80 output=80\n",
      "I0503 09:34:25.061791 4663033344 efficientnet_model.py:147] round_filter input=80 output=80\n",
      "I0503 09:34:25.061902 4663033344 efficientnet_model.py:147] round_filter input=112 output=112\n",
      "I0503 09:34:25.241127 4663033344 efficientnet_model.py:147] round_filter input=112 output=112\n",
      "I0503 09:34:25.241231 4663033344 efficientnet_model.py:147] round_filter input=192 output=192\n",
      "I0503 09:34:25.484184 4663033344 efficientnet_model.py:147] round_filter input=192 output=192\n",
      "I0503 09:34:25.484293 4663033344 efficientnet_model.py:147] round_filter input=320 output=320\n",
      "I0503 09:34:25.540939 4663033344 efficientnet_model.py:147] round_filter input=1280 output=1280\n",
      "I0503 09:34:25.570428 4663033344 efficientnet_model.py:458] Building model efficientnet with params ModelConfig(width_coefficient=1.0, depth_coefficient=1.0, resolution=224, dropout_rate=0.2, blocks=(BlockConfig(input_filters=32, output_filters=16, kernel_size=3, num_repeat=1, expand_ratio=1, strides=(1, 1), se_ratio=0.25, id_skip=True, fused_conv=False, conv_type='depthwise'), BlockConfig(input_filters=16, output_filters=24, kernel_size=3, num_repeat=2, expand_ratio=6, strides=(2, 2), se_ratio=0.25, id_skip=True, fused_conv=False, conv_type='depthwise'), BlockConfig(input_filters=24, output_filters=40, kernel_size=5, num_repeat=2, expand_ratio=6, strides=(2, 2), se_ratio=0.25, id_skip=True, fused_conv=False, conv_type='depthwise'), BlockConfig(input_filters=40, output_filters=80, kernel_size=3, num_repeat=3, expand_ratio=6, strides=(2, 2), se_ratio=0.25, id_skip=True, fused_conv=False, conv_type='depthwise'), BlockConfig(input_filters=80, output_filters=112, kernel_size=5, num_repeat=3, expand_ratio=6, strides=(1, 1), se_ratio=0.25, id_skip=True, fused_conv=False, conv_type='depthwise'), BlockConfig(input_filters=112, output_filters=192, kernel_size=5, num_repeat=4, expand_ratio=6, strides=(2, 2), se_ratio=0.25, id_skip=True, fused_conv=False, conv_type='depthwise'), BlockConfig(input_filters=192, output_filters=320, kernel_size=3, num_repeat=1, expand_ratio=6, strides=(1, 1), se_ratio=0.25, id_skip=True, fused_conv=False, conv_type='depthwise')), stem_base_filters=32, top_base_filters=1280, activation='simple_swish', batch_norm='default', bn_momentum=0.99, bn_epsilon=0.001, weight_decay=5e-06, drop_connect_rate=0.2, depth_divisor=8, min_depth=None, use_se=True, input_channels=3, num_classes=1000, model_name='efficientnet', rescale_input=False, data_format='channels_last', dtype='float32')\n"
     ]
    },
    {
     "name": "stdout",
     "output_type": "stream",
     "text": [
      "I0503 09:34:25.632093 4663033344 ssd_efficientnet_bifpn_feature_extractor.py:142] EfficientDet EfficientNet backbone version: efficientnet-b1\n",
      "I0503 09:34:25.632245 4663033344 ssd_efficientnet_bifpn_feature_extractor.py:144] EfficientDet BiFPN num filters: 88\n",
      "I0503 09:34:25.632339 4663033344 ssd_efficientnet_bifpn_feature_extractor.py:145] EfficientDet BiFPN num iterations: 4\n",
      "I0503 09:34:25.635967 4663033344 efficientnet_model.py:147] round_filter input=32 output=32\n",
      "I0503 09:34:25.647503 4663033344 efficientnet_model.py:147] round_filter input=32 output=32\n",
      "I0503 09:34:25.647600 4663033344 efficientnet_model.py:147] round_filter input=16 output=16\n",
      "I0503 09:34:25.748124 4663033344 efficientnet_model.py:147] round_filter input=16 output=16\n",
      "I0503 09:34:25.748234 4663033344 efficientnet_model.py:147] round_filter input=24 output=24\n",
      "I0503 09:34:25.935088 4663033344 efficientnet_model.py:147] round_filter input=24 output=24\n",
      "I0503 09:34:25.935195 4663033344 efficientnet_model.py:147] round_filter input=40 output=40\n",
      "I0503 09:34:26.106884 4663033344 efficientnet_model.py:147] round_filter input=40 output=40\n",
      "I0503 09:34:26.106989 4663033344 efficientnet_model.py:147] round_filter input=80 output=80\n",
      "I0503 09:34:26.410447 4663033344 efficientnet_model.py:147] round_filter input=80 output=80\n",
      "I0503 09:34:26.410552 4663033344 efficientnet_model.py:147] round_filter input=112 output=112\n",
      "I0503 09:34:26.640352 4663033344 efficientnet_model.py:147] round_filter input=112 output=112\n",
      "I0503 09:34:26.640463 4663033344 efficientnet_model.py:147] round_filter input=192 output=192\n",
      "I0503 09:34:26.944551 4663033344 efficientnet_model.py:147] round_filter input=192 output=192\n",
      "I0503 09:34:26.944664 4663033344 efficientnet_model.py:147] round_filter input=320 output=320\n",
      "I0503 09:34:27.087350 4663033344 efficientnet_model.py:147] round_filter input=1280 output=1280\n",
      "I0503 09:34:27.114732 4663033344 efficientnet_model.py:458] Building model efficientnet with params ModelConfig(width_coefficient=1.0, depth_coefficient=1.1, resolution=240, dropout_rate=0.2, blocks=(BlockConfig(input_filters=32, output_filters=16, kernel_size=3, num_repeat=1, expand_ratio=1, strides=(1, 1), se_ratio=0.25, id_skip=True, fused_conv=False, conv_type='depthwise'), BlockConfig(input_filters=16, output_filters=24, kernel_size=3, num_repeat=2, expand_ratio=6, strides=(2, 2), se_ratio=0.25, id_skip=True, fused_conv=False, conv_type='depthwise'), BlockConfig(input_filters=24, output_filters=40, kernel_size=5, num_repeat=2, expand_ratio=6, strides=(2, 2), se_ratio=0.25, id_skip=True, fused_conv=False, conv_type='depthwise'), BlockConfig(input_filters=40, output_filters=80, kernel_size=3, num_repeat=3, expand_ratio=6, strides=(2, 2), se_ratio=0.25, id_skip=True, fused_conv=False, conv_type='depthwise'), BlockConfig(input_filters=80, output_filters=112, kernel_size=5, num_repeat=3, expand_ratio=6, strides=(1, 1), se_ratio=0.25, id_skip=True, fused_conv=False, conv_type='depthwise'), BlockConfig(input_filters=112, output_filters=192, kernel_size=5, num_repeat=4, expand_ratio=6, strides=(2, 2), se_ratio=0.25, id_skip=True, fused_conv=False, conv_type='depthwise'), BlockConfig(input_filters=192, output_filters=320, kernel_size=3, num_repeat=1, expand_ratio=6, strides=(1, 1), se_ratio=0.25, id_skip=True, fused_conv=False, conv_type='depthwise')), stem_base_filters=32, top_base_filters=1280, activation='simple_swish', batch_norm='default', bn_momentum=0.99, bn_epsilon=0.001, weight_decay=5e-06, drop_connect_rate=0.2, depth_divisor=8, min_depth=None, use_se=True, input_channels=3, num_classes=1000, model_name='efficientnet', rescale_input=False, data_format='channels_last', dtype='float32')\n",
      "I0503 09:34:27.183573 4663033344 ssd_efficientnet_bifpn_feature_extractor.py:142] EfficientDet EfficientNet backbone version: efficientnet-b2\n",
      "I0503 09:34:27.183688 4663033344 ssd_efficientnet_bifpn_feature_extractor.py:144] EfficientDet BiFPN num filters: 112\n",
      "I0503 09:34:27.183743 4663033344 ssd_efficientnet_bifpn_feature_extractor.py:145] EfficientDet BiFPN num iterations: 5\n",
      "I0503 09:34:27.187307 4663033344 efficientnet_model.py:147] round_filter input=32 output=32\n",
      "I0503 09:34:27.198853 4663033344 efficientnet_model.py:147] round_filter input=32 output=32\n",
      "I0503 09:34:27.198953 4663033344 efficientnet_model.py:147] round_filter input=16 output=16\n",
      "I0503 09:34:27.289810 4663033344 efficientnet_model.py:147] round_filter input=16 output=16\n",
      "I0503 09:34:27.289914 4663033344 efficientnet_model.py:147] round_filter input=24 output=24\n",
      "I0503 09:34:27.463343 4663033344 efficientnet_model.py:147] round_filter input=24 output=24\n",
      "I0503 09:34:27.463450 4663033344 efficientnet_model.py:147] round_filter input=40 output=48\n",
      "I0503 09:34:27.635183 4663033344 efficientnet_model.py:147] round_filter input=40 output=48\n",
      "I0503 09:34:27.635301 4663033344 efficientnet_model.py:147] round_filter input=80 output=88\n",
      "I0503 09:34:27.859332 4663033344 efficientnet_model.py:147] round_filter input=80 output=88\n",
      "I0503 09:34:27.859433 4663033344 efficientnet_model.py:147] round_filter input=112 output=120\n",
      "I0503 09:34:28.103598 4663033344 efficientnet_model.py:147] round_filter input=112 output=120\n",
      "I0503 09:34:28.103703 4663033344 efficientnet_model.py:147] round_filter input=192 output=208\n",
      "I0503 09:34:28.421715 4663033344 efficientnet_model.py:147] round_filter input=192 output=208\n",
      "I0503 09:34:28.421823 4663033344 efficientnet_model.py:147] round_filter input=320 output=352\n",
      "I0503 09:34:28.565792 4663033344 efficientnet_model.py:147] round_filter input=1280 output=1408\n",
      "I0503 09:34:28.598489 4663033344 efficientnet_model.py:458] Building model efficientnet with params ModelConfig(width_coefficient=1.1, depth_coefficient=1.2, resolution=260, dropout_rate=0.3, blocks=(BlockConfig(input_filters=32, output_filters=16, kernel_size=3, num_repeat=1, expand_ratio=1, strides=(1, 1), se_ratio=0.25, id_skip=True, fused_conv=False, conv_type='depthwise'), BlockConfig(input_filters=16, output_filters=24, kernel_size=3, num_repeat=2, expand_ratio=6, strides=(2, 2), se_ratio=0.25, id_skip=True, fused_conv=False, conv_type='depthwise'), BlockConfig(input_filters=24, output_filters=40, kernel_size=5, num_repeat=2, expand_ratio=6, strides=(2, 2), se_ratio=0.25, id_skip=True, fused_conv=False, conv_type='depthwise'), BlockConfig(input_filters=40, output_filters=80, kernel_size=3, num_repeat=3, expand_ratio=6, strides=(2, 2), se_ratio=0.25, id_skip=True, fused_conv=False, conv_type='depthwise'), BlockConfig(input_filters=80, output_filters=112, kernel_size=5, num_repeat=3, expand_ratio=6, strides=(1, 1), se_ratio=0.25, id_skip=True, fused_conv=False, conv_type='depthwise'), BlockConfig(input_filters=112, output_filters=192, kernel_size=5, num_repeat=4, expand_ratio=6, strides=(2, 2), se_ratio=0.25, id_skip=True, fused_conv=False, conv_type='depthwise'), BlockConfig(input_filters=192, output_filters=320, kernel_size=3, num_repeat=1, expand_ratio=6, strides=(1, 1), se_ratio=0.25, id_skip=True, fused_conv=False, conv_type='depthwise')), stem_base_filters=32, top_base_filters=1280, activation='simple_swish', batch_norm='default', bn_momentum=0.99, bn_epsilon=0.001, weight_decay=5e-06, drop_connect_rate=0.2, depth_divisor=8, min_depth=None, use_se=True, input_channels=3, num_classes=1000, model_name='efficientnet', rescale_input=False, data_format='channels_last', dtype='float32')\n",
      "I0503 09:34:28.670300 4663033344 ssd_efficientnet_bifpn_feature_extractor.py:142] EfficientDet EfficientNet backbone version: efficientnet-b3\n",
      "I0503 09:34:28.670405 4663033344 ssd_efficientnet_bifpn_feature_extractor.py:144] EfficientDet BiFPN num filters: 160\n",
      "I0503 09:34:28.670456 4663033344 ssd_efficientnet_bifpn_feature_extractor.py:145] EfficientDet BiFPN num iterations: 6\n",
      "I0503 09:34:28.674039 4663033344 efficientnet_model.py:147] round_filter input=32 output=40\n",
      "I0503 09:34:28.684990 4663033344 efficientnet_model.py:147] round_filter input=32 output=40\n",
      "I0503 09:34:28.685081 4663033344 efficientnet_model.py:147] round_filter input=16 output=24\n",
      "I0503 09:34:28.780929 4663033344 efficientnet_model.py:147] round_filter input=16 output=24\n",
      "I0503 09:34:28.781041 4663033344 efficientnet_model.py:147] round_filter input=24 output=32\n"
     ]
    },
    {
     "name": "stdout",
     "output_type": "stream",
     "text": [
      "I0503 09:34:28.962437 4663033344 efficientnet_model.py:147] round_filter input=24 output=32\n",
      "I0503 09:34:28.962552 4663033344 efficientnet_model.py:147] round_filter input=40 output=48\n",
      "I0503 09:34:29.140904 4663033344 efficientnet_model.py:147] round_filter input=40 output=48\n",
      "I0503 09:34:29.141007 4663033344 efficientnet_model.py:147] round_filter input=80 output=96\n",
      "I0503 09:34:29.590869 4663033344 efficientnet_model.py:147] round_filter input=80 output=96\n",
      "I0503 09:34:29.590973 4663033344 efficientnet_model.py:147] round_filter input=112 output=136\n",
      "I0503 09:34:29.867781 4663033344 efficientnet_model.py:147] round_filter input=112 output=136\n",
      "I0503 09:34:29.867888 4663033344 efficientnet_model.py:147] round_filter input=192 output=232\n",
      "I0503 09:34:30.249655 4663033344 efficientnet_model.py:147] round_filter input=192 output=232\n",
      "I0503 09:34:30.249768 4663033344 efficientnet_model.py:147] round_filter input=320 output=384\n",
      "I0503 09:34:30.382458 4663033344 efficientnet_model.py:147] round_filter input=1280 output=1536\n",
      "I0503 09:34:30.413277 4663033344 efficientnet_model.py:458] Building model efficientnet with params ModelConfig(width_coefficient=1.2, depth_coefficient=1.4, resolution=300, dropout_rate=0.3, blocks=(BlockConfig(input_filters=32, output_filters=16, kernel_size=3, num_repeat=1, expand_ratio=1, strides=(1, 1), se_ratio=0.25, id_skip=True, fused_conv=False, conv_type='depthwise'), BlockConfig(input_filters=16, output_filters=24, kernel_size=3, num_repeat=2, expand_ratio=6, strides=(2, 2), se_ratio=0.25, id_skip=True, fused_conv=False, conv_type='depthwise'), BlockConfig(input_filters=24, output_filters=40, kernel_size=5, num_repeat=2, expand_ratio=6, strides=(2, 2), se_ratio=0.25, id_skip=True, fused_conv=False, conv_type='depthwise'), BlockConfig(input_filters=40, output_filters=80, kernel_size=3, num_repeat=3, expand_ratio=6, strides=(2, 2), se_ratio=0.25, id_skip=True, fused_conv=False, conv_type='depthwise'), BlockConfig(input_filters=80, output_filters=112, kernel_size=5, num_repeat=3, expand_ratio=6, strides=(1, 1), se_ratio=0.25, id_skip=True, fused_conv=False, conv_type='depthwise'), BlockConfig(input_filters=112, output_filters=192, kernel_size=5, num_repeat=4, expand_ratio=6, strides=(2, 2), se_ratio=0.25, id_skip=True, fused_conv=False, conv_type='depthwise'), BlockConfig(input_filters=192, output_filters=320, kernel_size=3, num_repeat=1, expand_ratio=6, strides=(1, 1), se_ratio=0.25, id_skip=True, fused_conv=False, conv_type='depthwise')), stem_base_filters=32, top_base_filters=1280, activation='simple_swish', batch_norm='default', bn_momentum=0.99, bn_epsilon=0.001, weight_decay=5e-06, drop_connect_rate=0.2, depth_divisor=8, min_depth=None, use_se=True, input_channels=3, num_classes=1000, model_name='efficientnet', rescale_input=False, data_format='channels_last', dtype='float32')\n",
      "I0503 09:34:30.490492 4663033344 ssd_efficientnet_bifpn_feature_extractor.py:142] EfficientDet EfficientNet backbone version: efficientnet-b4\n",
      "I0503 09:34:30.490597 4663033344 ssd_efficientnet_bifpn_feature_extractor.py:144] EfficientDet BiFPN num filters: 224\n",
      "I0503 09:34:30.490647 4663033344 ssd_efficientnet_bifpn_feature_extractor.py:145] EfficientDet BiFPN num iterations: 7\n",
      "I0503 09:34:30.494096 4663033344 efficientnet_model.py:147] round_filter input=32 output=48\n",
      "I0503 09:34:30.505008 4663033344 efficientnet_model.py:147] round_filter input=32 output=48\n",
      "I0503 09:34:30.505099 4663033344 efficientnet_model.py:147] round_filter input=16 output=24\n",
      "I0503 09:34:30.591386 4663033344 efficientnet_model.py:147] round_filter input=16 output=24\n",
      "I0503 09:34:30.591490 4663033344 efficientnet_model.py:147] round_filter input=24 output=32\n",
      "I0503 09:34:30.808379 4663033344 efficientnet_model.py:147] round_filter input=24 output=32\n",
      "I0503 09:34:30.808481 4663033344 efficientnet_model.py:147] round_filter input=40 output=56\n",
      "I0503 09:34:31.024381 4663033344 efficientnet_model.py:147] round_filter input=40 output=56\n",
      "I0503 09:34:31.024485 4663033344 efficientnet_model.py:147] round_filter input=80 output=112\n",
      "I0503 09:34:31.354923 4663033344 efficientnet_model.py:147] round_filter input=80 output=112\n",
      "I0503 09:34:31.355026 4663033344 efficientnet_model.py:147] round_filter input=112 output=160\n",
      "I0503 09:34:31.701864 4663033344 efficientnet_model.py:147] round_filter input=112 output=160\n",
      "I0503 09:34:31.701971 4663033344 efficientnet_model.py:147] round_filter input=192 output=272\n",
      "I0503 09:34:32.184674 4663033344 efficientnet_model.py:147] round_filter input=192 output=272\n",
      "I0503 09:34:32.184777 4663033344 efficientnet_model.py:147] round_filter input=320 output=448\n",
      "I0503 09:34:32.317901 4663033344 efficientnet_model.py:147] round_filter input=1280 output=1792\n",
      "I0503 09:34:32.350975 4663033344 efficientnet_model.py:458] Building model efficientnet with params ModelConfig(width_coefficient=1.4, depth_coefficient=1.8, resolution=380, dropout_rate=0.4, blocks=(BlockConfig(input_filters=32, output_filters=16, kernel_size=3, num_repeat=1, expand_ratio=1, strides=(1, 1), se_ratio=0.25, id_skip=True, fused_conv=False, conv_type='depthwise'), BlockConfig(input_filters=16, output_filters=24, kernel_size=3, num_repeat=2, expand_ratio=6, strides=(2, 2), se_ratio=0.25, id_skip=True, fused_conv=False, conv_type='depthwise'), BlockConfig(input_filters=24, output_filters=40, kernel_size=5, num_repeat=2, expand_ratio=6, strides=(2, 2), se_ratio=0.25, id_skip=True, fused_conv=False, conv_type='depthwise'), BlockConfig(input_filters=40, output_filters=80, kernel_size=3, num_repeat=3, expand_ratio=6, strides=(2, 2), se_ratio=0.25, id_skip=True, fused_conv=False, conv_type='depthwise'), BlockConfig(input_filters=80, output_filters=112, kernel_size=5, num_repeat=3, expand_ratio=6, strides=(1, 1), se_ratio=0.25, id_skip=True, fused_conv=False, conv_type='depthwise'), BlockConfig(input_filters=112, output_filters=192, kernel_size=5, num_repeat=4, expand_ratio=6, strides=(2, 2), se_ratio=0.25, id_skip=True, fused_conv=False, conv_type='depthwise'), BlockConfig(input_filters=192, output_filters=320, kernel_size=3, num_repeat=1, expand_ratio=6, strides=(1, 1), se_ratio=0.25, id_skip=True, fused_conv=False, conv_type='depthwise')), stem_base_filters=32, top_base_filters=1280, activation='simple_swish', batch_norm='default', bn_momentum=0.99, bn_epsilon=0.001, weight_decay=5e-06, drop_connect_rate=0.2, depth_divisor=8, min_depth=None, use_se=True, input_channels=3, num_classes=1000, model_name='efficientnet', rescale_input=False, data_format='channels_last', dtype='float32')\n",
      "I0503 09:34:32.590697 4663033344 ssd_efficientnet_bifpn_feature_extractor.py:142] EfficientDet EfficientNet backbone version: efficientnet-b5\n",
      "I0503 09:34:32.590811 4663033344 ssd_efficientnet_bifpn_feature_extractor.py:144] EfficientDet BiFPN num filters: 288\n",
      "I0503 09:34:32.590867 4663033344 ssd_efficientnet_bifpn_feature_extractor.py:145] EfficientDet BiFPN num iterations: 7\n",
      "I0503 09:34:32.594738 4663033344 efficientnet_model.py:147] round_filter input=32 output=48\n",
      "I0503 09:34:32.606096 4663033344 efficientnet_model.py:147] round_filter input=32 output=48\n",
      "I0503 09:34:32.606174 4663033344 efficientnet_model.py:147] round_filter input=16 output=24\n",
      "I0503 09:34:32.734202 4663033344 efficientnet_model.py:147] round_filter input=16 output=24\n",
      "I0503 09:34:32.734302 4663033344 efficientnet_model.py:147] round_filter input=24 output=40\n",
      "I0503 09:34:33.004720 4663033344 efficientnet_model.py:147] round_filter input=24 output=40\n",
      "I0503 09:34:33.004825 4663033344 efficientnet_model.py:147] round_filter input=40 output=64\n",
      "I0503 09:34:33.284772 4663033344 efficientnet_model.py:147] round_filter input=40 output=64\n",
      "I0503 09:34:33.284879 4663033344 efficientnet_model.py:147] round_filter input=80 output=128\n",
      "I0503 09:34:33.685010 4663033344 efficientnet_model.py:147] round_filter input=80 output=128\n",
      "I0503 09:34:33.685114 4663033344 efficientnet_model.py:147] round_filter input=112 output=176\n",
      "I0503 09:34:34.109764 4663033344 efficientnet_model.py:147] round_filter input=112 output=176\n",
      "I0503 09:34:34.109869 4663033344 efficientnet_model.py:147] round_filter input=192 output=304\n",
      "I0503 09:34:34.716207 4663033344 efficientnet_model.py:147] round_filter input=192 output=304\n",
      "I0503 09:34:34.716317 4663033344 efficientnet_model.py:147] round_filter input=320 output=512\n"
     ]
    },
    {
     "name": "stdout",
     "output_type": "stream",
     "text": [
      "I0503 09:34:34.958418 4663033344 efficientnet_model.py:147] round_filter input=1280 output=2048\n",
      "I0503 09:34:34.995937 4663033344 efficientnet_model.py:458] Building model efficientnet with params ModelConfig(width_coefficient=1.6, depth_coefficient=2.2, resolution=456, dropout_rate=0.4, blocks=(BlockConfig(input_filters=32, output_filters=16, kernel_size=3, num_repeat=1, expand_ratio=1, strides=(1, 1), se_ratio=0.25, id_skip=True, fused_conv=False, conv_type='depthwise'), BlockConfig(input_filters=16, output_filters=24, kernel_size=3, num_repeat=2, expand_ratio=6, strides=(2, 2), se_ratio=0.25, id_skip=True, fused_conv=False, conv_type='depthwise'), BlockConfig(input_filters=24, output_filters=40, kernel_size=5, num_repeat=2, expand_ratio=6, strides=(2, 2), se_ratio=0.25, id_skip=True, fused_conv=False, conv_type='depthwise'), BlockConfig(input_filters=40, output_filters=80, kernel_size=3, num_repeat=3, expand_ratio=6, strides=(2, 2), se_ratio=0.25, id_skip=True, fused_conv=False, conv_type='depthwise'), BlockConfig(input_filters=80, output_filters=112, kernel_size=5, num_repeat=3, expand_ratio=6, strides=(1, 1), se_ratio=0.25, id_skip=True, fused_conv=False, conv_type='depthwise'), BlockConfig(input_filters=112, output_filters=192, kernel_size=5, num_repeat=4, expand_ratio=6, strides=(2, 2), se_ratio=0.25, id_skip=True, fused_conv=False, conv_type='depthwise'), BlockConfig(input_filters=192, output_filters=320, kernel_size=3, num_repeat=1, expand_ratio=6, strides=(1, 1), se_ratio=0.25, id_skip=True, fused_conv=False, conv_type='depthwise')), stem_base_filters=32, top_base_filters=1280, activation='simple_swish', batch_norm='default', bn_momentum=0.99, bn_epsilon=0.001, weight_decay=5e-06, drop_connect_rate=0.2, depth_divisor=8, min_depth=None, use_se=True, input_channels=3, num_classes=1000, model_name='efficientnet', rescale_input=False, data_format='channels_last', dtype='float32')\n",
      "I0503 09:34:35.100065 4663033344 ssd_efficientnet_bifpn_feature_extractor.py:142] EfficientDet EfficientNet backbone version: efficientnet-b6\n",
      "I0503 09:34:35.100169 4663033344 ssd_efficientnet_bifpn_feature_extractor.py:144] EfficientDet BiFPN num filters: 384\n",
      "I0503 09:34:35.100219 4663033344 ssd_efficientnet_bifpn_feature_extractor.py:145] EfficientDet BiFPN num iterations: 8\n",
      "I0503 09:34:35.103719 4663033344 efficientnet_model.py:147] round_filter input=32 output=56\n",
      "I0503 09:34:35.114564 4663033344 efficientnet_model.py:147] round_filter input=32 output=56\n",
      "I0503 09:34:35.114651 4663033344 efficientnet_model.py:147] round_filter input=16 output=32\n",
      "I0503 09:34:35.247648 4663033344 efficientnet_model.py:147] round_filter input=16 output=32\n",
      "I0503 09:34:35.247749 4663033344 efficientnet_model.py:147] round_filter input=24 output=40\n",
      "I0503 09:34:35.584231 4663033344 efficientnet_model.py:147] round_filter input=24 output=40\n",
      "I0503 09:34:35.584334 4663033344 efficientnet_model.py:147] round_filter input=40 output=72\n",
      "I0503 09:34:35.938288 4663033344 efficientnet_model.py:147] round_filter input=40 output=72\n",
      "I0503 09:34:35.938395 4663033344 efficientnet_model.py:147] round_filter input=80 output=144\n",
      "I0503 09:34:36.630076 4663033344 efficientnet_model.py:147] round_filter input=80 output=144\n",
      "I0503 09:34:36.630192 4663033344 efficientnet_model.py:147] round_filter input=112 output=200\n",
      "I0503 09:34:37.125671 4663033344 efficientnet_model.py:147] round_filter input=112 output=200\n",
      "I0503 09:34:37.125775 4663033344 efficientnet_model.py:147] round_filter input=192 output=344\n",
      "I0503 09:34:37.867681 4663033344 efficientnet_model.py:147] round_filter input=192 output=344\n",
      "I0503 09:34:37.867796 4663033344 efficientnet_model.py:147] round_filter input=320 output=576\n",
      "I0503 09:34:38.133474 4663033344 efficientnet_model.py:147] round_filter input=1280 output=2304\n",
      "I0503 09:34:38.174324 4663033344 efficientnet_model.py:458] Building model efficientnet with params ModelConfig(width_coefficient=1.8, depth_coefficient=2.6, resolution=528, dropout_rate=0.5, blocks=(BlockConfig(input_filters=32, output_filters=16, kernel_size=3, num_repeat=1, expand_ratio=1, strides=(1, 1), se_ratio=0.25, id_skip=True, fused_conv=False, conv_type='depthwise'), BlockConfig(input_filters=16, output_filters=24, kernel_size=3, num_repeat=2, expand_ratio=6, strides=(2, 2), se_ratio=0.25, id_skip=True, fused_conv=False, conv_type='depthwise'), BlockConfig(input_filters=24, output_filters=40, kernel_size=5, num_repeat=2, expand_ratio=6, strides=(2, 2), se_ratio=0.25, id_skip=True, fused_conv=False, conv_type='depthwise'), BlockConfig(input_filters=40, output_filters=80, kernel_size=3, num_repeat=3, expand_ratio=6, strides=(2, 2), se_ratio=0.25, id_skip=True, fused_conv=False, conv_type='depthwise'), BlockConfig(input_filters=80, output_filters=112, kernel_size=5, num_repeat=3, expand_ratio=6, strides=(1, 1), se_ratio=0.25, id_skip=True, fused_conv=False, conv_type='depthwise'), BlockConfig(input_filters=112, output_filters=192, kernel_size=5, num_repeat=4, expand_ratio=6, strides=(2, 2), se_ratio=0.25, id_skip=True, fused_conv=False, conv_type='depthwise'), BlockConfig(input_filters=192, output_filters=320, kernel_size=3, num_repeat=1, expand_ratio=6, strides=(1, 1), se_ratio=0.25, id_skip=True, fused_conv=False, conv_type='depthwise')), stem_base_filters=32, top_base_filters=1280, activation='simple_swish', batch_norm='default', bn_momentum=0.99, bn_epsilon=0.001, weight_decay=5e-06, drop_connect_rate=0.2, depth_divisor=8, min_depth=None, use_se=True, input_channels=3, num_classes=1000, model_name='efficientnet', rescale_input=False, data_format='channels_last', dtype='float32')\n",
      "I0503 09:34:38.290293 4663033344 ssd_efficientnet_bifpn_feature_extractor.py:142] EfficientDet EfficientNet backbone version: efficientnet-b7\n",
      "I0503 09:34:38.290403 4663033344 ssd_efficientnet_bifpn_feature_extractor.py:144] EfficientDet BiFPN num filters: 384\n",
      "I0503 09:34:38.290453 4663033344 ssd_efficientnet_bifpn_feature_extractor.py:145] EfficientDet BiFPN num iterations: 8\n",
      "I0503 09:34:38.294067 4663033344 efficientnet_model.py:147] round_filter input=32 output=64\n",
      "I0503 09:34:38.305339 4663033344 efficientnet_model.py:147] round_filter input=32 output=64\n",
      "I0503 09:34:38.305438 4663033344 efficientnet_model.py:147] round_filter input=16 output=32\n",
      "I0503 09:34:38.508533 4663033344 efficientnet_model.py:147] round_filter input=16 output=32\n",
      "I0503 09:34:38.508645 4663033344 efficientnet_model.py:147] round_filter input=24 output=48\n",
      "I0503 09:34:38.918210 4663033344 efficientnet_model.py:147] round_filter input=24 output=48\n",
      "I0503 09:34:38.918313 4663033344 efficientnet_model.py:147] round_filter input=40 output=80\n",
      "I0503 09:34:39.347305 4663033344 efficientnet_model.py:147] round_filter input=40 output=80\n",
      "I0503 09:34:39.347437 4663033344 efficientnet_model.py:147] round_filter input=80 output=160\n",
      "I0503 09:34:40.013509 4663033344 efficientnet_model.py:147] round_filter input=80 output=160\n",
      "I0503 09:34:40.013758 4663033344 efficientnet_model.py:147] round_filter input=112 output=224\n",
      "I0503 09:34:41.172536 4663033344 efficientnet_model.py:147] round_filter input=112 output=224\n",
      "I0503 09:34:41.172651 4663033344 efficientnet_model.py:147] round_filter input=192 output=384\n",
      "I0503 09:34:42.237876 4663033344 efficientnet_model.py:147] round_filter input=192 output=384\n",
      "I0503 09:34:42.238001 4663033344 efficientnet_model.py:147] round_filter input=320 output=640\n",
      "I0503 09:34:42.653572 4663033344 efficientnet_model.py:147] round_filter input=1280 output=2560\n",
      "I0503 09:34:42.704131 4663033344 efficientnet_model.py:458] Building model efficientnet with params ModelConfig(width_coefficient=2.0, depth_coefficient=3.1, resolution=600, dropout_rate=0.5, blocks=(BlockConfig(input_filters=32, output_filters=16, kernel_size=3, num_repeat=1, expand_ratio=1, strides=(1, 1), se_ratio=0.25, id_skip=True, fused_conv=False, conv_type='depthwise'), BlockConfig(input_filters=16, output_filters=24, kernel_size=3, num_repeat=2, expand_ratio=6, strides=(2, 2), se_ratio=0.25, id_skip=True, fused_conv=False, conv_type='depthwise'), BlockConfig(input_filters=24, output_filters=40, kernel_size=5, num_repeat=2, expand_ratio=6, strides=(2, 2), se_ratio=0.25, id_skip=True, fused_conv=False, conv_type='depthwise'), BlockConfig(input_filters=40, output_filters=80, kernel_size=3, num_repeat=3, expand_ratio=6, strides=(2, 2), se_ratio=0.25, id_skip=True, fused_conv=False, conv_type='depthwise'), BlockConfig(input_filters=80, output_filters=112, kernel_size=5, num_repeat=3, expand_ratio=6, strides=(1, 1), se_ratio=0.25, id_skip=True, fused_conv=False, conv_type='depthwise'), BlockConfig(input_filters=112, output_filters=192, kernel_size=5, num_repeat=4, expand_ratio=6, strides=(2, 2), se_ratio=0.25, id_skip=True, fused_conv=False, conv_type='depthwise'), BlockConfig(input_filters=192, output_filters=320, kernel_size=3, num_repeat=1, expand_ratio=6, strides=(1, 1), se_ratio=0.25, id_skip=True, fused_conv=False, conv_type='depthwise')), stem_base_filters=32, top_base_filters=1280, activation='simple_swish', batch_norm='default', bn_momentum=0.99, bn_epsilon=0.001, weight_decay=5e-06, drop_connect_rate=0.2, depth_divisor=8, min_depth=None, use_se=True, input_channels=3, num_classes=1000, model_name='efficientnet', rescale_input=False, data_format='channels_last', dtype='float32')\n"
     ]
    },
    {
     "name": "stdout",
     "output_type": "stream",
     "text": [
      "INFO:tensorflow:time(__main__.ModelBuilderTF2Test.test_create_ssd_models_from_config): 18.49s\r\n",
      "I0503 09:34:42.851662 4663033344 test_util.py:2075] time(__main__.ModelBuilderTF2Test.test_create_ssd_models_from_config): 18.49s\r\n",
      "[       OK ] ModelBuilderTF2Test.test_create_ssd_models_from_config\r\n",
      "[ RUN      ] ModelBuilderTF2Test.test_invalid_faster_rcnn_batchnorm_update\r\n",
      "INFO:tensorflow:time(__main__.ModelBuilderTF2Test.test_invalid_faster_rcnn_batchnorm_update): 0.0s\r\n",
      "I0503 09:34:42.860703 4663033344 test_util.py:2075] time(__main__.ModelBuilderTF2Test.test_invalid_faster_rcnn_batchnorm_update): 0.0s\r\n",
      "[       OK ] ModelBuilderTF2Test.test_invalid_faster_rcnn_batchnorm_update\r\n",
      "[ RUN      ] ModelBuilderTF2Test.test_invalid_first_stage_nms_iou_threshold\r\n",
      "INFO:tensorflow:time(__main__.ModelBuilderTF2Test.test_invalid_first_stage_nms_iou_threshold): 0.0s\r\n",
      "I0503 09:34:42.862391 4663033344 test_util.py:2075] time(__main__.ModelBuilderTF2Test.test_invalid_first_stage_nms_iou_threshold): 0.0s\r\n",
      "[       OK ] ModelBuilderTF2Test.test_invalid_first_stage_nms_iou_threshold\r\n",
      "[ RUN      ] ModelBuilderTF2Test.test_invalid_model_config_proto\r\n",
      "INFO:tensorflow:time(__main__.ModelBuilderTF2Test.test_invalid_model_config_proto): 0.0s\r\n",
      "I0503 09:34:42.862768 4663033344 test_util.py:2075] time(__main__.ModelBuilderTF2Test.test_invalid_model_config_proto): 0.0s\r\n",
      "[       OK ] ModelBuilderTF2Test.test_invalid_model_config_proto\r\n",
      "[ RUN      ] ModelBuilderTF2Test.test_invalid_second_stage_batch_size\r\n",
      "INFO:tensorflow:time(__main__.ModelBuilderTF2Test.test_invalid_second_stage_batch_size): 0.0s\r\n",
      "I0503 09:34:42.864467 4663033344 test_util.py:2075] time(__main__.ModelBuilderTF2Test.test_invalid_second_stage_batch_size): 0.0s\r\n",
      "[       OK ] ModelBuilderTF2Test.test_invalid_second_stage_batch_size\r\n",
      "[ RUN      ] ModelBuilderTF2Test.test_session\r\n",
      "[  SKIPPED ] ModelBuilderTF2Test.test_session\r\n",
      "[ RUN      ] ModelBuilderTF2Test.test_unknown_faster_rcnn_feature_extractor\r\n",
      "INFO:tensorflow:time(__main__.ModelBuilderTF2Test.test_unknown_faster_rcnn_feature_extractor): 0.0s\r\n",
      "I0503 09:34:42.866042 4663033344 test_util.py:2075] time(__main__.ModelBuilderTF2Test.test_unknown_faster_rcnn_feature_extractor): 0.0s\r\n",
      "[       OK ] ModelBuilderTF2Test.test_unknown_faster_rcnn_feature_extractor\r\n",
      "[ RUN      ] ModelBuilderTF2Test.test_unknown_meta_architecture\r\n",
      "INFO:tensorflow:time(__main__.ModelBuilderTF2Test.test_unknown_meta_architecture): 0.0s\r\n",
      "I0503 09:34:42.866449 4663033344 test_util.py:2075] time(__main__.ModelBuilderTF2Test.test_unknown_meta_architecture): 0.0s\r\n",
      "[       OK ] ModelBuilderTF2Test.test_unknown_meta_architecture\r\n",
      "[ RUN      ] ModelBuilderTF2Test.test_unknown_ssd_feature_extractor\r\n",
      "INFO:tensorflow:time(__main__.ModelBuilderTF2Test.test_unknown_ssd_feature_extractor): 0.0s\r\n",
      "I0503 09:34:42.867466 4663033344 test_util.py:2075] time(__main__.ModelBuilderTF2Test.test_unknown_ssd_feature_extractor): 0.0s\r\n",
      "[       OK ] ModelBuilderTF2Test.test_unknown_ssd_feature_extractor\r\n",
      "----------------------------------------------------------------------\r\n",
      "Ran 21 tests in 20.508s\r\n",
      "\r\n",
      "OK (skipped=1)\r\n"
     ]
    }
   ],
   "source": [
    "VERIFICATION_SCRIPT = os.path.join(paths['APIMODEL_PATH'], 'research', 'object_detection', 'builders', 'model_builder_tf2_test.py')\n",
    "# Verify Installation\n",
    "!python {VERIFICATION_SCRIPT}"
   ]
  },
  {
   "cell_type": "code",
   "execution_count": 14,
   "metadata": {},
   "outputs": [
    {
     "name": "stdout",
     "output_type": "stream",
     "text": [
      "Requirement already satisfied: tensorflow in /Users/benoit/.pyenv/versions/3.8.6/envs/lewagon/lib/python3.8/site-packages (2.4.1)\n",
      "Requirement already satisfied: tensorboard~=2.4 in /Users/benoit/.pyenv/versions/3.8.6/envs/lewagon/lib/python3.8/site-packages (from tensorflow) (2.4.0)\n",
      "Requirement already satisfied: keras-preprocessing~=1.1.2 in /Users/benoit/.pyenv/versions/3.8.6/envs/lewagon/lib/python3.8/site-packages (from tensorflow) (1.1.2)\n",
      "Requirement already satisfied: six~=1.15.0 in /Users/benoit/.pyenv/versions/3.8.6/envs/lewagon/lib/python3.8/site-packages (from tensorflow) (1.15.0)\n",
      "Requirement already satisfied: h5py~=2.10.0 in /Users/benoit/.pyenv/versions/3.8.6/envs/lewagon/lib/python3.8/site-packages (from tensorflow) (2.10.0)\n",
      "Requirement already satisfied: tensorflow-estimator<2.5.0,>=2.4.0 in /Users/benoit/.pyenv/versions/3.8.6/envs/lewagon/lib/python3.8/site-packages (from tensorflow) (2.4.0)\n",
      "Requirement already satisfied: google-pasta~=0.2 in /Users/benoit/.pyenv/versions/3.8.6/envs/lewagon/lib/python3.8/site-packages (from tensorflow) (0.2.0)\n",
      "Requirement already satisfied: grpcio~=1.32.0 in /Users/benoit/.pyenv/versions/3.8.6/envs/lewagon/lib/python3.8/site-packages (from tensorflow) (1.32.0)\n",
      "Requirement already satisfied: opt-einsum~=3.3.0 in /Users/benoit/.pyenv/versions/3.8.6/envs/lewagon/lib/python3.8/site-packages (from tensorflow) (3.3.0)\n",
      "Requirement already satisfied: protobuf>=3.9.2 in /Users/benoit/.pyenv/versions/3.8.6/envs/lewagon/lib/python3.8/site-packages (from tensorflow) (3.15.8)\n",
      "Requirement already satisfied: termcolor~=1.1.0 in /Users/benoit/.pyenv/versions/3.8.6/envs/lewagon/lib/python3.8/site-packages (from tensorflow) (1.1.0)\n",
      "Requirement already satisfied: wrapt~=1.12.1 in /Users/benoit/.pyenv/versions/3.8.6/envs/lewagon/lib/python3.8/site-packages (from tensorflow) (1.12.1)\n",
      "Requirement already satisfied: gast==0.3.3 in /Users/benoit/.pyenv/versions/3.8.6/envs/lewagon/lib/python3.8/site-packages (from tensorflow) (0.3.3)\n",
      "Requirement already satisfied: typing-extensions~=3.7.4 in /Users/benoit/.pyenv/versions/3.8.6/envs/lewagon/lib/python3.8/site-packages (from tensorflow) (3.7.4.3)\n",
      "Requirement already satisfied: wheel~=0.35 in /Users/benoit/.pyenv/versions/3.8.6/envs/lewagon/lib/python3.8/site-packages (from tensorflow) (0.36.2)\n",
      "Requirement already satisfied: absl-py~=0.10 in /Users/benoit/.pyenv/versions/3.8.6/envs/lewagon/lib/python3.8/site-packages (from tensorflow) (0.11.0)\n",
      "Requirement already satisfied: astunparse~=1.6.3 in /Users/benoit/.pyenv/versions/3.8.6/envs/lewagon/lib/python3.8/site-packages (from tensorflow) (1.6.3)\n",
      "Requirement already satisfied: flatbuffers~=1.12.0 in /Users/benoit/.pyenv/versions/3.8.6/envs/lewagon/lib/python3.8/site-packages (from tensorflow) (1.12)\n",
      "Requirement already satisfied: numpy~=1.19.2 in /Users/benoit/.pyenv/versions/3.8.6/envs/lewagon/lib/python3.8/site-packages (from tensorflow) (1.19.5)\n",
      "Requirement already satisfied: markdown>=2.6.8 in /Users/benoit/.pyenv/versions/3.8.6/envs/lewagon/lib/python3.8/site-packages (from tensorboard~=2.4->tensorflow) (3.3.3)\n",
      "Requirement already satisfied: werkzeug>=0.11.15 in /Users/benoit/.pyenv/versions/3.8.6/envs/lewagon/lib/python3.8/site-packages (from tensorboard~=2.4->tensorflow) (1.0.1)\n",
      "Requirement already satisfied: setuptools>=41.0.0 in /Users/benoit/.pyenv/versions/3.8.6/envs/lewagon/lib/python3.8/site-packages (from tensorboard~=2.4->tensorflow) (49.2.1)\n",
      "Requirement already satisfied: tensorboard-plugin-wit>=1.6.0 in /Users/benoit/.pyenv/versions/3.8.6/envs/lewagon/lib/python3.8/site-packages (from tensorboard~=2.4->tensorflow) (1.7.0)\n",
      "Requirement already satisfied: requests<3,>=2.21.0 in /Users/benoit/.pyenv/versions/3.8.6/envs/lewagon/lib/python3.8/site-packages (from tensorboard~=2.4->tensorflow) (2.25.1)\n",
      "Requirement already satisfied: google-auth-oauthlib<0.5,>=0.4.1 in /Users/benoit/.pyenv/versions/3.8.6/envs/lewagon/lib/python3.8/site-packages (from tensorboard~=2.4->tensorflow) (0.4.2)\n",
      "Requirement already satisfied: google-auth<2,>=1.6.3 in /Users/benoit/.pyenv/versions/3.8.6/envs/lewagon/lib/python3.8/site-packages (from tensorboard~=2.4->tensorflow) (1.24.0)\n",
      "Requirement already satisfied: rsa<5,>=3.1.4 in /Users/benoit/.pyenv/versions/3.8.6/envs/lewagon/lib/python3.8/site-packages (from google-auth<2,>=1.6.3->tensorboard~=2.4->tensorflow) (4.7)\n",
      "Requirement already satisfied: cachetools<5.0,>=2.0.0 in /Users/benoit/.pyenv/versions/3.8.6/envs/lewagon/lib/python3.8/site-packages (from google-auth<2,>=1.6.3->tensorboard~=2.4->tensorflow) (4.2.0)\n",
      "Requirement already satisfied: pyasn1-modules>=0.2.1 in /Users/benoit/.pyenv/versions/3.8.6/envs/lewagon/lib/python3.8/site-packages (from google-auth<2,>=1.6.3->tensorboard~=2.4->tensorflow) (0.2.8)\n",
      "Requirement already satisfied: requests-oauthlib>=0.7.0 in /Users/benoit/.pyenv/versions/3.8.6/envs/lewagon/lib/python3.8/site-packages (from google-auth-oauthlib<0.5,>=0.4.1->tensorboard~=2.4->tensorflow) (1.3.0)\n",
      "Requirement already satisfied: pyasn1<0.5.0,>=0.4.6 in /Users/benoit/.pyenv/versions/3.8.6/envs/lewagon/lib/python3.8/site-packages (from pyasn1-modules>=0.2.1->google-auth<2,>=1.6.3->tensorboard~=2.4->tensorflow) (0.4.8)\n",
      "Requirement already satisfied: urllib3<1.27,>=1.21.1 in /Users/benoit/.pyenv/versions/3.8.6/envs/lewagon/lib/python3.8/site-packages (from requests<3,>=2.21.0->tensorboard~=2.4->tensorflow) (1.26.2)\n",
      "Requirement already satisfied: certifi>=2017.4.17 in /Users/benoit/.pyenv/versions/3.8.6/envs/lewagon/lib/python3.8/site-packages (from requests<3,>=2.21.0->tensorboard~=2.4->tensorflow) (2020.12.5)\n",
      "Requirement already satisfied: chardet<5,>=3.0.2 in /Users/benoit/.pyenv/versions/3.8.6/envs/lewagon/lib/python3.8/site-packages (from requests<3,>=2.21.0->tensorboard~=2.4->tensorflow) (3.0.4)\n",
      "Requirement already satisfied: idna<3,>=2.5 in /Users/benoit/.pyenv/versions/3.8.6/envs/lewagon/lib/python3.8/site-packages (from requests<3,>=2.21.0->tensorboard~=2.4->tensorflow) (2.10)\n",
      "Requirement already satisfied: oauthlib>=3.0.0 in /Users/benoit/.pyenv/versions/3.8.6/envs/lewagon/lib/python3.8/site-packages (from requests-oauthlib>=0.7.0->google-auth-oauthlib<0.5,>=0.4.1->tensorboard~=2.4->tensorflow) (3.1.0)\n",
      "\u001b[33mWARNING: You are using pip version 21.0.1; however, version 21.1.1 is available.\n",
      "You should consider upgrading via the '/Users/benoit/.pyenv/versions/3.8.6/envs/lewagon/bin/python3.8 -m pip install --upgrade pip' command.\u001b[0m\n"
     ]
    }
   ],
   "source": [
    "!pip install tensorflow --upgrade"
   ]
  },
  {
   "cell_type": "code",
   "execution_count": 15,
   "metadata": {},
   "outputs": [
    {
     "name": "stdout",
     "output_type": "stream",
     "text": [
      "Found existing installation: protobuf 3.15.8\n",
      "Uninstalling protobuf-3.15.8:\n",
      "  Successfully uninstalled protobuf-3.15.8\n",
      "Found existing installation: matplotlib 3.2.0\n",
      "Uninstalling matplotlib-3.2.0:\n",
      "  Successfully uninstalled matplotlib-3.2.0\n",
      "Collecting protobuf\n",
      "  Using cached protobuf-3.15.8-cp38-cp38-macosx_10_9_x86_64.whl (1.0 MB)\n",
      "Collecting matplotlib==3.2\n",
      "  Using cached matplotlib-3.2.0-cp38-cp38-macosx_10_9_x86_64.whl (12.4 MB)\n",
      "Requirement already satisfied: cycler>=0.10 in /Users/benoit/.pyenv/versions/3.8.6/envs/lewagon/lib/python3.8/site-packages (from matplotlib==3.2) (0.10.0)\n",
      "Requirement already satisfied: numpy>=1.11 in /Users/benoit/.pyenv/versions/3.8.6/envs/lewagon/lib/python3.8/site-packages (from matplotlib==3.2) (1.19.5)\n",
      "Requirement already satisfied: pyparsing!=2.0.4,!=2.1.2,!=2.1.6,>=2.0.1 in /Users/benoit/.pyenv/versions/3.8.6/envs/lewagon/lib/python3.8/site-packages (from matplotlib==3.2) (2.4.7)\n",
      "Requirement already satisfied: python-dateutil>=2.1 in /Users/benoit/.pyenv/versions/3.8.6/envs/lewagon/lib/python3.8/site-packages (from matplotlib==3.2) (2.8.1)\n",
      "Requirement already satisfied: kiwisolver>=1.0.1 in /Users/benoit/.pyenv/versions/3.8.6/envs/lewagon/lib/python3.8/site-packages (from matplotlib==3.2) (1.3.1)\n",
      "Requirement already satisfied: six in /Users/benoit/.pyenv/versions/3.8.6/envs/lewagon/lib/python3.8/site-packages (from cycler>=0.10->matplotlib==3.2) (1.15.0)\n",
      "Installing collected packages: protobuf, matplotlib\n",
      "Successfully installed matplotlib-3.2.0 protobuf-3.15.8\n",
      "\u001b[33mWARNING: You are using pip version 21.0.1; however, version 21.1.1 is available.\n",
      "You should consider upgrading via the '/Users/benoit/.pyenv/versions/3.8.6/envs/lewagon/bin/python3.8 -m pip install --upgrade pip' command.\u001b[0m\n"
     ]
    }
   ],
   "source": [
    "!pip uninstall protobuf matplotlib -y\n",
    "!pip install protobuf matplotlib==3.2"
   ]
  },
  {
   "cell_type": "code",
   "execution_count": 16,
   "metadata": {},
   "outputs": [],
   "source": [
    "import object_detection"
   ]
  },
  {
   "cell_type": "code",
   "execution_count": 17,
   "metadata": {
    "scrolled": true
   },
   "outputs": [
    {
     "name": "stdout",
     "output_type": "stream",
     "text": [
      "Package                           Version\n",
      "--------------------------------- -----------\n",
      "absl-py                           0.11.0\n",
      "aiobotocore                       1.2.1\n",
      "aiohttp                           3.7.3\n",
      "aioitertools                      0.7.1\n",
      "alembic                           1.4.1\n",
      "altair                            4.1.0\n",
      "anyio                             2.0.2\n",
      "apache-beam                       2.28.0\n",
      "appdirs                           1.4.4\n",
      "appnope                           0.1.2\n",
      "argon2-cffi                       20.1.0\n",
      "args                              0.1.0\n",
      "astor                             0.8.1\n",
      "astroid                           2.4.2\n",
      "astunparse                        1.6.3\n",
      "async-generator                   1.10\n",
      "async-timeout                     3.0.1\n",
      "attrs                             20.3.0\n",
      "Automat                           20.2.0\n",
      "autopep8                          1.5.4\n",
      "avro-python3                      1.9.2.1\n",
      "Babel                             2.9.0\n",
      "backcall                          0.2.0\n",
      "base58                            2.1.0\n",
      "beautifulsoup4                    4.9.3\n",
      "black                             20.8b1\n",
      "bleach                            3.2.1\n",
      "blinker                           1.4\n",
      "botocore                          1.19.52\n",
      "branca                            0.4.2\n",
      "bs4                               0.0.1\n",
      "cachetools                        4.2.0\n",
      "certifi                           2020.12.5\n",
      "cffi                              1.14.4\n",
      "chardet                           3.0.4\n",
      "click                             7.1.2\n",
      "cloudpickle                       1.6.0\n",
      "cmdstanpy                         0.9.5\n",
      "colorama                          0.4.4\n",
      "confuse                           1.4.0\n",
      "constantly                        15.1.0\n",
      "contextlib2                       0.6.0.post1\n",
      "convertdate                       2.3.0\n",
      "coverage                          5.4\n",
      "crcmod                            1.7\n",
      "cryptography                      3.4.6\n",
      "cssselect                         1.1.0\n",
      "cycler                            0.10.0\n",
      "Cython                            0.29.17\n",
      "databricks-cli                    0.14.1\n",
      "dataclasses                       0.6\n",
      "decorator                         4.4.2\n",
      "defusedxml                        0.6.0\n",
      "dill                              0.3.1.1\n",
      "dm-tree                           0.1.5\n",
      "docker                            4.4.3\n",
      "docopt                            0.6.2\n",
      "docutils                          0.16\n",
      "entrypoints                       0.3\n",
      "ephem                             3.7.7.1\n",
      "fastapi                           0.63.0\n",
      "fastavro                          1.3.5\n",
      "fbprophet                         0.7.1\n",
      "flake8                            3.8.4\n",
      "Flask                             1.1.2\n",
      "flatbuffers                       1.12\n",
      "folium                            0.12.1\n",
      "fsspec                            0.8.5\n",
      "future                            0.18.2\n",
      "fuzzywuzzy                        0.18.0\n",
      "gast                              0.3.3\n",
      "gcsfs                             0.7.2\n",
      "gensim                            3.8.3\n",
      "gin-config                        0.4.0\n",
      "gitdb                             4.0.5\n",
      "GitPython                         3.1.13\n",
      "google-api-core                   1.26.0\n",
      "google-api-python-client          2.1.0\n",
      "google-auth                       1.24.0\n",
      "google-auth-httplib2              0.1.0\n",
      "google-auth-oauthlib              0.4.2\n",
      "google-cloud-bigquery             2.13.1\n",
      "google-cloud-core                 1.6.0\n",
      "google-cloud-storage              1.36.0\n",
      "google-crc32c                     1.1.2\n",
      "google-pasta                      0.2.0\n",
      "google-resumable-media            1.2.0\n",
      "google-trans-new                  1.1.9\n",
      "googleapis-common-protos          1.52.0\n",
      "grpcio                            1.32.0\n",
      "gunicorn                          20.0.4\n",
      "h11                               0.12.0\n",
      "h5py                              2.10.0\n",
      "hdfs                              2.6.0\n",
      "hijri-converter                   2.1.1\n",
      "holidays                          0.10.5.2\n",
      "htmlmin                           0.1.12\n",
      "httplib2                          0.17.4\n",
      "hyperlink                         21.0.0\n",
      "idna                              2.10\n",
      "ImageHash                         4.2.0\n",
      "imageio                           2.9.0\n",
      "importlib-resources               5.1.2\n",
      "incremental                       17.5.0\n",
      "iniconfig                         1.1.1\n",
      "install                           1.3.4\n",
      "ipdb                              0.13.4\n",
      "ipykernel                         5.4.2\n",
      "ipython                           7.19.0\n",
      "ipython-genutils                  0.2.0\n",
      "ipywidgets                        7.6.3\n",
      "isort                             5.7.0\n",
      "itemadapter                       0.2.0\n",
      "itemloaders                       1.0.4\n",
      "itsdangerous                      1.1.0\n",
      "jedi                              0.18.0\n",
      "Jinja2                            2.11.2\n",
      "jmespath                          0.10.0\n",
      "joblib                            1.0.0\n",
      "json5                             0.9.5\n",
      "jsonschema                        3.2.0\n",
      "jupyter                           1.0.0\n",
      "jupyter-client                    6.1.11\n",
      "jupyter-console                   6.2.0\n",
      "jupyter-contrib-core              0.3.3\n",
      "jupyter-contrib-nbextensions      0.5.1\n",
      "jupyter-core                      4.7.0\n",
      "jupyter-highlight-selected-word   0.2.0\n",
      "jupyter-latex-envs                1.4.6\n",
      "jupyter-nbextensions-configurator 0.4.1\n",
      "jupyter-server                    1.2.1\n",
      "jupyterlab                        3.0.3\n",
      "jupyterlab-pygments               0.1.2\n",
      "jupyterlab-server                 2.1.1\n",
      "jupyterlab-widgets                1.0.0\n",
      "jupyterthemes                     0.20.0\n",
      "kaggle                            1.5.12\n",
      "Keras-Preprocessing               1.1.2\n",
      "keras-tuner                       1.0.2\n",
      "keyring                           22.0.1\n",
      "kiwisolver                        1.3.1\n",
      "korean-lunar-calendar             0.2.1\n",
      "lazy-object-proxy                 1.4.3\n",
      "lazypredict                       0.2.9\n",
      "lesscpy                           0.14.0\n",
      "lightgbm                          2.3.1\n",
      "llvmlite                          0.35.0\n",
      "LunarCalendar                     0.0.9\n",
      "lvis                              0.5.3\n",
      "lxml                              4.6.3\n",
      "Mako                              1.1.4\n",
      "Markdown                          3.3.3\n",
      "MarkupSafe                        1.1.1\n",
      "matplotlib                        3.2.0\n",
      "mccabe                            0.6.1\n",
      "memoized-property                 1.0.3\n",
      "missingno                         0.4.2\n",
      "mistune                           0.8.4\n",
      "mlflow                            1.14.0\n",
      "mock                              2.0.0\n",
      "more-itertools                    8.7.0\n",
      "multidict                         5.1.0\n",
      "mypy-extensions                   0.4.3\n",
      "nbclassic                         0.2.6\n",
      "nbclient                          0.5.1\n",
      "nbconvert                         6.0.7\n",
      "nbformat                          5.0.8\n",
      "nbgrader                          0.6.1\n",
      "nbresult                          0.0.3\n",
      "nest-asyncio                      1.4.3\n",
      "networkx                          2.5\n",
      "nltk                              3.5\n",
      "notebook                          6.1.6\n",
      "numba                             0.52.0\n",
      "numpy                             1.19.5\n",
      "oauth2client                      4.1.3\n",
      "oauthlib                          3.1.0\n",
      "object-detection                  0.1\n",
      "opencv-python                     4.5.1.48\n",
      "opencv-python-headless            4.5.1.48\n",
      "opt-einsum                        3.3.0\n",
      "packaging                         20.8\n",
      "packgenlite                       1.1.2\n",
      "pandas                            1.0.5\n",
      "pandas-profiling                  2.10.0\n",
      "pandoc                            1.0.2\n",
      "pandocfilters                     1.4.3\n",
      "parsel                            1.6.0\n",
      "parso                             0.8.1\n",
      "pathspec                          0.8.1\n",
      "patsy                             0.5.1\n",
      "pbr                               5.5.1\n",
      "pexpect                           4.8.0\n",
      "phik                              0.11.0\n",
      "pickleshare                       0.7.5\n",
      "Pillow                            8.1.0\n",
      "pip                               21.0.1\n",
      "pkginfo                           1.7.0\n",
      "plotly                            4.14.1\n",
      "pluggy                            0.13.1\n",
      "ply                               3.11\n",
      "pmdarima                          1.8.0\n",
      "prometheus-client                 0.9.0\n",
      "prometheus-flask-exporter         0.18.1\n",
      "promise                           2.3\n",
      "prompt-toolkit                    3.0.10\n",
      "Protego                           0.1.16\n",
      "proto-plus                        1.18.1\n",
      "protobuf                          3.15.8\n",
      "psutil                            5.8.0\n",
      "ptyprocess                        0.7.0\n",
      "py                                1.10.0\n",
      "py-cpuinfo                        7.0.0\n",
      "pyarrow                           2.0.0\n",
      "pyasn1                            0.4.8\n",
      "pyasn1-modules                    0.2.8\n",
      "pycocotools                       2.0.2\n",
      "pycodestyle                       2.6.0\n",
      "pycparser                         2.20\n",
      "pydantic                          1.7.3\n",
      "pydeck                            0.6.1\n",
      "PyDispatcher                      2.0.5\n",
      "pydot                             1.4.2\n",
      "pyee                              8.1.0\n",
      "pyflakes                          2.2.0\n",
      "Pygments                          2.7.3\n",
      "PyHamcrest                        2.0.2\n",
      "pylint                            2.6.0\n",
      "PyMeeus                           0.3.7\n",
      "pymongo                           3.11.3\n",
      "pyOpenSSL                         20.0.1\n",
      "pyparsing                         2.4.7\n",
      "pyppeteer                         0.2.5\n",
      "PyQt5                             5.15.4\n",
      "PyQt5-Qt5                         5.15.2\n",
      "PyQt5-sip                         12.8.1\n",
      "pyrsistent                        0.17.3\n",
      "pystan                            2.19.1.1\n",
      "pytest                            5.4.3\n",
      "python-dateutil                   2.8.1\n",
      "python-editor                     1.0.4\n",
      "python-gitlab                     2.6.0\n",
      "python-slugify                    4.0.1\n",
      "pytz                              2020.5\n",
      "PyWavelets                        1.1.1\n",
      "PyYAML                            5.3.1\n",
      "pyzmq                             20.0.0\n",
      "qtconsole                         5.0.2\n",
      "QtPy                              1.9.0\n",
      "querystring-parser                1.2.4\n",
      "queuelib                          1.5.0\n",
      "readme-renderer                   28.0\n",
      "regex                             2020.11.13\n",
      "requests                          2.25.1\n",
      "requests-oauthlib                 1.3.0\n",
      "requests-toolbelt                 0.9.1\n",
      "retrying                          1.3.3\n",
      "rfc3986                           1.4.0\n",
      "rsa                               4.7\n",
      "s3fs                              0.5.2\n",
      "scikit-image                      0.18.1\n",
      "scikit-learn                      0.23.1\n",
      "scikit-surprise                   1.1.0\n",
      "scipy                             1.5.4\n",
      "Scrapy                            2.4.1\n",
      "seaborn                           0.11.1\n",
      "selenium                          3.141.0\n",
      "Send2Trash                        1.5.0\n",
      "sentencepiece                     0.1.95\n",
      "seqeval                           1.2.2\n",
      "service-identity                  18.1.0\n",
      "setuptools                        49.2.1\n",
      "setuptools-git                    1.2\n",
      "setuptools-scm                    5.0.1\n",
      "six                               1.15.0\n",
      "smart-open                        4.2.0\n",
      "smmap                             3.0.5\n",
      "sniffio                           1.2.0\n",
      "soupsieve                         2.1\n",
      "SQLAlchemy                        1.3.22\n",
      "sqlparse                          0.4.1\n",
      "starlette                         0.13.6\n",
      "statsmodels                       0.12.2\n",
      "streamlit                         0.77.0\n",
      "sudo                              1.0.0\n",
      "tabulate                          0.8.7\n",
      "tangled-up-in-unicode             0.0.6\n",
      "tensorboard                       2.4.0\n",
      "tensorboard-plugin-wit            1.7.0\n",
      "tensorflow                        2.4.1\n",
      "tensorflow-addons                 0.12.1\n",
      "tensorflow-datasets               4.2.0\n",
      "tensorflow-estimator              2.4.0\n",
      "tensorflow-hub                    0.11.0\n",
      "tensorflow-metadata               0.29.0\n",
      "tensorflow-model-optimization     0.5.0\n",
      "termcolor                         1.1.0\n",
      "terminado                         0.9.2\n",
      "terminaltables                    3.1.0\n",
      "testpath                          0.4.4\n",
      "text-unidecode                    1.3\n",
      "tf-models-official                2.4.0\n",
      "tf-slim                           1.1.0\n",
      "threadpoolctl                     2.1.0\n",
      "tifffile                          2021.2.1\n",
      "toml                              0.10.2\n",
      "toolz                             0.11.1\n",
      "torch                             1.7.1\n",
      "tornado                           6.1\n",
      "tqdm                              4.56.0\n",
      "traitlets                         5.0.5\n",
      "twine                             3.3.0\n",
      "Twisted                           20.3.0\n",
      "typed-ast                         1.4.2\n",
      "typeguard                         2.11.1\n",
      "typing-extensions                 3.7.4.3\n",
      "tzlocal                           2.1\n",
      "uritemplate                       3.0.1\n",
      "urllib3                           1.26.2\n",
      "uvicorn                           0.13.4\n",
      "validators                        0.18.2\n",
      "visions                           0.6.0\n",
      "w3lib                             1.22.0\n",
      "wcwidth                           0.2.5\n",
      "webencodings                      0.5.1\n",
      "websocket-client                  0.57.0\n",
      "websockets                        8.1\n",
      "Werkzeug                          1.0.1\n",
      "wheel                             0.36.2\n",
      "widgetsnbextension                3.5.1\n",
      "wrapt                             1.12.1\n",
      "xgboost                           1.1.1\n",
      "XlsxWriter                        1.3.7\n",
      "yapf                              0.30.0\n",
      "yarl                              1.6.3\n",
      "zope.interface                    5.2.0\n"
     ]
    },
    {
     "name": "stdout",
     "output_type": "stream",
     "text": [
      "\u001b[33mWARNING: You are using pip version 21.0.1; however, version 21.1.1 is available.\r\n",
      "You should consider upgrading via the '/Users/benoit/.pyenv/versions/3.8.6/envs/lewagon/bin/python3.8 -m pip install --upgrade pip' command.\u001b[0m\r\n"
     ]
    }
   ],
   "source": [
    "!pip list"
   ]
  },
  {
   "cell_type": "code",
   "execution_count": 18,
   "metadata": {
    "colab": {
     "base_uri": "https://localhost:8080/"
    },
    "id": "csofht2npfDE",
    "outputId": "ff5471b2-bed2-43f2-959c-327a706527b6"
   },
   "outputs": [
    {
     "name": "stdout",
     "output_type": "stream",
     "text": [
      "--2021-05-03 09:34:57--  http://download.tensorflow.org/models/object_detection/tf2/20200711/ssd_mobilenet_v2_fpnlite_320x320_coco17_tpu-8.tar.gz\n",
      "Resolving download.tensorflow.org (download.tensorflow.org)... 172.217.1.16\n",
      "Connecting to download.tensorflow.org (download.tensorflow.org)|172.217.1.16|:80... connected.\n",
      "HTTP request sent, awaiting response... 200 OK\n",
      "Length: 20515344 (20M) [application/x-tar]\n",
      "Saving to: ‘ssd_mobilenet_v2_fpnlite_320x320_coco17_tpu-8.tar.gz’\n",
      "\n",
      "ssd_mobilenet_v2_fp 100%[===================>]  19.56M  10.9MB/s    in 1.8s    \n",
      "\n",
      "2021-05-03 09:34:59 (10.9 MB/s) - ‘ssd_mobilenet_v2_fpnlite_320x320_coco17_tpu-8.tar.gz’ saved [20515344/20515344]\n",
      "\n",
      "x ssd_mobilenet_v2_fpnlite_320x320_coco17_tpu-8/\n",
      "x ssd_mobilenet_v2_fpnlite_320x320_coco17_tpu-8/checkpoint/\n",
      "x ssd_mobilenet_v2_fpnlite_320x320_coco17_tpu-8/checkpoint/ckpt-0.data-00000-of-00001\n",
      "x ssd_mobilenet_v2_fpnlite_320x320_coco17_tpu-8/checkpoint/checkpoint\n",
      "x ssd_mobilenet_v2_fpnlite_320x320_coco17_tpu-8/checkpoint/ckpt-0.index\n",
      "x ssd_mobilenet_v2_fpnlite_320x320_coco17_tpu-8/pipeline.config\n",
      "x ssd_mobilenet_v2_fpnlite_320x320_coco17_tpu-8/saved_model/\n",
      "x ssd_mobilenet_v2_fpnlite_320x320_coco17_tpu-8/saved_model/saved_model.pb\n",
      "x ssd_mobilenet_v2_fpnlite_320x320_coco17_tpu-8/saved_model/variables/\n",
      "x ssd_mobilenet_v2_fpnlite_320x320_coco17_tpu-8/saved_model/variables/variables.data-00000-of-00001\n",
      "x ssd_mobilenet_v2_fpnlite_320x320_coco17_tpu-8/saved_model/variables/variables.index\n"
     ]
    }
   ],
   "source": [
    "if os.name =='posix':\n",
    "    !wget {PRETRAINED_MODEL_URL}\n",
    "    !mv {PRETRAINED_MODEL_NAME+'.tar.gz'} {paths['PRETRAINED_MODEL_PATH']}\n",
    "    !cd {paths['PRETRAINED_MODEL_PATH']} && tar -zxvf {PRETRAINED_MODEL_NAME+'.tar.gz'}\n",
    "if os.name == 'nt':\n",
    "    wget.download(PRETRAINED_MODEL_URL)\n",
    "    !move {PRETRAINED_MODEL_NAME+'.tar.gz'} {paths['PRETRAINED_MODEL_PATH']}\n",
    "    !cd {paths['PRETRAINED_MODEL_PATH']} && tar -zxvf {PRETRAINED_MODEL_NAME+'.tar.gz'}"
   ]
  },
  {
   "cell_type": "markdown",
   "metadata": {
    "id": "M5KJTnkfpfDC"
   },
   "source": [
    "# 2. Create Label Map"
   ]
  },
  {
   "cell_type": "code",
   "execution_count": 19,
   "metadata": {
    "id": "p1BVDWo7pfDC"
   },
   "outputs": [],
   "source": [
    "labels = [{'name':'down', 'id':1}, {'name':'up', 'id':2}, {'name':'noair', 'id':3}, {'name':'reserve', 'id':4}, {'name':'stop', 'id':5}]\n",
    "\n",
    "with open(files['LABELMAP'], 'w') as f:\n",
    "    for label in labels:\n",
    "        f.write('item { \\n')\n",
    "        f.write('\\tname:\\'{}\\'\\n'.format(label['name']))\n",
    "        f.write('\\tid:{}\\n'.format(label['id']))\n",
    "        f.write('}\\n')"
   ]
  },
  {
   "cell_type": "markdown",
   "metadata": {
    "id": "C88zyVELpfDC"
   },
   "source": [
    "# 3. Create TF records"
   ]
  },
  {
   "cell_type": "code",
   "execution_count": 8,
   "metadata": {
    "colab": {
     "base_uri": "https://localhost:8080/"
    },
    "id": "kvf5WccwrFGq",
    "outputId": "49902aeb-0bd7-4298-e1a0-5b4a64eb2064"
   },
   "outputs": [],
   "source": [
    "# OPTIONAL IF RUNNING ON COLAB\n",
    "ARCHIVE_FILES = os.path.join(paths['IMAGE_PATH'], 'archive.tar.gz')\n",
    "if os.path.exists(ARCHIVE_FILES):\n",
    "  !tar -zxvf {ARCHIVE_FILES}"
   ]
  },
  {
   "cell_type": "code",
   "execution_count": 9,
   "metadata": {
    "colab": {
     "base_uri": "https://localhost:8080/"
    },
    "id": "KWpb_BVUpfDD",
    "outputId": "56ce2a3f-3933-4ee6-8a9d-d5ec65f7d73c"
   },
   "outputs": [
    {
     "name": "stdout",
     "output_type": "stream",
     "text": [
      "Cloning into 'Tensorflow/scripts'...\n",
      "remote: Enumerating objects: 3, done.\u001b[K\n",
      "remote: Counting objects: 100% (3/3), done.\u001b[K\n",
      "remote: Compressing objects: 100% (2/2), done.\u001b[K\n",
      "remote: Total 3 (delta 0), reused 0 (delta 0), pack-reused 0\u001b[K\n",
      "Receiving objects: 100% (3/3), done.\n"
     ]
    }
   ],
   "source": [
    "if not os.path.exists(files['TF_RECORD_SCRIPT']):\n",
    "    !git clone https://github.com/nicknochnack/GenerateTFRecord {paths['SCRIPTS_PATH']}"
   ]
  },
  {
   "cell_type": "code",
   "execution_count": 16,
   "metadata": {
    "colab": {
     "base_uri": "https://localhost:8080/"
    },
    "id": "UPFToGZqpfDD",
    "outputId": "0ebb456f-aadc-4a1f-96e6-fbfec1923e1c"
   },
   "outputs": [
    {
     "name": "stdout",
     "output_type": "stream",
     "text": [
      "Successfully created the TFRecord file: Tensorflow/workspace/annotations/train.record\n",
      "Successfully created the TFRecord file: Tensorflow/workspace/annotations/test.record\n"
     ]
    }
   ],
   "source": [
    "!python {files['TF_RECORD_SCRIPT']} -x {os.path.join(paths['IMAGE_PATH'], 'train')} -l {files['LABELMAP']} -o {os.path.join(paths['ANNOTATION_PATH'], 'train.record')} \n",
    "!python {files['TF_RECORD_SCRIPT']} -x {os.path.join(paths['IMAGE_PATH'], 'test')} -l {files['LABELMAP']} -o {os.path.join(paths['ANNOTATION_PATH'], 'test.record')} "
   ]
  },
  {
   "cell_type": "markdown",
   "metadata": {
    "id": "qT4QU7pLpfDE"
   },
   "source": [
    "# 4. Copy Model Config to Training Folder"
   ]
  },
  {
   "cell_type": "code",
   "execution_count": 17,
   "metadata": {
    "id": "cOjuTFbwpfDF"
   },
   "outputs": [],
   "source": [
    "if os.name =='posix':\n",
    "    !cp {os.path.join(paths['PRETRAINED_MODEL_PATH'], PRETRAINED_MODEL_NAME, 'pipeline.config')} {os.path.join(paths['CHECKPOINT_PATH'])}\n",
    "if os.name == 'nt':\n",
    "    !copy {os.path.join(paths['PRETRAINED_MODEL_PATH'], PRETRAINED_MODEL_NAME, 'pipeline.config')} {os.path.join(paths['CHECKPOINT_PATH'])}"
   ]
  },
  {
   "cell_type": "markdown",
   "metadata": {
    "id": "Ga8gpNslpfDF"
   },
   "source": [
    "# 5. Update Config For Transfer Learning"
   ]
  },
  {
   "cell_type": "code",
   "execution_count": 10,
   "metadata": {
    "id": "Z9hRrO_ppfDF"
   },
   "outputs": [],
   "source": [
    "import tensorflow as tf\n",
    "from object_detection.utils import config_util\n",
    "from object_detection.protos import pipeline_pb2\n",
    "from google.protobuf import text_format"
   ]
  },
  {
   "cell_type": "code",
   "execution_count": 11,
   "metadata": {
    "id": "c2A0mn4ipfDF"
   },
   "outputs": [],
   "source": [
    "config = config_util.get_configs_from_pipeline_file(files['PIPELINE_CONFIG'])"
   ]
  },
  {
   "cell_type": "code",
   "execution_count": 12,
   "metadata": {
    "colab": {
     "base_uri": "https://localhost:8080/"
    },
    "id": "uQA13-afpfDF",
    "outputId": "907496a4-a39d-4b13-8c2c-e5978ecb1f10"
   },
   "outputs": [
    {
     "data": {
      "text/plain": [
       "{'model': ssd {\n",
       "   num_classes: 5\n",
       "   image_resizer {\n",
       "     fixed_shape_resizer {\n",
       "       height: 320\n",
       "       width: 320\n",
       "     }\n",
       "   }\n",
       "   feature_extractor {\n",
       "     type: \"ssd_mobilenet_v2_fpn_keras\"\n",
       "     depth_multiplier: 1.0\n",
       "     min_depth: 16\n",
       "     conv_hyperparams {\n",
       "       regularizer {\n",
       "         l2_regularizer {\n",
       "           weight: 3.9999998989515007e-05\n",
       "         }\n",
       "       }\n",
       "       initializer {\n",
       "         random_normal_initializer {\n",
       "           mean: 0.0\n",
       "           stddev: 0.009999999776482582\n",
       "         }\n",
       "       }\n",
       "       activation: RELU_6\n",
       "       batch_norm {\n",
       "         decay: 0.996999979019165\n",
       "         scale: true\n",
       "         epsilon: 0.0010000000474974513\n",
       "       }\n",
       "     }\n",
       "     use_depthwise: true\n",
       "     override_base_feature_extractor_hyperparams: true\n",
       "     fpn {\n",
       "       min_level: 3\n",
       "       max_level: 7\n",
       "       additional_layer_depth: 128\n",
       "     }\n",
       "   }\n",
       "   box_coder {\n",
       "     faster_rcnn_box_coder {\n",
       "       y_scale: 10.0\n",
       "       x_scale: 10.0\n",
       "       height_scale: 5.0\n",
       "       width_scale: 5.0\n",
       "     }\n",
       "   }\n",
       "   matcher {\n",
       "     argmax_matcher {\n",
       "       matched_threshold: 0.5\n",
       "       unmatched_threshold: 0.5\n",
       "       ignore_thresholds: false\n",
       "       negatives_lower_than_unmatched: true\n",
       "       force_match_for_each_row: true\n",
       "       use_matmul_gather: true\n",
       "     }\n",
       "   }\n",
       "   similarity_calculator {\n",
       "     iou_similarity {\n",
       "     }\n",
       "   }\n",
       "   box_predictor {\n",
       "     weight_shared_convolutional_box_predictor {\n",
       "       conv_hyperparams {\n",
       "         regularizer {\n",
       "           l2_regularizer {\n",
       "             weight: 3.9999998989515007e-05\n",
       "           }\n",
       "         }\n",
       "         initializer {\n",
       "           random_normal_initializer {\n",
       "             mean: 0.0\n",
       "             stddev: 0.009999999776482582\n",
       "           }\n",
       "         }\n",
       "         activation: RELU_6\n",
       "         batch_norm {\n",
       "           decay: 0.996999979019165\n",
       "           scale: true\n",
       "           epsilon: 0.0010000000474974513\n",
       "         }\n",
       "       }\n",
       "       depth: 128\n",
       "       num_layers_before_predictor: 4\n",
       "       kernel_size: 3\n",
       "       class_prediction_bias_init: -4.599999904632568\n",
       "       share_prediction_tower: true\n",
       "       use_depthwise: true\n",
       "     }\n",
       "   }\n",
       "   anchor_generator {\n",
       "     multiscale_anchor_generator {\n",
       "       min_level: 3\n",
       "       max_level: 7\n",
       "       anchor_scale: 4.0\n",
       "       aspect_ratios: 1.0\n",
       "       aspect_ratios: 2.0\n",
       "       aspect_ratios: 0.5\n",
       "       scales_per_octave: 2\n",
       "     }\n",
       "   }\n",
       "   post_processing {\n",
       "     batch_non_max_suppression {\n",
       "       score_threshold: 9.99999993922529e-09\n",
       "       iou_threshold: 0.6000000238418579\n",
       "       max_detections_per_class: 100\n",
       "       max_total_detections: 100\n",
       "       use_static_shapes: false\n",
       "     }\n",
       "     score_converter: SIGMOID\n",
       "   }\n",
       "   normalize_loss_by_num_matches: true\n",
       "   loss {\n",
       "     localization_loss {\n",
       "       weighted_smooth_l1 {\n",
       "       }\n",
       "     }\n",
       "     classification_loss {\n",
       "       weighted_sigmoid_focal {\n",
       "         gamma: 2.0\n",
       "         alpha: 0.25\n",
       "       }\n",
       "     }\n",
       "     classification_weight: 1.0\n",
       "     localization_weight: 1.0\n",
       "   }\n",
       "   encode_background_as_zeros: true\n",
       "   normalize_loc_loss_by_codesize: true\n",
       "   inplace_batchnorm_update: true\n",
       "   freeze_batchnorm: false\n",
       " },\n",
       " 'train_config': batch_size: 4\n",
       " data_augmentation_options {\n",
       "   random_horizontal_flip {\n",
       "   }\n",
       " }\n",
       " data_augmentation_options {\n",
       "   random_crop_image {\n",
       "     min_object_covered: 0.0\n",
       "     min_aspect_ratio: 0.75\n",
       "     max_aspect_ratio: 3.0\n",
       "     min_area: 0.75\n",
       "     max_area: 1.0\n",
       "     overlap_thresh: 0.0\n",
       "   }\n",
       " }\n",
       " sync_replicas: true\n",
       " optimizer {\n",
       "   momentum_optimizer {\n",
       "     learning_rate {\n",
       "       cosine_decay_learning_rate {\n",
       "         learning_rate_base: 0.07999999821186066\n",
       "         total_steps: 50000\n",
       "         warmup_learning_rate: 0.026666000485420227\n",
       "         warmup_steps: 1000\n",
       "       }\n",
       "     }\n",
       "     momentum_optimizer_value: 0.8999999761581421\n",
       "   }\n",
       "   use_moving_average: false\n",
       " }\n",
       " fine_tune_checkpoint: \"Tensorflow/workspace/pre-trained-models/ssd_mobilenet_v2_fpnlite_320x320_coco17_tpu-8/checkpoint/ckpt-0\"\n",
       " num_steps: 50000\n",
       " startup_delay_steps: 0.0\n",
       " replicas_to_aggregate: 8\n",
       " max_number_of_boxes: 100\n",
       " unpad_groundtruth_tensors: false\n",
       " fine_tune_checkpoint_type: \"detection\"\n",
       " fine_tune_checkpoint_version: V2,\n",
       " 'train_input_config': label_map_path: \"Tensorflow/workspace/annotations/label_map.pbtxt\"\n",
       " tf_record_input_reader {\n",
       "   input_path: \"Tensorflow/workspace/annotations/train.record\"\n",
       " },\n",
       " 'eval_config': metrics_set: \"coco_detection_metrics\"\n",
       " use_moving_averages: false,\n",
       " 'eval_input_configs': [label_map_path: \"Tensorflow/workspace/annotations/label_map.pbtxt\"\n",
       " shuffle: false\n",
       " num_epochs: 1\n",
       " tf_record_input_reader {\n",
       "   input_path: \"Tensorflow/workspace/annotations/test.record\"\n",
       " }\n",
       " ],\n",
       " 'eval_input_config': label_map_path: \"Tensorflow/workspace/annotations/label_map.pbtxt\"\n",
       " shuffle: false\n",
       " num_epochs: 1\n",
       " tf_record_input_reader {\n",
       "   input_path: \"Tensorflow/workspace/annotations/test.record\"\n",
       " }}"
      ]
     },
     "execution_count": 12,
     "metadata": {},
     "output_type": "execute_result"
    }
   ],
   "source": [
    "config"
   ]
  },
  {
   "cell_type": "code",
   "execution_count": 13,
   "metadata": {
    "id": "9vK5lotDpfDF"
   },
   "outputs": [],
   "source": [
    "pipeline_config = pipeline_pb2.TrainEvalPipelineConfig()\n",
    "with tf.io.gfile.GFile(files['PIPELINE_CONFIG'], \"r\") as f:                                                                                                                                                                                                                     \n",
    "    proto_str = f.read()                                                                                                                                                                                                                                          \n",
    "    text_format.Merge(proto_str, pipeline_config)  "
   ]
  },
  {
   "cell_type": "code",
   "execution_count": 14,
   "metadata": {
    "id": "rP43Ph0JpfDG"
   },
   "outputs": [],
   "source": [
    "pipeline_config.model.ssd.num_classes = len(labels)\n",
    "pipeline_config.train_config.batch_size = 4\n",
    "pipeline_config.train_config.fine_tune_checkpoint = os.path.join(paths['PRETRAINED_MODEL_PATH'], PRETRAINED_MODEL_NAME, 'checkpoint', 'ckpt-0')\n",
    "pipeline_config.train_config.fine_tune_checkpoint_type = \"detection\"\n",
    "pipeline_config.train_input_reader.label_map_path= files['LABELMAP']\n",
    "pipeline_config.train_input_reader.tf_record_input_reader.input_path[:] = [os.path.join(paths['ANNOTATION_PATH'], 'train.record')]\n",
    "pipeline_config.eval_input_reader[0].label_map_path = files['LABELMAP']\n",
    "pipeline_config.eval_input_reader[0].tf_record_input_reader.input_path[:] = [os.path.join(paths['ANNOTATION_PATH'], 'test.record')]"
   ]
  },
  {
   "cell_type": "code",
   "execution_count": 23,
   "metadata": {
    "id": "oJvfgwWqpfDG"
   },
   "outputs": [],
   "source": [
    "config_text = text_format.MessageToString(pipeline_config)                                                                                                                                                                                                        \n",
    "with tf.io.gfile.GFile(files['PIPELINE_CONFIG'], \"wb\") as f:                                                                                                                                                                                                                     \n",
    "    f.write(config_text)   "
   ]
  },
  {
   "cell_type": "markdown",
   "metadata": {
    "id": "Zr3ON7xMpfDG"
   },
   "source": [
    "# 6. Train the model"
   ]
  },
  {
   "cell_type": "code",
   "execution_count": 24,
   "metadata": {
    "id": "B-Y2UQmQpfDG"
   },
   "outputs": [],
   "source": [
    "TRAINING_SCRIPT = os.path.join(paths['APIMODEL_PATH'], 'research', 'object_detection', 'model_main_tf2.py')"
   ]
  },
  {
   "cell_type": "code",
   "execution_count": 25,
   "metadata": {
    "id": "jMP2XDfQpfDH"
   },
   "outputs": [],
   "source": [
    "command = \"python {} --model_dir={} --pipeline_config_path={} --num_train_steps=2000\".format(TRAINING_SCRIPT, paths['CHECKPOINT_PATH'],files['PIPELINE_CONFIG'])"
   ]
  },
  {
   "cell_type": "code",
   "execution_count": 23,
   "metadata": {},
   "outputs": [
    {
     "name": "stdout",
     "output_type": "stream",
     "text": [
      "Found existing installation: numpy 1.20.2\n",
      "Uninstalling numpy-1.20.2:\n",
      "  Successfully uninstalled numpy-1.20.2\n",
      "Collecting numpy==1.19.2\n",
      "  Using cached numpy-1.19.2-cp38-cp38-macosx_10_9_x86_64.whl (15.3 MB)\n",
      "Installing collected packages: numpy\n",
      "Successfully installed numpy-1.19.2\n"
     ]
    }
   ],
   "source": [
    "!pip uninstall numpy -y\n",
    "!pip install numpy==1.19.2"
   ]
  },
  {
   "cell_type": "code",
   "execution_count": 29,
   "metadata": {},
   "outputs": [
    {
     "name": "stdout",
     "output_type": "stream",
     "text": [
      "Collecting pycocotools==2.0.0\n",
      "  Downloading pycocotools-2.0.0.tar.gz (1.5 MB)\n",
      "\u001b[K     |████████████████████████████████| 1.5 MB 5.4 MB/s eta 0:00:01\n",
      "\u001b[?25hBuilding wheels for collected packages: pycocotools\n",
      "  Building wheel for pycocotools (setup.py) ... \u001b[?25ldone\n",
      "\u001b[?25h  Created wheel for pycocotools: filename=pycocotools-2.0.0-cp38-cp38-macosx_11_0_x86_64.whl size=89310 sha256=b2eedd310c606df0685d7c1c493b11b488cfff1f54844e9d5dda33ed221eccb3\n",
      "  Stored in directory: /Users/benoit/Library/Caches/pip/wheels/6d/64/41/377caa9952a6054d9525554c231bdd66d0d612aa991d2f3a48\n",
      "Successfully built pycocotools\n",
      "Installing collected packages: pycocotools\n",
      "  Attempting uninstall: pycocotools\n",
      "    Found existing installation: pycocotools 2.0.2\n",
      "    Uninstalling pycocotools-2.0.2:\n",
      "      Successfully uninstalled pycocotools-2.0.2\n",
      "Successfully installed pycocotools-2.0.0\n"
     ]
    }
   ],
   "source": [
    "!pip install pycocotools==2.0.0"
   ]
  },
  {
   "cell_type": "code",
   "execution_count": 26,
   "metadata": {},
   "outputs": [],
   "source": [
    "!export CUDA_VISIBLE_DEVICES=-1"
   ]
  },
  {
   "cell_type": "code",
   "execution_count": 27,
   "metadata": {
    "colab": {
     "base_uri": "https://localhost:8080/"
    },
    "id": "A4OXXi-ApfDH",
    "outputId": "117a0e83-012b-466e-b7a6-ccaa349ac5ab"
   },
   "outputs": [
    {
     "name": "stdout",
     "output_type": "stream",
     "text": [
      "python Tensorflow/models/research/object_detection/model_main_tf2.py --model_dir=Tensorflow/workspace/models/my_ssd_mobnet --pipeline_config_path=Tensorflow/workspace/models/my_ssd_mobnet/pipeline.config --num_train_steps=2000\n"
     ]
    }
   ],
   "source": [
    "print(command)"
   ]
  },
  {
   "cell_type": "code",
   "execution_count": 32,
   "metadata": {
    "colab": {
     "base_uri": "https://localhost:8080/"
    },
    "id": "i3ZsJR-qpfDH",
    "outputId": "cabec5e1-45e6-4f2f-d9cf-297d9c1d0225",
    "scrolled": true
   },
   "outputs": [
    {
     "name": "stdout",
     "output_type": "stream",
     "text": [
      "2021-04-09 16:36:57.196954: I tensorflow/compiler/jit/xla_cpu_device.cc:41] Not creating XLA devices, tf_xla_enable_xla_devices not set\n",
      "2021-04-09 16:36:57.197198: I tensorflow/core/platform/cpu_feature_guard.cc:142] This TensorFlow binary is optimized with oneAPI Deep Neural Network Library (oneDNN) to use the following CPU instructions in performance-critical operations:  AVX2 FMA\n",
      "To enable them in other operations, rebuild TensorFlow with the appropriate compiler flags.\n",
      "WARNING:tensorflow:There are non-GPU devices in `tf.distribute.Strategy`, not using nccl allreduce.\n",
      "W0409 16:36:57.198184 4552359424 cross_device_ops.py:1321] There are non-GPU devices in `tf.distribute.Strategy`, not using nccl allreduce.\n",
      "INFO:tensorflow:Using MirroredStrategy with devices ('/job:localhost/replica:0/task:0/device:CPU:0',)\n",
      "I0409 16:36:57.198328 4552359424 mirrored_strategy.py:350] Using MirroredStrategy with devices ('/job:localhost/replica:0/task:0/device:CPU:0',)\n",
      "INFO:tensorflow:Maybe overwriting train_steps: 3000\n",
      "I0409 16:36:57.201642 4552359424 config_util.py:552] Maybe overwriting train_steps: 3000\n",
      "INFO:tensorflow:Maybe overwriting use_bfloat16: False\n",
      "I0409 16:36:57.201716 4552359424 config_util.py:552] Maybe overwriting use_bfloat16: False\n",
      "WARNING:tensorflow:From /Users/benoit/.pyenv/versions/diving/lib/python3.8/site-packages/object_detection/model_lib_v2.py:545: StrategyBase.experimental_distribute_datasets_from_function (from tensorflow.python.distribute.distribute_lib) is deprecated and will be removed in a future version.\n",
      "Instructions for updating:\n",
      "rename to distribute_datasets_from_function\n",
      "W0409 16:36:57.221423 4552359424 deprecation.py:333] From /Users/benoit/.pyenv/versions/diving/lib/python3.8/site-packages/object_detection/model_lib_v2.py:545: StrategyBase.experimental_distribute_datasets_from_function (from tensorflow.python.distribute.distribute_lib) is deprecated and will be removed in a future version.\n",
      "Instructions for updating:\n",
      "rename to distribute_datasets_from_function\n",
      "INFO:tensorflow:Reading unweighted datasets: ['Tensorflow/workspace/annotations/train.record']\n",
      "I0409 16:36:57.225440 4552359424 dataset_builder.py:163] Reading unweighted datasets: ['Tensorflow/workspace/annotations/train.record']\n",
      "INFO:tensorflow:Reading record datasets for input file: ['Tensorflow/workspace/annotations/train.record']\n",
      "I0409 16:36:57.225593 4552359424 dataset_builder.py:80] Reading record datasets for input file: ['Tensorflow/workspace/annotations/train.record']\n",
      "INFO:tensorflow:Number of filenames to read: 1\n",
      "I0409 16:36:57.225754 4552359424 dataset_builder.py:81] Number of filenames to read: 1\n",
      "WARNING:tensorflow:num_readers has been reduced to 1 to match input file shards.\n",
      "W0409 16:36:57.225842 4552359424 dataset_builder.py:87] num_readers has been reduced to 1 to match input file shards.\n",
      "WARNING:tensorflow:From /Users/benoit/.pyenv/versions/diving/lib/python3.8/site-packages/object_detection/builders/dataset_builder.py:101: parallel_interleave (from tensorflow.python.data.experimental.ops.interleave_ops) is deprecated and will be removed in a future version.\n",
      "Instructions for updating:\n",
      "Use `tf.data.Dataset.interleave(map_func, cycle_length, block_length, num_parallel_calls=tf.data.AUTOTUNE)` instead. If sloppy execution is desired, use `tf.data.Options.experimental_deterministic`.\n",
      "W0409 16:36:57.227633 4552359424 deprecation.py:333] From /Users/benoit/.pyenv/versions/diving/lib/python3.8/site-packages/object_detection/builders/dataset_builder.py:101: parallel_interleave (from tensorflow.python.data.experimental.ops.interleave_ops) is deprecated and will be removed in a future version.\n",
      "Instructions for updating:\n",
      "Use `tf.data.Dataset.interleave(map_func, cycle_length, block_length, num_parallel_calls=tf.data.AUTOTUNE)` instead. If sloppy execution is desired, use `tf.data.Options.experimental_deterministic`.\n",
      "WARNING:tensorflow:From /Users/benoit/.pyenv/versions/diving/lib/python3.8/site-packages/object_detection/builders/dataset_builder.py:236: DatasetV1.map_with_legacy_function (from tensorflow.python.data.ops.dataset_ops) is deprecated and will be removed in a future version.\n",
      "Instructions for updating:\n",
      "Use `tf.data.Dataset.map()\n",
      "W0409 16:36:57.243906 4552359424 deprecation.py:333] From /Users/benoit/.pyenv/versions/diving/lib/python3.8/site-packages/object_detection/builders/dataset_builder.py:236: DatasetV1.map_with_legacy_function (from tensorflow.python.data.ops.dataset_ops) is deprecated and will be removed in a future version.\n",
      "Instructions for updating:\n",
      "Use `tf.data.Dataset.map()\n",
      "WARNING:tensorflow:From /Users/benoit/.pyenv/versions/diving/lib/python3.8/site-packages/tensorflow/python/util/dispatch.py:201: sparse_to_dense (from tensorflow.python.ops.sparse_ops) is deprecated and will be removed in a future version.\n",
      "Instructions for updating:\n",
      "Create a `tf.sparse.SparseTensor` and use `tf.sparse.to_dense` instead.\n",
      "W0409 16:37:03.012911 4552359424 deprecation.py:333] From /Users/benoit/.pyenv/versions/diving/lib/python3.8/site-packages/tensorflow/python/util/dispatch.py:201: sparse_to_dense (from tensorflow.python.ops.sparse_ops) is deprecated and will be removed in a future version.\n",
      "Instructions for updating:\n",
      "Create a `tf.sparse.SparseTensor` and use `tf.sparse.to_dense` instead.\n",
      "WARNING:tensorflow:From /Users/benoit/.pyenv/versions/diving/lib/python3.8/site-packages/tensorflow/python/util/dispatch.py:201: sample_distorted_bounding_box (from tensorflow.python.ops.image_ops_impl) is deprecated and will be removed in a future version.\n",
      "Instructions for updating:\n",
      "`seed2` arg is deprecated.Use sample_distorted_bounding_box_v2 instead.\n",
      "W0409 16:37:05.531983 4552359424 deprecation.py:333] From /Users/benoit/.pyenv/versions/diving/lib/python3.8/site-packages/tensorflow/python/util/dispatch.py:201: sample_distorted_bounding_box (from tensorflow.python.ops.image_ops_impl) is deprecated and will be removed in a future version.\n",
      "Instructions for updating:\n",
      "`seed2` arg is deprecated.Use sample_distorted_bounding_box_v2 instead.\n",
      "WARNING:tensorflow:From /Users/benoit/.pyenv/versions/diving/lib/python3.8/site-packages/object_detection/inputs.py:282: to_float (from tensorflow.python.ops.math_ops) is deprecated and will be removed in a future version.\n",
      "Instructions for updating:\n",
      "Use `tf.cast` instead.\n",
      "W0409 16:37:06.981268 4552359424 deprecation.py:333] From /Users/benoit/.pyenv/versions/diving/lib/python3.8/site-packages/object_detection/inputs.py:282: to_float (from tensorflow.python.ops.math_ops) is deprecated and will be removed in a future version.\n",
      "Instructions for updating:\n",
      "Use `tf.cast` instead.\n",
      "2021-04-09 16:37:08.923925: I tensorflow/compiler/mlir/mlir_graph_optimization_pass.cc:116] None of the MLIR optimization passes are enabled (registered 2)\n",
      "/Users/benoit/.pyenv/versions/diving/lib/python3.8/site-packages/tensorflow/python/keras/backend.py:434: UserWarning: `tf.keras.backend.set_learning_phase` is deprecated and will be removed after 2020-10-11. To update it, simply pass a True/False value to the `training` argument of the `__call__` method of your layer or model.\n",
      "  warnings.warn('`tf.keras.backend.set_learning_phase` is deprecated and '\n",
      "WARNING:tensorflow:Unresolved object in checkpoint: (root).model._groundtruth_lists\n",
      "W0409 16:37:23.900661 4552359424 util.py:160] Unresolved object in checkpoint: (root).model._groundtruth_lists\n",
      "WARNING:tensorflow:Unresolved object in checkpoint: (root).model._box_predictor\n",
      "W0409 16:37:23.900796 4552359424 util.py:160] Unresolved object in checkpoint: (root).model._box_predictor\n",
      "WARNING:tensorflow:Unresolved object in checkpoint: (root).model._batched_prediction_tensor_names\n",
      "W0409 16:37:23.900848 4552359424 util.py:160] Unresolved object in checkpoint: (root).model._batched_prediction_tensor_names\n",
      "WARNING:tensorflow:Unresolved object in checkpoint: (root).model._box_predictor._box_prediction_head\n",
      "W0409 16:37:23.900890 4552359424 util.py:160] Unresolved object in checkpoint: (root).model._box_predictor._box_prediction_head\n",
      "WARNING:tensorflow:Unresolved object in checkpoint: (root).model._box_predictor._prediction_heads\n",
      "W0409 16:37:23.900933 4552359424 util.py:160] Unresolved object in checkpoint: (root).model._box_predictor._prediction_heads\n",
      "WARNING:tensorflow:Unresolved object in checkpoint: (root).model._box_predictor._sorted_head_names\n",
      "W0409 16:37:23.900973 4552359424 util.py:160] Unresolved object in checkpoint: (root).model._box_predictor._sorted_head_names\n",
      "WARNING:tensorflow:Unresolved object in checkpoint: (root).model._box_predictor._additional_projection_layers\n",
      "W0409 16:37:23.901015 4552359424 util.py:160] Unresolved object in checkpoint: (root).model._box_predictor._additional_projection_layers\n",
      "WARNING:tensorflow:Unresolved object in checkpoint: (root).model._box_predictor._base_tower_layers_for_heads\n",
      "W0409 16:37:23.901054 4552359424 util.py:160] Unresolved object in checkpoint: (root).model._box_predictor._base_tower_layers_for_heads\n",
      "WARNING:tensorflow:Unresolved object in checkpoint: (root).model._box_predictor._head_scope_conv_layers\n",
      "W0409 16:37:23.901093 4552359424 util.py:160] Unresolved object in checkpoint: (root).model._box_predictor._head_scope_conv_layers\n",
      "WARNING:tensorflow:Unresolved object in checkpoint: (root).model._box_predictor._box_prediction_head._box_encoder_layers\n",
      "W0409 16:37:23.901134 4552359424 util.py:160] Unresolved object in checkpoint: (root).model._box_predictor._box_prediction_head._box_encoder_layers\n",
      "WARNING:tensorflow:Unresolved object in checkpoint: (root).model._box_predictor._prediction_heads.class_predictions_with_background\n",
      "W0409 16:37:23.901174 4552359424 util.py:160] Unresolved object in checkpoint: (root).model._box_predictor._prediction_heads.class_predictions_with_background\n",
      "WARNING:tensorflow:Unresolved object in checkpoint: (root).model._box_predictor._additional_projection_layers.0\n",
      "W0409 16:37:23.901248 4552359424 util.py:160] Unresolved object in checkpoint: (root).model._box_predictor._additional_projection_layers.0\n",
      "WARNING:tensorflow:Unresolved object in checkpoint: (root).model._box_predictor._additional_projection_layers.1\n",
      "W0409 16:37:23.901288 4552359424 util.py:160] Unresolved object in checkpoint: (root).model._box_predictor._additional_projection_layers.1\n",
      "WARNING:tensorflow:Unresolved object in checkpoint: (root).model._box_predictor._additional_projection_layers.2\n",
      "W0409 16:37:23.901327 4552359424 util.py:160] Unresolved object in checkpoint: (root).model._box_predictor._additional_projection_layers.2\n",
      "WARNING:tensorflow:Unresolved object in checkpoint: (root).model._box_predictor._additional_projection_layers.3\n",
      "W0409 16:37:23.901365 4552359424 util.py:160] Unresolved object in checkpoint: (root).model._box_predictor._additional_projection_layers.3\n",
      "WARNING:tensorflow:Unresolved object in checkpoint: (root).model._box_predictor._additional_projection_layers.4\n",
      "W0409 16:37:23.901406 4552359424 util.py:160] Unresolved object in checkpoint: (root).model._box_predictor._additional_projection_layers.4\n",
      "WARNING:tensorflow:Unresolved object in checkpoint: (root).model._box_predictor._base_tower_layers_for_heads.box_encodings\n",
      "W0409 16:37:23.901445 4552359424 util.py:160] Unresolved object in checkpoint: (root).model._box_predictor._base_tower_layers_for_heads.box_encodings\n",
      "WARNING:tensorflow:Unresolved object in checkpoint: (root).model._box_predictor._base_tower_layers_for_heads.class_predictions_with_background\n",
      "W0409 16:37:23.901484 4552359424 util.py:160] Unresolved object in checkpoint: (root).model._box_predictor._base_tower_layers_for_heads.class_predictions_with_background\n",
      "WARNING:tensorflow:Unresolved object in checkpoint: (root).model._box_predictor._head_scope_conv_layers.PredictionTower\n",
      "W0409 16:37:23.901525 4552359424 util.py:160] Unresolved object in checkpoint: (root).model._box_predictor._head_scope_conv_layers.PredictionTower\n",
      "WARNING:tensorflow:Unresolved object in checkpoint: (root).model._box_predictor._head_scope_conv_layers.ClassPredictionTower\n",
      "W0409 16:37:23.901583 4552359424 util.py:160] Unresolved object in checkpoint: (root).model._box_predictor._head_scope_conv_layers.ClassPredictionTower\n",
      "WARNING:tensorflow:Unresolved object in checkpoint: (root).model._box_predictor._box_prediction_head._box_encoder_layers.0\n",
      "W0409 16:37:23.901646 4552359424 util.py:160] Unresolved object in checkpoint: (root).model._box_predictor._box_prediction_head._box_encoder_layers.0\n",
      "WARNING:tensorflow:Unresolved object in checkpoint: (root).model._box_predictor._prediction_heads.class_predictions_with_background._class_predictor_layers\n",
      "W0409 16:37:23.901685 4552359424 util.py:160] Unresolved object in checkpoint: (root).model._box_predictor._prediction_heads.class_predictions_with_background._class_predictor_layers\n",
      "WARNING:tensorflow:Unresolved object in checkpoint: (root).model._box_predictor._base_tower_layers_for_heads.box_encodings.0\n",
      "W0409 16:37:23.901724 4552359424 util.py:160] Unresolved object in checkpoint: (root).model._box_predictor._base_tower_layers_for_heads.box_encodings.0\n",
      "WARNING:tensorflow:Unresolved object in checkpoint: (root).model._box_predictor._base_tower_layers_for_heads.box_encodings.1\n",
      "W0409 16:37:23.901765 4552359424 util.py:160] Unresolved object in checkpoint: (root).model._box_predictor._base_tower_layers_for_heads.box_encodings.1\n",
      "WARNING:tensorflow:Unresolved object in checkpoint: (root).model._box_predictor._base_tower_layers_for_heads.box_encodings.2\n",
      "W0409 16:37:23.901805 4552359424 util.py:160] Unresolved object in checkpoint: (root).model._box_predictor._base_tower_layers_for_heads.box_encodings.2\n",
      "WARNING:tensorflow:Unresolved object in checkpoint: (root).model._box_predictor._base_tower_layers_for_heads.box_encodings.3\n",
      "W0409 16:37:23.901844 4552359424 util.py:160] Unresolved object in checkpoint: (root).model._box_predictor._base_tower_layers_for_heads.box_encodings.3\n",
      "WARNING:tensorflow:Unresolved object in checkpoint: (root).model._box_predictor._base_tower_layers_for_heads.box_encodings.4\n",
      "W0409 16:37:23.901883 4552359424 util.py:160] Unresolved object in checkpoint: (root).model._box_predictor._base_tower_layers_for_heads.box_encodings.4\n",
      "WARNING:tensorflow:Unresolved object in checkpoint: (root).model._box_predictor._base_tower_layers_for_heads.class_predictions_with_background.0\n",
      "W0409 16:37:23.901923 4552359424 util.py:160] Unresolved object in checkpoint: (root).model._box_predictor._base_tower_layers_for_heads.class_predictions_with_background.0\n",
      "WARNING:tensorflow:Unresolved object in checkpoint: (root).model._box_predictor._base_tower_layers_for_heads.class_predictions_with_background.1\n",
      "W0409 16:37:23.901982 4552359424 util.py:160] Unresolved object in checkpoint: (root).model._box_predictor._base_tower_layers_for_heads.class_predictions_with_background.1\n",
      "WARNING:tensorflow:Unresolved object in checkpoint: (root).model._box_predictor._base_tower_layers_for_heads.class_predictions_with_background.2\n",
      "W0409 16:37:23.902038 4552359424 util.py:160] Unresolved object in checkpoint: (root).model._box_predictor._base_tower_layers_for_heads.class_predictions_with_background.2\n",
      "WARNING:tensorflow:Unresolved object in checkpoint: (root).model._box_predictor._base_tower_layers_for_heads.class_predictions_with_background.3\n",
      "W0409 16:37:23.902076 4552359424 util.py:160] Unresolved object in checkpoint: (root).model._box_predictor._base_tower_layers_for_heads.class_predictions_with_background.3\n",
      "WARNING:tensorflow:Unresolved object in checkpoint: (root).model._box_predictor._base_tower_layers_for_heads.class_predictions_with_background.4\n",
      "W0409 16:37:23.902116 4552359424 util.py:160] Unresolved object in checkpoint: (root).model._box_predictor._base_tower_layers_for_heads.class_predictions_with_background.4\n",
      "WARNING:tensorflow:Unresolved object in checkpoint: (root).model._box_predictor._head_scope_conv_layers.PredictionTower.0\n",
      "W0409 16:37:23.902154 4552359424 util.py:160] Unresolved object in checkpoint: (root).model._box_predictor._head_scope_conv_layers.PredictionTower.0\n",
      "WARNING:tensorflow:Unresolved object in checkpoint: (root).model._box_predictor._head_scope_conv_layers.PredictionTower.1\n",
      "W0409 16:37:23.902307 4552359424 util.py:160] Unresolved object in checkpoint: (root).model._box_predictor._head_scope_conv_layers.PredictionTower.1\n",
      "WARNING:tensorflow:Unresolved object in checkpoint: (root).model._box_predictor._head_scope_conv_layers.PredictionTower.2\n",
      "W0409 16:37:23.902362 4552359424 util.py:160] Unresolved object in checkpoint: (root).model._box_predictor._head_scope_conv_layers.PredictionTower.2\n",
      "WARNING:tensorflow:Unresolved object in checkpoint: (root).model._box_predictor._head_scope_conv_layers.PredictionTower.3\n",
      "W0409 16:37:23.902413 4552359424 util.py:160] Unresolved object in checkpoint: (root).model._box_predictor._head_scope_conv_layers.PredictionTower.3\n",
      "WARNING:tensorflow:Unresolved object in checkpoint: (root).model._box_predictor._head_scope_conv_layers.ClassPredictionTower.0\n",
      "W0409 16:37:23.902472 4552359424 util.py:160] Unresolved object in checkpoint: (root).model._box_predictor._head_scope_conv_layers.ClassPredictionTower.0\n",
      "WARNING:tensorflow:Unresolved object in checkpoint: (root).model._box_predictor._head_scope_conv_layers.ClassPredictionTower.1\n",
      "W0409 16:37:23.902518 4552359424 util.py:160] Unresolved object in checkpoint: (root).model._box_predictor._head_scope_conv_layers.ClassPredictionTower.1\n",
      "WARNING:tensorflow:Unresolved object in checkpoint: (root).model._box_predictor._head_scope_conv_layers.ClassPredictionTower.2\n",
      "W0409 16:37:23.902559 4552359424 util.py:160] Unresolved object in checkpoint: (root).model._box_predictor._head_scope_conv_layers.ClassPredictionTower.2\n",
      "WARNING:tensorflow:Unresolved object in checkpoint: (root).model._box_predictor._head_scope_conv_layers.ClassPredictionTower.3\n",
      "W0409 16:37:23.902598 4552359424 util.py:160] Unresolved object in checkpoint: (root).model._box_predictor._head_scope_conv_layers.ClassPredictionTower.3\n",
      "WARNING:tensorflow:Unresolved object in checkpoint: (root).model._box_predictor._box_prediction_head._box_encoder_layers.0.depthwise_kernel\n",
      "W0409 16:37:23.902660 4552359424 util.py:160] Unresolved object in checkpoint: (root).model._box_predictor._box_prediction_head._box_encoder_layers.0.depthwise_kernel\n",
      "WARNING:tensorflow:Unresolved object in checkpoint: (root).model._box_predictor._box_prediction_head._box_encoder_layers.0.pointwise_kernel\n",
      "W0409 16:37:23.902702 4552359424 util.py:160] Unresolved object in checkpoint: (root).model._box_predictor._box_prediction_head._box_encoder_layers.0.pointwise_kernel\n",
      "WARNING:tensorflow:Unresolved object in checkpoint: (root).model._box_predictor._box_prediction_head._box_encoder_layers.0.bias\n",
      "W0409 16:37:23.902741 4552359424 util.py:160] Unresolved object in checkpoint: (root).model._box_predictor._box_prediction_head._box_encoder_layers.0.bias\n",
      "WARNING:tensorflow:Unresolved object in checkpoint: (root).model._box_predictor._prediction_heads.class_predictions_with_background._class_predictor_layers.0\n",
      "W0409 16:37:23.902782 4552359424 util.py:160] Unresolved object in checkpoint: (root).model._box_predictor._prediction_heads.class_predictions_with_background._class_predictor_layers.0\n",
      "WARNING:tensorflow:Unresolved object in checkpoint: (root).model._box_predictor._base_tower_layers_for_heads.box_encodings.0.1\n",
      "W0409 16:37:23.902821 4552359424 util.py:160] Unresolved object in checkpoint: (root).model._box_predictor._base_tower_layers_for_heads.box_encodings.0.1\n",
      "WARNING:tensorflow:Unresolved object in checkpoint: (root).model._box_predictor._base_tower_layers_for_heads.box_encodings.0.2\n",
      "W0409 16:37:23.902862 4552359424 util.py:160] Unresolved object in checkpoint: (root).model._box_predictor._base_tower_layers_for_heads.box_encodings.0.2\n",
      "WARNING:tensorflow:Unresolved object in checkpoint: (root).model._box_predictor._base_tower_layers_for_heads.box_encodings.0.4\n",
      "W0409 16:37:23.902997 4552359424 util.py:160] Unresolved object in checkpoint: (root).model._box_predictor._base_tower_layers_for_heads.box_encodings.0.4\n",
      "WARNING:tensorflow:Unresolved object in checkpoint: (root).model._box_predictor._base_tower_layers_for_heads.box_encodings.0.5\n",
      "W0409 16:37:23.903050 4552359424 util.py:160] Unresolved object in checkpoint: (root).model._box_predictor._base_tower_layers_for_heads.box_encodings.0.5\n",
      "WARNING:tensorflow:Unresolved object in checkpoint: (root).model._box_predictor._base_tower_layers_for_heads.box_encodings.0.7\n",
      "W0409 16:37:23.903100 4552359424 util.py:160] Unresolved object in checkpoint: (root).model._box_predictor._base_tower_layers_for_heads.box_encodings.0.7\n",
      "WARNING:tensorflow:Unresolved object in checkpoint: (root).model._box_predictor._base_tower_layers_for_heads.box_encodings.0.8\n",
      "W0409 16:37:23.903143 4552359424 util.py:160] Unresolved object in checkpoint: (root).model._box_predictor._base_tower_layers_for_heads.box_encodings.0.8\n",
      "WARNING:tensorflow:Unresolved object in checkpoint: (root).model._box_predictor._base_tower_layers_for_heads.box_encodings.0.10\n",
      "W0409 16:37:23.903185 4552359424 util.py:160] Unresolved object in checkpoint: (root).model._box_predictor._base_tower_layers_for_heads.box_encodings.0.10\n",
      "WARNING:tensorflow:Unresolved object in checkpoint: (root).model._box_predictor._base_tower_layers_for_heads.box_encodings.0.11\n",
      "W0409 16:37:23.903226 4552359424 util.py:160] Unresolved object in checkpoint: (root).model._box_predictor._base_tower_layers_for_heads.box_encodings.0.11\n",
      "WARNING:tensorflow:Unresolved object in checkpoint: (root).model._box_predictor._base_tower_layers_for_heads.box_encodings.1.1\n",
      "W0409 16:37:23.903267 4552359424 util.py:160] Unresolved object in checkpoint: (root).model._box_predictor._base_tower_layers_for_heads.box_encodings.1.1\n",
      "WARNING:tensorflow:Unresolved object in checkpoint: (root).model._box_predictor._base_tower_layers_for_heads.box_encodings.1.2\n",
      "W0409 16:37:23.903306 4552359424 util.py:160] Unresolved object in checkpoint: (root).model._box_predictor._base_tower_layers_for_heads.box_encodings.1.2\n",
      "WARNING:tensorflow:Unresolved object in checkpoint: (root).model._box_predictor._base_tower_layers_for_heads.box_encodings.1.4\n",
      "W0409 16:37:23.903345 4552359424 util.py:160] Unresolved object in checkpoint: (root).model._box_predictor._base_tower_layers_for_heads.box_encodings.1.4\n",
      "WARNING:tensorflow:Unresolved object in checkpoint: (root).model._box_predictor._base_tower_layers_for_heads.box_encodings.1.5\n",
      "W0409 16:37:23.903386 4552359424 util.py:160] Unresolved object in checkpoint: (root).model._box_predictor._base_tower_layers_for_heads.box_encodings.1.5\n",
      "WARNING:tensorflow:Unresolved object in checkpoint: (root).model._box_predictor._base_tower_layers_for_heads.box_encodings.1.7\n",
      "W0409 16:37:23.903424 4552359424 util.py:160] Unresolved object in checkpoint: (root).model._box_predictor._base_tower_layers_for_heads.box_encodings.1.7\n",
      "WARNING:tensorflow:Unresolved object in checkpoint: (root).model._box_predictor._base_tower_layers_for_heads.box_encodings.1.8\n",
      "W0409 16:37:23.903514 4552359424 util.py:160] Unresolved object in checkpoint: (root).model._box_predictor._base_tower_layers_for_heads.box_encodings.1.8\n",
      "WARNING:tensorflow:Unresolved object in checkpoint: (root).model._box_predictor._base_tower_layers_for_heads.box_encodings.1.10\n",
      "W0409 16:37:23.903555 4552359424 util.py:160] Unresolved object in checkpoint: (root).model._box_predictor._base_tower_layers_for_heads.box_encodings.1.10\n",
      "WARNING:tensorflow:Unresolved object in checkpoint: (root).model._box_predictor._base_tower_layers_for_heads.box_encodings.1.11\n",
      "W0409 16:37:23.903594 4552359424 util.py:160] Unresolved object in checkpoint: (root).model._box_predictor._base_tower_layers_for_heads.box_encodings.1.11\n",
      "WARNING:tensorflow:Unresolved object in checkpoint: (root).model._box_predictor._base_tower_layers_for_heads.box_encodings.2.1\n",
      "W0409 16:37:23.903635 4552359424 util.py:160] Unresolved object in checkpoint: (root).model._box_predictor._base_tower_layers_for_heads.box_encodings.2.1\n",
      "WARNING:tensorflow:Unresolved object in checkpoint: (root).model._box_predictor._base_tower_layers_for_heads.box_encodings.2.2\n",
      "W0409 16:37:23.903674 4552359424 util.py:160] Unresolved object in checkpoint: (root).model._box_predictor._base_tower_layers_for_heads.box_encodings.2.2\n",
      "WARNING:tensorflow:Unresolved object in checkpoint: (root).model._box_predictor._base_tower_layers_for_heads.box_encodings.2.4\n",
      "W0409 16:37:23.903713 4552359424 util.py:160] Unresolved object in checkpoint: (root).model._box_predictor._base_tower_layers_for_heads.box_encodings.2.4\n",
      "WARNING:tensorflow:Unresolved object in checkpoint: (root).model._box_predictor._base_tower_layers_for_heads.box_encodings.2.5\n",
      "W0409 16:37:23.903753 4552359424 util.py:160] Unresolved object in checkpoint: (root).model._box_predictor._base_tower_layers_for_heads.box_encodings.2.5\n",
      "WARNING:tensorflow:Unresolved object in checkpoint: (root).model._box_predictor._base_tower_layers_for_heads.box_encodings.2.7\n",
      "W0409 16:37:23.903792 4552359424 util.py:160] Unresolved object in checkpoint: (root).model._box_predictor._base_tower_layers_for_heads.box_encodings.2.7\n",
      "WARNING:tensorflow:Unresolved object in checkpoint: (root).model._box_predictor._base_tower_layers_for_heads.box_encodings.2.8\n",
      "W0409 16:37:23.903831 4552359424 util.py:160] Unresolved object in checkpoint: (root).model._box_predictor._base_tower_layers_for_heads.box_encodings.2.8\n",
      "WARNING:tensorflow:Unresolved object in checkpoint: (root).model._box_predictor._base_tower_layers_for_heads.box_encodings.2.10\n",
      "W0409 16:37:23.903877 4552359424 util.py:160] Unresolved object in checkpoint: (root).model._box_predictor._base_tower_layers_for_heads.box_encodings.2.10\n",
      "WARNING:tensorflow:Unresolved object in checkpoint: (root).model._box_predictor._base_tower_layers_for_heads.box_encodings.2.11\n",
      "W0409 16:37:23.903919 4552359424 util.py:160] Unresolved object in checkpoint: (root).model._box_predictor._base_tower_layers_for_heads.box_encodings.2.11\n",
      "WARNING:tensorflow:Unresolved object in checkpoint: (root).model._box_predictor._base_tower_layers_for_heads.box_encodings.3.1\n",
      "W0409 16:37:23.903958 4552359424 util.py:160] Unresolved object in checkpoint: (root).model._box_predictor._base_tower_layers_for_heads.box_encodings.3.1\n",
      "WARNING:tensorflow:Unresolved object in checkpoint: (root).model._box_predictor._base_tower_layers_for_heads.box_encodings.3.2\n",
      "W0409 16:37:23.903997 4552359424 util.py:160] Unresolved object in checkpoint: (root).model._box_predictor._base_tower_layers_for_heads.box_encodings.3.2\n",
      "WARNING:tensorflow:Unresolved object in checkpoint: (root).model._box_predictor._base_tower_layers_for_heads.box_encodings.3.4\n",
      "W0409 16:37:23.904037 4552359424 util.py:160] Unresolved object in checkpoint: (root).model._box_predictor._base_tower_layers_for_heads.box_encodings.3.4\n",
      "WARNING:tensorflow:Unresolved object in checkpoint: (root).model._box_predictor._base_tower_layers_for_heads.box_encodings.3.5\n",
      "W0409 16:37:23.904077 4552359424 util.py:160] Unresolved object in checkpoint: (root).model._box_predictor._base_tower_layers_for_heads.box_encodings.3.5\n",
      "WARNING:tensorflow:Unresolved object in checkpoint: (root).model._box_predictor._base_tower_layers_for_heads.box_encodings.3.7\n",
      "W0409 16:37:23.904115 4552359424 util.py:160] Unresolved object in checkpoint: (root).model._box_predictor._base_tower_layers_for_heads.box_encodings.3.7\n",
      "WARNING:tensorflow:Unresolved object in checkpoint: (root).model._box_predictor._base_tower_layers_for_heads.box_encodings.3.8\n",
      "W0409 16:37:23.904154 4552359424 util.py:160] Unresolved object in checkpoint: (root).model._box_predictor._base_tower_layers_for_heads.box_encodings.3.8\n",
      "WARNING:tensorflow:Unresolved object in checkpoint: (root).model._box_predictor._base_tower_layers_for_heads.box_encodings.3.10\n",
      "W0409 16:37:23.904195 4552359424 util.py:160] Unresolved object in checkpoint: (root).model._box_predictor._base_tower_layers_for_heads.box_encodings.3.10\n",
      "WARNING:tensorflow:Unresolved object in checkpoint: (root).model._box_predictor._base_tower_layers_for_heads.box_encodings.3.11\n",
      "W0409 16:37:23.904233 4552359424 util.py:160] Unresolved object in checkpoint: (root).model._box_predictor._base_tower_layers_for_heads.box_encodings.3.11\n",
      "WARNING:tensorflow:Unresolved object in checkpoint: (root).model._box_predictor._base_tower_layers_for_heads.box_encodings.4.1\n",
      "W0409 16:37:23.904272 4552359424 util.py:160] Unresolved object in checkpoint: (root).model._box_predictor._base_tower_layers_for_heads.box_encodings.4.1\n",
      "WARNING:tensorflow:Unresolved object in checkpoint: (root).model._box_predictor._base_tower_layers_for_heads.box_encodings.4.2\n",
      "W0409 16:37:23.904312 4552359424 util.py:160] Unresolved object in checkpoint: (root).model._box_predictor._base_tower_layers_for_heads.box_encodings.4.2\n",
      "WARNING:tensorflow:Unresolved object in checkpoint: (root).model._box_predictor._base_tower_layers_for_heads.box_encodings.4.4\n",
      "W0409 16:37:23.904350 4552359424 util.py:160] Unresolved object in checkpoint: (root).model._box_predictor._base_tower_layers_for_heads.box_encodings.4.4\n",
      "WARNING:tensorflow:Unresolved object in checkpoint: (root).model._box_predictor._base_tower_layers_for_heads.box_encodings.4.5\n",
      "W0409 16:37:23.904389 4552359424 util.py:160] Unresolved object in checkpoint: (root).model._box_predictor._base_tower_layers_for_heads.box_encodings.4.5\n",
      "WARNING:tensorflow:Unresolved object in checkpoint: (root).model._box_predictor._base_tower_layers_for_heads.box_encodings.4.7\n",
      "W0409 16:37:23.904428 4552359424 util.py:160] Unresolved object in checkpoint: (root).model._box_predictor._base_tower_layers_for_heads.box_encodings.4.7\n",
      "WARNING:tensorflow:Unresolved object in checkpoint: (root).model._box_predictor._base_tower_layers_for_heads.box_encodings.4.8\n",
      "W0409 16:37:23.904469 4552359424 util.py:160] Unresolved object in checkpoint: (root).model._box_predictor._base_tower_layers_for_heads.box_encodings.4.8\n",
      "WARNING:tensorflow:Unresolved object in checkpoint: (root).model._box_predictor._base_tower_layers_for_heads.box_encodings.4.10\n",
      "W0409 16:37:23.904507 4552359424 util.py:160] Unresolved object in checkpoint: (root).model._box_predictor._base_tower_layers_for_heads.box_encodings.4.10\n",
      "WARNING:tensorflow:Unresolved object in checkpoint: (root).model._box_predictor._base_tower_layers_for_heads.box_encodings.4.11\n",
      "W0409 16:37:23.904546 4552359424 util.py:160] Unresolved object in checkpoint: (root).model._box_predictor._base_tower_layers_for_heads.box_encodings.4.11\n",
      "WARNING:tensorflow:Unresolved object in checkpoint: (root).model._box_predictor._base_tower_layers_for_heads.class_predictions_with_background.0.1\n",
      "W0409 16:37:23.904586 4552359424 util.py:160] Unresolved object in checkpoint: (root).model._box_predictor._base_tower_layers_for_heads.class_predictions_with_background.0.1\n",
      "WARNING:tensorflow:Unresolved object in checkpoint: (root).model._box_predictor._base_tower_layers_for_heads.class_predictions_with_background.0.2\n",
      "W0409 16:37:23.904681 4552359424 util.py:160] Unresolved object in checkpoint: (root).model._box_predictor._base_tower_layers_for_heads.class_predictions_with_background.0.2\n",
      "WARNING:tensorflow:Unresolved object in checkpoint: (root).model._box_predictor._base_tower_layers_for_heads.class_predictions_with_background.0.4\n",
      "W0409 16:37:23.904747 4552359424 util.py:160] Unresolved object in checkpoint: (root).model._box_predictor._base_tower_layers_for_heads.class_predictions_with_background.0.4\n",
      "WARNING:tensorflow:Unresolved object in checkpoint: (root).model._box_predictor._base_tower_layers_for_heads.class_predictions_with_background.0.5\n",
      "W0409 16:37:23.904798 4552359424 util.py:160] Unresolved object in checkpoint: (root).model._box_predictor._base_tower_layers_for_heads.class_predictions_with_background.0.5\n",
      "WARNING:tensorflow:Unresolved object in checkpoint: (root).model._box_predictor._base_tower_layers_for_heads.class_predictions_with_background.0.7\n",
      "W0409 16:37:23.904881 4552359424 util.py:160] Unresolved object in checkpoint: (root).model._box_predictor._base_tower_layers_for_heads.class_predictions_with_background.0.7\n",
      "WARNING:tensorflow:Unresolved object in checkpoint: (root).model._box_predictor._base_tower_layers_for_heads.class_predictions_with_background.0.8\n",
      "W0409 16:37:23.904945 4552359424 util.py:160] Unresolved object in checkpoint: (root).model._box_predictor._base_tower_layers_for_heads.class_predictions_with_background.0.8\n",
      "WARNING:tensorflow:Unresolved object in checkpoint: (root).model._box_predictor._base_tower_layers_for_heads.class_predictions_with_background.0.10\n",
      "W0409 16:37:23.904996 4552359424 util.py:160] Unresolved object in checkpoint: (root).model._box_predictor._base_tower_layers_for_heads.class_predictions_with_background.0.10\n",
      "WARNING:tensorflow:Unresolved object in checkpoint: (root).model._box_predictor._base_tower_layers_for_heads.class_predictions_with_background.0.11\n",
      "W0409 16:37:23.905076 4552359424 util.py:160] Unresolved object in checkpoint: (root).model._box_predictor._base_tower_layers_for_heads.class_predictions_with_background.0.11\n",
      "WARNING:tensorflow:Unresolved object in checkpoint: (root).model._box_predictor._base_tower_layers_for_heads.class_predictions_with_background.1.1\n",
      "W0409 16:37:23.905140 4552359424 util.py:160] Unresolved object in checkpoint: (root).model._box_predictor._base_tower_layers_for_heads.class_predictions_with_background.1.1\n",
      "WARNING:tensorflow:Unresolved object in checkpoint: (root).model._box_predictor._base_tower_layers_for_heads.class_predictions_with_background.1.2\n",
      "W0409 16:37:23.905190 4552359424 util.py:160] Unresolved object in checkpoint: (root).model._box_predictor._base_tower_layers_for_heads.class_predictions_with_background.1.2\n",
      "WARNING:tensorflow:Unresolved object in checkpoint: (root).model._box_predictor._base_tower_layers_for_heads.class_predictions_with_background.1.4\n",
      "W0409 16:37:23.905235 4552359424 util.py:160] Unresolved object in checkpoint: (root).model._box_predictor._base_tower_layers_for_heads.class_predictions_with_background.1.4\n",
      "WARNING:tensorflow:Unresolved object in checkpoint: (root).model._box_predictor._base_tower_layers_for_heads.class_predictions_with_background.1.5\n",
      "W0409 16:37:23.905277 4552359424 util.py:160] Unresolved object in checkpoint: (root).model._box_predictor._base_tower_layers_for_heads.class_predictions_with_background.1.5\n",
      "WARNING:tensorflow:Unresolved object in checkpoint: (root).model._box_predictor._base_tower_layers_for_heads.class_predictions_with_background.1.7\n",
      "W0409 16:37:23.905317 4552359424 util.py:160] Unresolved object in checkpoint: (root).model._box_predictor._base_tower_layers_for_heads.class_predictions_with_background.1.7\n",
      "WARNING:tensorflow:Unresolved object in checkpoint: (root).model._box_predictor._base_tower_layers_for_heads.class_predictions_with_background.1.8\n",
      "W0409 16:37:23.905359 4552359424 util.py:160] Unresolved object in checkpoint: (root).model._box_predictor._base_tower_layers_for_heads.class_predictions_with_background.1.8\n",
      "WARNING:tensorflow:Unresolved object in checkpoint: (root).model._box_predictor._base_tower_layers_for_heads.class_predictions_with_background.1.10\n",
      "W0409 16:37:23.905458 4552359424 util.py:160] Unresolved object in checkpoint: (root).model._box_predictor._base_tower_layers_for_heads.class_predictions_with_background.1.10\n",
      "WARNING:tensorflow:Unresolved object in checkpoint: (root).model._box_predictor._base_tower_layers_for_heads.class_predictions_with_background.1.11\n",
      "W0409 16:37:23.905513 4552359424 util.py:160] Unresolved object in checkpoint: (root).model._box_predictor._base_tower_layers_for_heads.class_predictions_with_background.1.11\n",
      "WARNING:tensorflow:Unresolved object in checkpoint: (root).model._box_predictor._base_tower_layers_for_heads.class_predictions_with_background.2.1\n",
      "W0409 16:37:23.905560 4552359424 util.py:160] Unresolved object in checkpoint: (root).model._box_predictor._base_tower_layers_for_heads.class_predictions_with_background.2.1\n",
      "WARNING:tensorflow:Unresolved object in checkpoint: (root).model._box_predictor._base_tower_layers_for_heads.class_predictions_with_background.2.2\n",
      "W0409 16:37:23.905657 4552359424 util.py:160] Unresolved object in checkpoint: (root).model._box_predictor._base_tower_layers_for_heads.class_predictions_with_background.2.2\n",
      "WARNING:tensorflow:Unresolved object in checkpoint: (root).model._box_predictor._base_tower_layers_for_heads.class_predictions_with_background.2.4\n",
      "W0409 16:37:23.905709 4552359424 util.py:160] Unresolved object in checkpoint: (root).model._box_predictor._base_tower_layers_for_heads.class_predictions_with_background.2.4\n",
      "WARNING:tensorflow:Unresolved object in checkpoint: (root).model._box_predictor._base_tower_layers_for_heads.class_predictions_with_background.2.5\n",
      "W0409 16:37:23.905757 4552359424 util.py:160] Unresolved object in checkpoint: (root).model._box_predictor._base_tower_layers_for_heads.class_predictions_with_background.2.5\n",
      "WARNING:tensorflow:Unresolved object in checkpoint: (root).model._box_predictor._base_tower_layers_for_heads.class_predictions_with_background.2.7\n",
      "W0409 16:37:23.905801 4552359424 util.py:160] Unresolved object in checkpoint: (root).model._box_predictor._base_tower_layers_for_heads.class_predictions_with_background.2.7\n",
      "WARNING:tensorflow:Unresolved object in checkpoint: (root).model._box_predictor._base_tower_layers_for_heads.class_predictions_with_background.2.8\n",
      "W0409 16:37:23.905841 4552359424 util.py:160] Unresolved object in checkpoint: (root).model._box_predictor._base_tower_layers_for_heads.class_predictions_with_background.2.8\n",
      "WARNING:tensorflow:Unresolved object in checkpoint: (root).model._box_predictor._base_tower_layers_for_heads.class_predictions_with_background.2.10\n",
      "W0409 16:37:23.905882 4552359424 util.py:160] Unresolved object in checkpoint: (root).model._box_predictor._base_tower_layers_for_heads.class_predictions_with_background.2.10\n",
      "WARNING:tensorflow:Unresolved object in checkpoint: (root).model._box_predictor._base_tower_layers_for_heads.class_predictions_with_background.2.11\n",
      "W0409 16:37:23.905923 4552359424 util.py:160] Unresolved object in checkpoint: (root).model._box_predictor._base_tower_layers_for_heads.class_predictions_with_background.2.11\n",
      "WARNING:tensorflow:Unresolved object in checkpoint: (root).model._box_predictor._base_tower_layers_for_heads.class_predictions_with_background.3.1\n",
      "W0409 16:37:23.906063 4552359424 util.py:160] Unresolved object in checkpoint: (root).model._box_predictor._base_tower_layers_for_heads.class_predictions_with_background.3.1\n",
      "WARNING:tensorflow:Unresolved object in checkpoint: (root).model._box_predictor._base_tower_layers_for_heads.class_predictions_with_background.3.2\n",
      "W0409 16:37:23.906117 4552359424 util.py:160] Unresolved object in checkpoint: (root).model._box_predictor._base_tower_layers_for_heads.class_predictions_with_background.3.2\n",
      "WARNING:tensorflow:Unresolved object in checkpoint: (root).model._box_predictor._base_tower_layers_for_heads.class_predictions_with_background.3.4\n",
      "W0409 16:37:23.906167 4552359424 util.py:160] Unresolved object in checkpoint: (root).model._box_predictor._base_tower_layers_for_heads.class_predictions_with_background.3.4\n",
      "WARNING:tensorflow:Unresolved object in checkpoint: (root).model._box_predictor._base_tower_layers_for_heads.class_predictions_with_background.3.5\n",
      "W0409 16:37:23.906285 4552359424 util.py:160] Unresolved object in checkpoint: (root).model._box_predictor._base_tower_layers_for_heads.class_predictions_with_background.3.5\n",
      "WARNING:tensorflow:Unresolved object in checkpoint: (root).model._box_predictor._base_tower_layers_for_heads.class_predictions_with_background.3.7\n",
      "W0409 16:37:23.906337 4552359424 util.py:160] Unresolved object in checkpoint: (root).model._box_predictor._base_tower_layers_for_heads.class_predictions_with_background.3.7\n",
      "WARNING:tensorflow:Unresolved object in checkpoint: (root).model._box_predictor._base_tower_layers_for_heads.class_predictions_with_background.3.8\n",
      "W0409 16:37:23.906386 4552359424 util.py:160] Unresolved object in checkpoint: (root).model._box_predictor._base_tower_layers_for_heads.class_predictions_with_background.3.8\n",
      "WARNING:tensorflow:Unresolved object in checkpoint: (root).model._box_predictor._base_tower_layers_for_heads.class_predictions_with_background.3.10\n",
      "W0409 16:37:23.906428 4552359424 util.py:160] Unresolved object in checkpoint: (root).model._box_predictor._base_tower_layers_for_heads.class_predictions_with_background.3.10\n",
      "WARNING:tensorflow:Unresolved object in checkpoint: (root).model._box_predictor._base_tower_layers_for_heads.class_predictions_with_background.3.11\n",
      "W0409 16:37:23.906469 4552359424 util.py:160] Unresolved object in checkpoint: (root).model._box_predictor._base_tower_layers_for_heads.class_predictions_with_background.3.11\n",
      "WARNING:tensorflow:Unresolved object in checkpoint: (root).model._box_predictor._base_tower_layers_for_heads.class_predictions_with_background.4.1\n",
      "W0409 16:37:23.906511 4552359424 util.py:160] Unresolved object in checkpoint: (root).model._box_predictor._base_tower_layers_for_heads.class_predictions_with_background.4.1\n",
      "WARNING:tensorflow:Unresolved object in checkpoint: (root).model._box_predictor._base_tower_layers_for_heads.class_predictions_with_background.4.2\n",
      "W0409 16:37:23.906551 4552359424 util.py:160] Unresolved object in checkpoint: (root).model._box_predictor._base_tower_layers_for_heads.class_predictions_with_background.4.2\n",
      "WARNING:tensorflow:Unresolved object in checkpoint: (root).model._box_predictor._base_tower_layers_for_heads.class_predictions_with_background.4.4\n",
      "W0409 16:37:23.906646 4552359424 util.py:160] Unresolved object in checkpoint: (root).model._box_predictor._base_tower_layers_for_heads.class_predictions_with_background.4.4\n",
      "WARNING:tensorflow:Unresolved object in checkpoint: (root).model._box_predictor._base_tower_layers_for_heads.class_predictions_with_background.4.5\n",
      "W0409 16:37:23.906700 4552359424 util.py:160] Unresolved object in checkpoint: (root).model._box_predictor._base_tower_layers_for_heads.class_predictions_with_background.4.5\n",
      "WARNING:tensorflow:Unresolved object in checkpoint: (root).model._box_predictor._base_tower_layers_for_heads.class_predictions_with_background.4.7\n",
      "W0409 16:37:23.906750 4552359424 util.py:160] Unresolved object in checkpoint: (root).model._box_predictor._base_tower_layers_for_heads.class_predictions_with_background.4.7\n",
      "WARNING:tensorflow:Unresolved object in checkpoint: (root).model._box_predictor._base_tower_layers_for_heads.class_predictions_with_background.4.8\n",
      "W0409 16:37:23.906847 4552359424 util.py:160] Unresolved object in checkpoint: (root).model._box_predictor._base_tower_layers_for_heads.class_predictions_with_background.4.8\n",
      "WARNING:tensorflow:Unresolved object in checkpoint: (root).model._box_predictor._base_tower_layers_for_heads.class_predictions_with_background.4.10\n",
      "W0409 16:37:23.906900 4552359424 util.py:160] Unresolved object in checkpoint: (root).model._box_predictor._base_tower_layers_for_heads.class_predictions_with_background.4.10\n",
      "WARNING:tensorflow:Unresolved object in checkpoint: (root).model._box_predictor._base_tower_layers_for_heads.class_predictions_with_background.4.11\n",
      "W0409 16:37:23.906949 4552359424 util.py:160] Unresolved object in checkpoint: (root).model._box_predictor._base_tower_layers_for_heads.class_predictions_with_background.4.11\n",
      "WARNING:tensorflow:Unresolved object in checkpoint: (root).model._box_predictor._head_scope_conv_layers.PredictionTower.0.depthwise_kernel\n",
      "W0409 16:37:23.906992 4552359424 util.py:160] Unresolved object in checkpoint: (root).model._box_predictor._head_scope_conv_layers.PredictionTower.0.depthwise_kernel\n",
      "WARNING:tensorflow:Unresolved object in checkpoint: (root).model._box_predictor._head_scope_conv_layers.PredictionTower.0.pointwise_kernel\n",
      "W0409 16:37:23.907034 4552359424 util.py:160] Unresolved object in checkpoint: (root).model._box_predictor._head_scope_conv_layers.PredictionTower.0.pointwise_kernel\n",
      "WARNING:tensorflow:Unresolved object in checkpoint: (root).model._box_predictor._head_scope_conv_layers.PredictionTower.1.depthwise_kernel\n",
      "W0409 16:37:23.907073 4552359424 util.py:160] Unresolved object in checkpoint: (root).model._box_predictor._head_scope_conv_layers.PredictionTower.1.depthwise_kernel\n",
      "WARNING:tensorflow:Unresolved object in checkpoint: (root).model._box_predictor._head_scope_conv_layers.PredictionTower.1.pointwise_kernel\n",
      "W0409 16:37:23.907114 4552359424 util.py:160] Unresolved object in checkpoint: (root).model._box_predictor._head_scope_conv_layers.PredictionTower.1.pointwise_kernel\n",
      "WARNING:tensorflow:Unresolved object in checkpoint: (root).model._box_predictor._head_scope_conv_layers.PredictionTower.2.depthwise_kernel\n",
      "W0409 16:37:23.907208 4552359424 util.py:160] Unresolved object in checkpoint: (root).model._box_predictor._head_scope_conv_layers.PredictionTower.2.depthwise_kernel\n",
      "WARNING:tensorflow:Unresolved object in checkpoint: (root).model._box_predictor._head_scope_conv_layers.PredictionTower.2.pointwise_kernel\n",
      "W0409 16:37:23.907263 4552359424 util.py:160] Unresolved object in checkpoint: (root).model._box_predictor._head_scope_conv_layers.PredictionTower.2.pointwise_kernel\n",
      "WARNING:tensorflow:Unresolved object in checkpoint: (root).model._box_predictor._head_scope_conv_layers.PredictionTower.3.depthwise_kernel\n",
      "W0409 16:37:23.907312 4552359424 util.py:160] Unresolved object in checkpoint: (root).model._box_predictor._head_scope_conv_layers.PredictionTower.3.depthwise_kernel\n",
      "WARNING:tensorflow:Unresolved object in checkpoint: (root).model._box_predictor._head_scope_conv_layers.PredictionTower.3.pointwise_kernel\n",
      "W0409 16:37:23.907355 4552359424 util.py:160] Unresolved object in checkpoint: (root).model._box_predictor._head_scope_conv_layers.PredictionTower.3.pointwise_kernel\n",
      "WARNING:tensorflow:Unresolved object in checkpoint: (root).model._box_predictor._prediction_heads.class_predictions_with_background._class_predictor_layers.0.depthwise_kernel\n",
      "W0409 16:37:23.907400 4552359424 util.py:160] Unresolved object in checkpoint: (root).model._box_predictor._prediction_heads.class_predictions_with_background._class_predictor_layers.0.depthwise_kernel\n",
      "WARNING:tensorflow:Unresolved object in checkpoint: (root).model._box_predictor._prediction_heads.class_predictions_with_background._class_predictor_layers.0.pointwise_kernel\n",
      "W0409 16:37:23.907441 4552359424 util.py:160] Unresolved object in checkpoint: (root).model._box_predictor._prediction_heads.class_predictions_with_background._class_predictor_layers.0.pointwise_kernel\n",
      "WARNING:tensorflow:Unresolved object in checkpoint: (root).model._box_predictor._prediction_heads.class_predictions_with_background._class_predictor_layers.0.bias\n",
      "W0409 16:37:23.907540 4552359424 util.py:160] Unresolved object in checkpoint: (root).model._box_predictor._prediction_heads.class_predictions_with_background._class_predictor_layers.0.bias\n",
      "WARNING:tensorflow:Unresolved object in checkpoint: (root).model._box_predictor._base_tower_layers_for_heads.box_encodings.0.1.axis\n",
      "W0409 16:37:23.907603 4552359424 util.py:160] Unresolved object in checkpoint: (root).model._box_predictor._base_tower_layers_for_heads.box_encodings.0.1.axis\n",
      "WARNING:tensorflow:Unresolved object in checkpoint: (root).model._box_predictor._base_tower_layers_for_heads.box_encodings.0.1.gamma\n",
      "W0409 16:37:23.907655 4552359424 util.py:160] Unresolved object in checkpoint: (root).model._box_predictor._base_tower_layers_for_heads.box_encodings.0.1.gamma\n",
      "WARNING:tensorflow:Unresolved object in checkpoint: (root).model._box_predictor._base_tower_layers_for_heads.box_encodings.0.1.beta\n",
      "W0409 16:37:23.907697 4552359424 util.py:160] Unresolved object in checkpoint: (root).model._box_predictor._base_tower_layers_for_heads.box_encodings.0.1.beta\n",
      "WARNING:tensorflow:Unresolved object in checkpoint: (root).model._box_predictor._base_tower_layers_for_heads.box_encodings.0.1.moving_mean\n",
      "W0409 16:37:23.907738 4552359424 util.py:160] Unresolved object in checkpoint: (root).model._box_predictor._base_tower_layers_for_heads.box_encodings.0.1.moving_mean\n",
      "WARNING:tensorflow:Unresolved object in checkpoint: (root).model._box_predictor._base_tower_layers_for_heads.box_encodings.0.1.moving_variance\n",
      "W0409 16:37:23.907780 4552359424 util.py:160] Unresolved object in checkpoint: (root).model._box_predictor._base_tower_layers_for_heads.box_encodings.0.1.moving_variance\n",
      "WARNING:tensorflow:Unresolved object in checkpoint: (root).model._box_predictor._base_tower_layers_for_heads.box_encodings.0.4.axis\n",
      "W0409 16:37:23.907820 4552359424 util.py:160] Unresolved object in checkpoint: (root).model._box_predictor._base_tower_layers_for_heads.box_encodings.0.4.axis\n",
      "WARNING:tensorflow:Unresolved object in checkpoint: (root).model._box_predictor._base_tower_layers_for_heads.box_encodings.0.4.gamma\n",
      "W0409 16:37:23.907930 4552359424 util.py:160] Unresolved object in checkpoint: (root).model._box_predictor._base_tower_layers_for_heads.box_encodings.0.4.gamma\n",
      "WARNING:tensorflow:Unresolved object in checkpoint: (root).model._box_predictor._base_tower_layers_for_heads.box_encodings.0.4.beta\n",
      "W0409 16:37:23.907972 4552359424 util.py:160] Unresolved object in checkpoint: (root).model._box_predictor._base_tower_layers_for_heads.box_encodings.0.4.beta\n",
      "WARNING:tensorflow:Unresolved object in checkpoint: (root).model._box_predictor._base_tower_layers_for_heads.box_encodings.0.4.moving_mean\n",
      "W0409 16:37:23.908013 4552359424 util.py:160] Unresolved object in checkpoint: (root).model._box_predictor._base_tower_layers_for_heads.box_encodings.0.4.moving_mean\n",
      "WARNING:tensorflow:Unresolved object in checkpoint: (root).model._box_predictor._base_tower_layers_for_heads.box_encodings.0.4.moving_variance\n",
      "W0409 16:37:23.908087 4552359424 util.py:160] Unresolved object in checkpoint: (root).model._box_predictor._base_tower_layers_for_heads.box_encodings.0.4.moving_variance\n",
      "WARNING:tensorflow:Unresolved object in checkpoint: (root).model._box_predictor._base_tower_layers_for_heads.box_encodings.0.7.axis\n",
      "W0409 16:37:23.908133 4552359424 util.py:160] Unresolved object in checkpoint: (root).model._box_predictor._base_tower_layers_for_heads.box_encodings.0.7.axis\n",
      "WARNING:tensorflow:Unresolved object in checkpoint: (root).model._box_predictor._base_tower_layers_for_heads.box_encodings.0.7.gamma\n",
      "W0409 16:37:23.908174 4552359424 util.py:160] Unresolved object in checkpoint: (root).model._box_predictor._base_tower_layers_for_heads.box_encodings.0.7.gamma\n",
      "WARNING:tensorflow:Unresolved object in checkpoint: (root).model._box_predictor._base_tower_layers_for_heads.box_encodings.0.7.beta\n",
      "W0409 16:37:23.908217 4552359424 util.py:160] Unresolved object in checkpoint: (root).model._box_predictor._base_tower_layers_for_heads.box_encodings.0.7.beta\n",
      "WARNING:tensorflow:Unresolved object in checkpoint: (root).model._box_predictor._base_tower_layers_for_heads.box_encodings.0.7.moving_mean\n",
      "W0409 16:37:23.908318 4552359424 util.py:160] Unresolved object in checkpoint: (root).model._box_predictor._base_tower_layers_for_heads.box_encodings.0.7.moving_mean\n",
      "WARNING:tensorflow:Unresolved object in checkpoint: (root).model._box_predictor._base_tower_layers_for_heads.box_encodings.0.7.moving_variance\n",
      "W0409 16:37:23.908360 4552359424 util.py:160] Unresolved object in checkpoint: (root).model._box_predictor._base_tower_layers_for_heads.box_encodings.0.7.moving_variance\n",
      "WARNING:tensorflow:Unresolved object in checkpoint: (root).model._box_predictor._base_tower_layers_for_heads.box_encodings.0.10.axis\n",
      "W0409 16:37:23.908401 4552359424 util.py:160] Unresolved object in checkpoint: (root).model._box_predictor._base_tower_layers_for_heads.box_encodings.0.10.axis\n",
      "WARNING:tensorflow:Unresolved object in checkpoint: (root).model._box_predictor._base_tower_layers_for_heads.box_encodings.0.10.gamma\n",
      "W0409 16:37:23.908499 4552359424 util.py:160] Unresolved object in checkpoint: (root).model._box_predictor._base_tower_layers_for_heads.box_encodings.0.10.gamma\n",
      "WARNING:tensorflow:Unresolved object in checkpoint: (root).model._box_predictor._base_tower_layers_for_heads.box_encodings.0.10.beta\n",
      "W0409 16:37:23.908562 4552359424 util.py:160] Unresolved object in checkpoint: (root).model._box_predictor._base_tower_layers_for_heads.box_encodings.0.10.beta\n",
      "WARNING:tensorflow:Unresolved object in checkpoint: (root).model._box_predictor._base_tower_layers_for_heads.box_encodings.0.10.moving_mean\n",
      "W0409 16:37:23.908613 4552359424 util.py:160] Unresolved object in checkpoint: (root).model._box_predictor._base_tower_layers_for_heads.box_encodings.0.10.moving_mean\n",
      "WARNING:tensorflow:Unresolved object in checkpoint: (root).model._box_predictor._base_tower_layers_for_heads.box_encodings.0.10.moving_variance\n",
      "W0409 16:37:23.908658 4552359424 util.py:160] Unresolved object in checkpoint: (root).model._box_predictor._base_tower_layers_for_heads.box_encodings.0.10.moving_variance\n",
      "WARNING:tensorflow:Unresolved object in checkpoint: (root).model._box_predictor._base_tower_layers_for_heads.box_encodings.1.1.axis\n",
      "W0409 16:37:23.908754 4552359424 util.py:160] Unresolved object in checkpoint: (root).model._box_predictor._base_tower_layers_for_heads.box_encodings.1.1.axis\n",
      "WARNING:tensorflow:Unresolved object in checkpoint: (root).model._box_predictor._base_tower_layers_for_heads.box_encodings.1.1.gamma\n",
      "W0409 16:37:23.908807 4552359424 util.py:160] Unresolved object in checkpoint: (root).model._box_predictor._base_tower_layers_for_heads.box_encodings.1.1.gamma\n",
      "WARNING:tensorflow:Unresolved object in checkpoint: (root).model._box_predictor._base_tower_layers_for_heads.box_encodings.1.1.beta\n",
      "W0409 16:37:23.908857 4552359424 util.py:160] Unresolved object in checkpoint: (root).model._box_predictor._base_tower_layers_for_heads.box_encodings.1.1.beta\n",
      "WARNING:tensorflow:Unresolved object in checkpoint: (root).model._box_predictor._base_tower_layers_for_heads.box_encodings.1.1.moving_mean\n",
      "W0409 16:37:23.908900 4552359424 util.py:160] Unresolved object in checkpoint: (root).model._box_predictor._base_tower_layers_for_heads.box_encodings.1.1.moving_mean\n",
      "WARNING:tensorflow:Unresolved object in checkpoint: (root).model._box_predictor._base_tower_layers_for_heads.box_encodings.1.1.moving_variance\n",
      "W0409 16:37:23.908941 4552359424 util.py:160] Unresolved object in checkpoint: (root).model._box_predictor._base_tower_layers_for_heads.box_encodings.1.1.moving_variance\n",
      "WARNING:tensorflow:Unresolved object in checkpoint: (root).model._box_predictor._base_tower_layers_for_heads.box_encodings.1.4.axis\n",
      "W0409 16:37:23.908979 4552359424 util.py:160] Unresolved object in checkpoint: (root).model._box_predictor._base_tower_layers_for_heads.box_encodings.1.4.axis\n",
      "WARNING:tensorflow:Unresolved object in checkpoint: (root).model._box_predictor._base_tower_layers_for_heads.box_encodings.1.4.gamma\n",
      "W0409 16:37:23.909097 4552359424 util.py:160] Unresolved object in checkpoint: (root).model._box_predictor._base_tower_layers_for_heads.box_encodings.1.4.gamma\n",
      "WARNING:tensorflow:Unresolved object in checkpoint: (root).model._box_predictor._base_tower_layers_for_heads.box_encodings.1.4.beta\n",
      "W0409 16:37:23.909152 4552359424 util.py:160] Unresolved object in checkpoint: (root).model._box_predictor._base_tower_layers_for_heads.box_encodings.1.4.beta\n",
      "WARNING:tensorflow:Unresolved object in checkpoint: (root).model._box_predictor._base_tower_layers_for_heads.box_encodings.1.4.moving_mean\n",
      "W0409 16:37:23.909198 4552359424 util.py:160] Unresolved object in checkpoint: (root).model._box_predictor._base_tower_layers_for_heads.box_encodings.1.4.moving_mean\n",
      "WARNING:tensorflow:Unresolved object in checkpoint: (root).model._box_predictor._base_tower_layers_for_heads.box_encodings.1.4.moving_variance\n",
      "W0409 16:37:23.909246 4552359424 util.py:160] Unresolved object in checkpoint: (root).model._box_predictor._base_tower_layers_for_heads.box_encodings.1.4.moving_variance\n",
      "WARNING:tensorflow:Unresolved object in checkpoint: (root).model._box_predictor._base_tower_layers_for_heads.box_encodings.1.7.axis\n",
      "W0409 16:37:23.909354 4552359424 util.py:160] Unresolved object in checkpoint: (root).model._box_predictor._base_tower_layers_for_heads.box_encodings.1.7.axis\n",
      "WARNING:tensorflow:Unresolved object in checkpoint: (root).model._box_predictor._base_tower_layers_for_heads.box_encodings.1.7.gamma\n",
      "W0409 16:37:23.909408 4552359424 util.py:160] Unresolved object in checkpoint: (root).model._box_predictor._base_tower_layers_for_heads.box_encodings.1.7.gamma\n",
      "WARNING:tensorflow:Unresolved object in checkpoint: (root).model._box_predictor._base_tower_layers_for_heads.box_encodings.1.7.beta\n",
      "W0409 16:37:23.909456 4552359424 util.py:160] Unresolved object in checkpoint: (root).model._box_predictor._base_tower_layers_for_heads.box_encodings.1.7.beta\n",
      "WARNING:tensorflow:Unresolved object in checkpoint: (root).model._box_predictor._base_tower_layers_for_heads.box_encodings.1.7.moving_mean\n",
      "W0409 16:37:23.909499 4552359424 util.py:160] Unresolved object in checkpoint: (root).model._box_predictor._base_tower_layers_for_heads.box_encodings.1.7.moving_mean\n",
      "WARNING:tensorflow:Unresolved object in checkpoint: (root).model._box_predictor._base_tower_layers_for_heads.box_encodings.1.7.moving_variance\n",
      "W0409 16:37:23.909541 4552359424 util.py:160] Unresolved object in checkpoint: (root).model._box_predictor._base_tower_layers_for_heads.box_encodings.1.7.moving_variance\n",
      "WARNING:tensorflow:Unresolved object in checkpoint: (root).model._box_predictor._base_tower_layers_for_heads.box_encodings.1.10.axis\n",
      "W0409 16:37:23.909582 4552359424 util.py:160] Unresolved object in checkpoint: (root).model._box_predictor._base_tower_layers_for_heads.box_encodings.1.10.axis\n",
      "WARNING:tensorflow:Unresolved object in checkpoint: (root).model._box_predictor._base_tower_layers_for_heads.box_encodings.1.10.gamma\n",
      "W0409 16:37:23.909680 4552359424 util.py:160] Unresolved object in checkpoint: (root).model._box_predictor._base_tower_layers_for_heads.box_encodings.1.10.gamma\n",
      "WARNING:tensorflow:Unresolved object in checkpoint: (root).model._box_predictor._base_tower_layers_for_heads.box_encodings.1.10.beta\n",
      "W0409 16:37:23.909731 4552359424 util.py:160] Unresolved object in checkpoint: (root).model._box_predictor._base_tower_layers_for_heads.box_encodings.1.10.beta\n",
      "WARNING:tensorflow:Unresolved object in checkpoint: (root).model._box_predictor._base_tower_layers_for_heads.box_encodings.1.10.moving_mean\n",
      "W0409 16:37:23.909774 4552359424 util.py:160] Unresolved object in checkpoint: (root).model._box_predictor._base_tower_layers_for_heads.box_encodings.1.10.moving_mean\n",
      "WARNING:tensorflow:Unresolved object in checkpoint: (root).model._box_predictor._base_tower_layers_for_heads.box_encodings.1.10.moving_variance\n",
      "W0409 16:37:23.909816 4552359424 util.py:160] Unresolved object in checkpoint: (root).model._box_predictor._base_tower_layers_for_heads.box_encodings.1.10.moving_variance\n",
      "WARNING:tensorflow:Unresolved object in checkpoint: (root).model._box_predictor._base_tower_layers_for_heads.box_encodings.2.1.axis\n",
      "W0409 16:37:23.909918 4552359424 util.py:160] Unresolved object in checkpoint: (root).model._box_predictor._base_tower_layers_for_heads.box_encodings.2.1.axis\n",
      "WARNING:tensorflow:Unresolved object in checkpoint: (root).model._box_predictor._base_tower_layers_for_heads.box_encodings.2.1.gamma\n",
      "W0409 16:37:23.909971 4552359424 util.py:160] Unresolved object in checkpoint: (root).model._box_predictor._base_tower_layers_for_heads.box_encodings.2.1.gamma\n",
      "WARNING:tensorflow:Unresolved object in checkpoint: (root).model._box_predictor._base_tower_layers_for_heads.box_encodings.2.1.beta\n",
      "W0409 16:37:23.910020 4552359424 util.py:160] Unresolved object in checkpoint: (root).model._box_predictor._base_tower_layers_for_heads.box_encodings.2.1.beta\n",
      "WARNING:tensorflow:Unresolved object in checkpoint: (root).model._box_predictor._base_tower_layers_for_heads.box_encodings.2.1.moving_mean\n",
      "W0409 16:37:23.910089 4552359424 util.py:160] Unresolved object in checkpoint: (root).model._box_predictor._base_tower_layers_for_heads.box_encodings.2.1.moving_mean\n",
      "WARNING:tensorflow:Unresolved object in checkpoint: (root).model._box_predictor._base_tower_layers_for_heads.box_encodings.2.1.moving_variance\n",
      "W0409 16:37:23.910137 4552359424 util.py:160] Unresolved object in checkpoint: (root).model._box_predictor._base_tower_layers_for_heads.box_encodings.2.1.moving_variance\n",
      "WARNING:tensorflow:Unresolved object in checkpoint: (root).model._box_predictor._base_tower_layers_for_heads.box_encodings.2.4.axis\n",
      "W0409 16:37:23.910176 4552359424 util.py:160] Unresolved object in checkpoint: (root).model._box_predictor._base_tower_layers_for_heads.box_encodings.2.4.axis\n",
      "WARNING:tensorflow:Unresolved object in checkpoint: (root).model._box_predictor._base_tower_layers_for_heads.box_encodings.2.4.gamma\n",
      "W0409 16:37:23.910220 4552359424 util.py:160] Unresolved object in checkpoint: (root).model._box_predictor._base_tower_layers_for_heads.box_encodings.2.4.gamma\n",
      "WARNING:tensorflow:Unresolved object in checkpoint: (root).model._box_predictor._base_tower_layers_for_heads.box_encodings.2.4.beta\n",
      "W0409 16:37:23.910322 4552359424 util.py:160] Unresolved object in checkpoint: (root).model._box_predictor._base_tower_layers_for_heads.box_encodings.2.4.beta\n",
      "WARNING:tensorflow:Unresolved object in checkpoint: (root).model._box_predictor._base_tower_layers_for_heads.box_encodings.2.4.moving_mean\n",
      "W0409 16:37:23.910375 4552359424 util.py:160] Unresolved object in checkpoint: (root).model._box_predictor._base_tower_layers_for_heads.box_encodings.2.4.moving_mean\n",
      "WARNING:tensorflow:Unresolved object in checkpoint: (root).model._box_predictor._base_tower_layers_for_heads.box_encodings.2.4.moving_variance\n",
      "W0409 16:37:23.910423 4552359424 util.py:160] Unresolved object in checkpoint: (root).model._box_predictor._base_tower_layers_for_heads.box_encodings.2.4.moving_variance\n",
      "WARNING:tensorflow:Unresolved object in checkpoint: (root).model._box_predictor._base_tower_layers_for_heads.box_encodings.2.7.axis\n",
      "W0409 16:37:23.910468 4552359424 util.py:160] Unresolved object in checkpoint: (root).model._box_predictor._base_tower_layers_for_heads.box_encodings.2.7.axis\n",
      "WARNING:tensorflow:Unresolved object in checkpoint: (root).model._box_predictor._base_tower_layers_for_heads.box_encodings.2.7.gamma\n",
      "W0409 16:37:23.910509 4552359424 util.py:160] Unresolved object in checkpoint: (root).model._box_predictor._base_tower_layers_for_heads.box_encodings.2.7.gamma\n",
      "WARNING:tensorflow:Unresolved object in checkpoint: (root).model._box_predictor._base_tower_layers_for_heads.box_encodings.2.7.beta\n",
      "W0409 16:37:23.910548 4552359424 util.py:160] Unresolved object in checkpoint: (root).model._box_predictor._base_tower_layers_for_heads.box_encodings.2.7.beta\n",
      "WARNING:tensorflow:Unresolved object in checkpoint: (root).model._box_predictor._base_tower_layers_for_heads.box_encodings.2.7.moving_mean\n",
      "W0409 16:37:23.910624 4552359424 util.py:160] Unresolved object in checkpoint: (root).model._box_predictor._base_tower_layers_for_heads.box_encodings.2.7.moving_mean\n",
      "WARNING:tensorflow:Unresolved object in checkpoint: (root).model._box_predictor._base_tower_layers_for_heads.box_encodings.2.7.moving_variance\n",
      "W0409 16:37:23.910673 4552359424 util.py:160] Unresolved object in checkpoint: (root).model._box_predictor._base_tower_layers_for_heads.box_encodings.2.7.moving_variance\n",
      "WARNING:tensorflow:Unresolved object in checkpoint: (root).model._box_predictor._base_tower_layers_for_heads.box_encodings.2.10.axis\n",
      "W0409 16:37:23.910714 4552359424 util.py:160] Unresolved object in checkpoint: (root).model._box_predictor._base_tower_layers_for_heads.box_encodings.2.10.axis\n",
      "WARNING:tensorflow:Unresolved object in checkpoint: (root).model._box_predictor._base_tower_layers_for_heads.box_encodings.2.10.gamma\n",
      "W0409 16:37:23.910757 4552359424 util.py:160] Unresolved object in checkpoint: (root).model._box_predictor._base_tower_layers_for_heads.box_encodings.2.10.gamma\n",
      "WARNING:tensorflow:Unresolved object in checkpoint: (root).model._box_predictor._base_tower_layers_for_heads.box_encodings.2.10.beta\n",
      "W0409 16:37:23.910861 4552359424 util.py:160] Unresolved object in checkpoint: (root).model._box_predictor._base_tower_layers_for_heads.box_encodings.2.10.beta\n",
      "WARNING:tensorflow:Unresolved object in checkpoint: (root).model._box_predictor._base_tower_layers_for_heads.box_encodings.2.10.moving_mean\n",
      "W0409 16:37:23.910917 4552359424 util.py:160] Unresolved object in checkpoint: (root).model._box_predictor._base_tower_layers_for_heads.box_encodings.2.10.moving_mean\n",
      "WARNING:tensorflow:Unresolved object in checkpoint: (root).model._box_predictor._base_tower_layers_for_heads.box_encodings.2.10.moving_variance\n",
      "W0409 16:37:23.910965 4552359424 util.py:160] Unresolved object in checkpoint: (root).model._box_predictor._base_tower_layers_for_heads.box_encodings.2.10.moving_variance\n",
      "WARNING:tensorflow:Unresolved object in checkpoint: (root).model._box_predictor._base_tower_layers_for_heads.box_encodings.3.1.axis\n",
      "W0409 16:37:23.911026 4552359424 util.py:160] Unresolved object in checkpoint: (root).model._box_predictor._base_tower_layers_for_heads.box_encodings.3.1.axis\n",
      "WARNING:tensorflow:Unresolved object in checkpoint: (root).model._box_predictor._base_tower_layers_for_heads.box_encodings.3.1.gamma\n",
      "W0409 16:37:23.911069 4552359424 util.py:160] Unresolved object in checkpoint: (root).model._box_predictor._base_tower_layers_for_heads.box_encodings.3.1.gamma\n",
      "WARNING:tensorflow:Unresolved object in checkpoint: (root).model._box_predictor._base_tower_layers_for_heads.box_encodings.3.1.beta\n",
      "W0409 16:37:23.911109 4552359424 util.py:160] Unresolved object in checkpoint: (root).model._box_predictor._base_tower_layers_for_heads.box_encodings.3.1.beta\n",
      "WARNING:tensorflow:Unresolved object in checkpoint: (root).model._box_predictor._base_tower_layers_for_heads.box_encodings.3.1.moving_mean\n",
      "W0409 16:37:23.911149 4552359424 util.py:160] Unresolved object in checkpoint: (root).model._box_predictor._base_tower_layers_for_heads.box_encodings.3.1.moving_mean\n",
      "WARNING:tensorflow:Unresolved object in checkpoint: (root).model._box_predictor._base_tower_layers_for_heads.box_encodings.3.1.moving_variance\n",
      "W0409 16:37:23.911377 4552359424 util.py:160] Unresolved object in checkpoint: (root).model._box_predictor._base_tower_layers_for_heads.box_encodings.3.1.moving_variance\n",
      "WARNING:tensorflow:Unresolved object in checkpoint: (root).model._box_predictor._base_tower_layers_for_heads.box_encodings.3.4.axis\n",
      "W0409 16:37:23.911486 4552359424 util.py:160] Unresolved object in checkpoint: (root).model._box_predictor._base_tower_layers_for_heads.box_encodings.3.4.axis\n",
      "WARNING:tensorflow:Unresolved object in checkpoint: (root).model._box_predictor._base_tower_layers_for_heads.box_encodings.3.4.gamma\n",
      "W0409 16:37:23.911533 4552359424 util.py:160] Unresolved object in checkpoint: (root).model._box_predictor._base_tower_layers_for_heads.box_encodings.3.4.gamma\n",
      "WARNING:tensorflow:Unresolved object in checkpoint: (root).model._box_predictor._base_tower_layers_for_heads.box_encodings.3.4.beta\n",
      "W0409 16:37:23.911589 4552359424 util.py:160] Unresolved object in checkpoint: (root).model._box_predictor._base_tower_layers_for_heads.box_encodings.3.4.beta\n",
      "WARNING:tensorflow:Unresolved object in checkpoint: (root).model._box_predictor._base_tower_layers_for_heads.box_encodings.3.4.moving_mean\n",
      "W0409 16:37:23.911630 4552359424 util.py:160] Unresolved object in checkpoint: (root).model._box_predictor._base_tower_layers_for_heads.box_encodings.3.4.moving_mean\n",
      "WARNING:tensorflow:Unresolved object in checkpoint: (root).model._box_predictor._base_tower_layers_for_heads.box_encodings.3.4.moving_variance\n",
      "W0409 16:37:23.911706 4552359424 util.py:160] Unresolved object in checkpoint: (root).model._box_predictor._base_tower_layers_for_heads.box_encodings.3.4.moving_variance\n",
      "WARNING:tensorflow:Unresolved object in checkpoint: (root).model._box_predictor._base_tower_layers_for_heads.box_encodings.3.7.axis\n",
      "W0409 16:37:23.911745 4552359424 util.py:160] Unresolved object in checkpoint: (root).model._box_predictor._base_tower_layers_for_heads.box_encodings.3.7.axis\n",
      "WARNING:tensorflow:Unresolved object in checkpoint: (root).model._box_predictor._base_tower_layers_for_heads.box_encodings.3.7.gamma\n",
      "W0409 16:37:23.911783 4552359424 util.py:160] Unresolved object in checkpoint: (root).model._box_predictor._base_tower_layers_for_heads.box_encodings.3.7.gamma\n",
      "WARNING:tensorflow:Unresolved object in checkpoint: (root).model._box_predictor._base_tower_layers_for_heads.box_encodings.3.7.beta\n",
      "W0409 16:37:23.911823 4552359424 util.py:160] Unresolved object in checkpoint: (root).model._box_predictor._base_tower_layers_for_heads.box_encodings.3.7.beta\n",
      "WARNING:tensorflow:Unresolved object in checkpoint: (root).model._box_predictor._base_tower_layers_for_heads.box_encodings.3.7.moving_mean\n",
      "W0409 16:37:23.911862 4552359424 util.py:160] Unresolved object in checkpoint: (root).model._box_predictor._base_tower_layers_for_heads.box_encodings.3.7.moving_mean\n",
      "WARNING:tensorflow:Unresolved object in checkpoint: (root).model._box_predictor._base_tower_layers_for_heads.box_encodings.3.7.moving_variance\n",
      "W0409 16:37:23.911900 4552359424 util.py:160] Unresolved object in checkpoint: (root).model._box_predictor._base_tower_layers_for_heads.box_encodings.3.7.moving_variance\n",
      "WARNING:tensorflow:Unresolved object in checkpoint: (root).model._box_predictor._base_tower_layers_for_heads.box_encodings.3.10.axis\n",
      "W0409 16:37:23.911975 4552359424 util.py:160] Unresolved object in checkpoint: (root).model._box_predictor._base_tower_layers_for_heads.box_encodings.3.10.axis\n",
      "WARNING:tensorflow:Unresolved object in checkpoint: (root).model._box_predictor._base_tower_layers_for_heads.box_encodings.3.10.gamma\n",
      "W0409 16:37:23.912029 4552359424 util.py:160] Unresolved object in checkpoint: (root).model._box_predictor._base_tower_layers_for_heads.box_encodings.3.10.gamma\n",
      "WARNING:tensorflow:Unresolved object in checkpoint: (root).model._box_predictor._base_tower_layers_for_heads.box_encodings.3.10.beta\n",
      "W0409 16:37:23.912071 4552359424 util.py:160] Unresolved object in checkpoint: (root).model._box_predictor._base_tower_layers_for_heads.box_encodings.3.10.beta\n",
      "WARNING:tensorflow:Unresolved object in checkpoint: (root).model._box_predictor._base_tower_layers_for_heads.box_encodings.3.10.moving_mean\n",
      "W0409 16:37:23.912116 4552359424 util.py:160] Unresolved object in checkpoint: (root).model._box_predictor._base_tower_layers_for_heads.box_encodings.3.10.moving_mean\n",
      "WARNING:tensorflow:Unresolved object in checkpoint: (root).model._box_predictor._base_tower_layers_for_heads.box_encodings.3.10.moving_variance\n",
      "W0409 16:37:23.912215 4552359424 util.py:160] Unresolved object in checkpoint: (root).model._box_predictor._base_tower_layers_for_heads.box_encodings.3.10.moving_variance\n",
      "WARNING:tensorflow:Unresolved object in checkpoint: (root).model._box_predictor._base_tower_layers_for_heads.box_encodings.4.1.axis\n",
      "W0409 16:37:23.912267 4552359424 util.py:160] Unresolved object in checkpoint: (root).model._box_predictor._base_tower_layers_for_heads.box_encodings.4.1.axis\n",
      "WARNING:tensorflow:Unresolved object in checkpoint: (root).model._box_predictor._base_tower_layers_for_heads.box_encodings.4.1.gamma\n",
      "W0409 16:37:23.912317 4552359424 util.py:160] Unresolved object in checkpoint: (root).model._box_predictor._base_tower_layers_for_heads.box_encodings.4.1.gamma\n",
      "WARNING:tensorflow:Unresolved object in checkpoint: (root).model._box_predictor._base_tower_layers_for_heads.box_encodings.4.1.beta\n",
      "W0409 16:37:23.912358 4552359424 util.py:160] Unresolved object in checkpoint: (root).model._box_predictor._base_tower_layers_for_heads.box_encodings.4.1.beta\n",
      "WARNING:tensorflow:Unresolved object in checkpoint: (root).model._box_predictor._base_tower_layers_for_heads.box_encodings.4.1.moving_mean\n",
      "W0409 16:37:23.912399 4552359424 util.py:160] Unresolved object in checkpoint: (root).model._box_predictor._base_tower_layers_for_heads.box_encodings.4.1.moving_mean\n",
      "WARNING:tensorflow:Unresolved object in checkpoint: (root).model._box_predictor._base_tower_layers_for_heads.box_encodings.4.1.moving_variance\n",
      "W0409 16:37:23.912440 4552359424 util.py:160] Unresolved object in checkpoint: (root).model._box_predictor._base_tower_layers_for_heads.box_encodings.4.1.moving_variance\n",
      "WARNING:tensorflow:Unresolved object in checkpoint: (root).model._box_predictor._base_tower_layers_for_heads.box_encodings.4.4.axis\n",
      "W0409 16:37:23.912508 4552359424 util.py:160] Unresolved object in checkpoint: (root).model._box_predictor._base_tower_layers_for_heads.box_encodings.4.4.axis\n",
      "WARNING:tensorflow:Unresolved object in checkpoint: (root).model._box_predictor._base_tower_layers_for_heads.box_encodings.4.4.gamma\n",
      "W0409 16:37:23.912558 4552359424 util.py:160] Unresolved object in checkpoint: (root).model._box_predictor._base_tower_layers_for_heads.box_encodings.4.4.gamma\n",
      "WARNING:tensorflow:Unresolved object in checkpoint: (root).model._box_predictor._base_tower_layers_for_heads.box_encodings.4.4.beta\n",
      "W0409 16:37:23.912600 4552359424 util.py:160] Unresolved object in checkpoint: (root).model._box_predictor._base_tower_layers_for_heads.box_encodings.4.4.beta\n",
      "WARNING:tensorflow:Unresolved object in checkpoint: (root).model._box_predictor._base_tower_layers_for_heads.box_encodings.4.4.moving_mean\n",
      "W0409 16:37:23.912642 4552359424 util.py:160] Unresolved object in checkpoint: (root).model._box_predictor._base_tower_layers_for_heads.box_encodings.4.4.moving_mean\n",
      "WARNING:tensorflow:Unresolved object in checkpoint: (root).model._box_predictor._base_tower_layers_for_heads.box_encodings.4.4.moving_variance\n",
      "W0409 16:37:23.912748 4552359424 util.py:160] Unresolved object in checkpoint: (root).model._box_predictor._base_tower_layers_for_heads.box_encodings.4.4.moving_variance\n",
      "WARNING:tensorflow:Unresolved object in checkpoint: (root).model._box_predictor._base_tower_layers_for_heads.box_encodings.4.7.axis\n",
      "W0409 16:37:23.912800 4552359424 util.py:160] Unresolved object in checkpoint: (root).model._box_predictor._base_tower_layers_for_heads.box_encodings.4.7.axis\n",
      "WARNING:tensorflow:Unresolved object in checkpoint: (root).model._box_predictor._base_tower_layers_for_heads.box_encodings.4.7.gamma\n",
      "W0409 16:37:23.912848 4552359424 util.py:160] Unresolved object in checkpoint: (root).model._box_predictor._base_tower_layers_for_heads.box_encodings.4.7.gamma\n",
      "WARNING:tensorflow:Unresolved object in checkpoint: (root).model._box_predictor._base_tower_layers_for_heads.box_encodings.4.7.beta\n",
      "W0409 16:37:23.912890 4552359424 util.py:160] Unresolved object in checkpoint: (root).model._box_predictor._base_tower_layers_for_heads.box_encodings.4.7.beta\n",
      "WARNING:tensorflow:Unresolved object in checkpoint: (root).model._box_predictor._base_tower_layers_for_heads.box_encodings.4.7.moving_mean\n",
      "W0409 16:37:23.912932 4552359424 util.py:160] Unresolved object in checkpoint: (root).model._box_predictor._base_tower_layers_for_heads.box_encodings.4.7.moving_mean\n",
      "WARNING:tensorflow:Unresolved object in checkpoint: (root).model._box_predictor._base_tower_layers_for_heads.box_encodings.4.7.moving_variance\n",
      "W0409 16:37:23.912971 4552359424 util.py:160] Unresolved object in checkpoint: (root).model._box_predictor._base_tower_layers_for_heads.box_encodings.4.7.moving_variance\n",
      "WARNING:tensorflow:Unresolved object in checkpoint: (root).model._box_predictor._base_tower_layers_for_heads.box_encodings.4.10.axis\n",
      "W0409 16:37:23.913041 4552359424 util.py:160] Unresolved object in checkpoint: (root).model._box_predictor._base_tower_layers_for_heads.box_encodings.4.10.axis\n",
      "WARNING:tensorflow:Unresolved object in checkpoint: (root).model._box_predictor._base_tower_layers_for_heads.box_encodings.4.10.gamma\n",
      "W0409 16:37:23.913091 4552359424 util.py:160] Unresolved object in checkpoint: (root).model._box_predictor._base_tower_layers_for_heads.box_encodings.4.10.gamma\n",
      "WARNING:tensorflow:Unresolved object in checkpoint: (root).model._box_predictor._base_tower_layers_for_heads.box_encodings.4.10.beta\n",
      "W0409 16:37:23.913133 4552359424 util.py:160] Unresolved object in checkpoint: (root).model._box_predictor._base_tower_layers_for_heads.box_encodings.4.10.beta\n",
      "WARNING:tensorflow:Unresolved object in checkpoint: (root).model._box_predictor._base_tower_layers_for_heads.box_encodings.4.10.moving_mean\n",
      "W0409 16:37:23.913177 4552359424 util.py:160] Unresolved object in checkpoint: (root).model._box_predictor._base_tower_layers_for_heads.box_encodings.4.10.moving_mean\n",
      "WARNING:tensorflow:Unresolved object in checkpoint: (root).model._box_predictor._base_tower_layers_for_heads.box_encodings.4.10.moving_variance\n",
      "W0409 16:37:23.913280 4552359424 util.py:160] Unresolved object in checkpoint: (root).model._box_predictor._base_tower_layers_for_heads.box_encodings.4.10.moving_variance\n",
      "WARNING:tensorflow:A checkpoint was restored (e.g. tf.train.Checkpoint.restore or tf.keras.Model.load_weights) but not all checkpointed values were used. See above for specific issues. Use expect_partial() on the load status object, e.g. tf.train.Checkpoint.restore(...).expect_partial(), to silence these warnings, or use assert_consumed() to make the check explicit. See https://www.tensorflow.org/guide/checkpoint#loading_mechanics for details.\n",
      "W0409 16:37:23.913338 4552359424 util.py:168] A checkpoint was restored (e.g. tf.train.Checkpoint.restore or tf.keras.Model.load_weights) but not all checkpointed values were used. See above for specific issues. Use expect_partial() on the load status object, e.g. tf.train.Checkpoint.restore(...).expect_partial(), to silence these warnings, or use assert_consumed() to make the check explicit. See https://www.tensorflow.org/guide/checkpoint#loading_mechanics for details.\n"
     ]
    },
    {
     "name": "stdout",
     "output_type": "stream",
     "text": [
      "WARNING:tensorflow:From /Users/benoit/.pyenv/versions/diving/lib/python3.8/site-packages/tensorflow/python/util/deprecation.py:605: calling map_fn_v2 (from tensorflow.python.ops.map_fn) with dtype is deprecated and will be removed in a future version.\n",
      "Instructions for updating:\n",
      "Use fn_output_signature instead\n",
      "W0409 16:37:28.000672 123145579716608 deprecation.py:531] From /Users/benoit/.pyenv/versions/diving/lib/python3.8/site-packages/tensorflow/python/util/deprecation.py:605: calling map_fn_v2 (from tensorflow.python.ops.map_fn) with dtype is deprecated and will be removed in a future version.\n",
      "Instructions for updating:\n",
      "Use fn_output_signature instead\n",
      "^C\n"
     ]
    }
   ],
   "source": [
    "!{command}"
   ]
  },
  {
   "cell_type": "markdown",
   "metadata": {
    "id": "4_YRZu7npfDH"
   },
   "source": [
    "# 7. Evaluate the Model"
   ]
  },
  {
   "cell_type": "code",
   "execution_count": null,
   "metadata": {},
   "outputs": [],
   "source": [
    "!pip install numpy==1.17.5"
   ]
  },
  {
   "cell_type": "code",
   "execution_count": 28,
   "metadata": {
    "id": "80L7-fdPpfDH"
   },
   "outputs": [],
   "source": [
    "command = \"python {} --model_dir={} --pipeline_config_path={} --checkpoint_dir={}\".format(TRAINING_SCRIPT, paths['CHECKPOINT_PATH'],files['PIPELINE_CONFIG'], paths['CHECKPOINT_PATH'])"
   ]
  },
  {
   "cell_type": "code",
   "execution_count": 29,
   "metadata": {
    "colab": {
     "base_uri": "https://localhost:8080/"
    },
    "id": "lYsgEPx9pfDH",
    "outputId": "8632d48b-91d2-45d9-bcb8-c1b172bf6eed"
   },
   "outputs": [
    {
     "name": "stdout",
     "output_type": "stream",
     "text": [
      "python Tensorflow/models/research/object_detection/model_main_tf2.py --model_dir=Tensorflow/workspace/models/my_ssd_mobnet --pipeline_config_path=Tensorflow/workspace/models/my_ssd_mobnet/pipeline.config --checkpoint_dir=Tensorflow/workspace/models/my_ssd_mobnet\n"
     ]
    }
   ],
   "source": [
    "print(command)"
   ]
  },
  {
   "cell_type": "code",
   "execution_count": null,
   "metadata": {
    "id": "lqTV2jGBpfDH"
   },
   "outputs": [],
   "source": [
    "!{command}"
   ]
  },
  {
   "cell_type": "markdown",
   "metadata": {
    "id": "orvRk02UpfDI"
   },
   "source": [
    "# 8. Load Train Model From Checkpoint"
   ]
  },
  {
   "cell_type": "code",
   "execution_count": 15,
   "metadata": {
    "id": "8TYk4_oIpfDI"
   },
   "outputs": [],
   "source": [
    "import os\n",
    "import tensorflow as tf\n",
    "from object_detection.utils import label_map_util\n",
    "from object_detection.utils import visualization_utils as viz_utils\n",
    "from object_detection.builders import model_builder\n",
    "from object_detection.utils import config_util"
   ]
  },
  {
   "cell_type": "code",
   "execution_count": 16,
   "metadata": {
    "id": "tDnQg-cYpfDI"
   },
   "outputs": [],
   "source": [
    "# Load pipeline config and build a detection model\n",
    "configs = config_util.get_configs_from_pipeline_file(files['PIPELINE_CONFIG'])\n",
    "detection_model = model_builder.build(model_config=configs['model'], is_training=False)\n",
    "\n",
    "# Restore checkpoint\n",
    "ckpt = tf.compat.v2.train.Checkpoint(model=detection_model)\n",
    "ckpt.restore(os.path.join(paths['CHECKPOINT_PATH'], 'ckpt-3')).expect_partial()\n",
    "\n",
    "@tf.function\n",
    "def detect_fn(image):\n",
    "    image, shapes = detection_model.preprocess(image)\n",
    "    prediction_dict = detection_model.predict(image, shapes)\n",
    "    detections = detection_model.postprocess(prediction_dict, shapes)\n",
    "    return detections"
   ]
  },
  {
   "cell_type": "markdown",
   "metadata": {
    "id": "0EmsmbBZpfDI"
   },
   "source": [
    "# 9. Detect from an Image"
   ]
  },
  {
   "cell_type": "code",
   "execution_count": 18,
   "metadata": {
    "id": "Y_MKiuZ4pfDI"
   },
   "outputs": [],
   "source": [
    "import cv2 \n",
    "import numpy as np\n",
    "from matplotlib import pyplot as plt\n",
    "%matplotlib inline"
   ]
  },
  {
   "cell_type": "code",
   "execution_count": 19,
   "metadata": {
    "id": "cBDbIhNapfDI"
   },
   "outputs": [],
   "source": [
    "category_index = label_map_util.create_category_index_from_labelmap(files['LABELMAP'])"
   ]
  },
  {
   "cell_type": "code",
   "execution_count": 38,
   "metadata": {
    "id": "Lx3crOhOzITB"
   },
   "outputs": [],
   "source": [
    "IMAGE_PATH = os.path.join(paths['IMAGE_PATH'], 'test', '20210410_094839.jpg')"
   ]
  },
  {
   "cell_type": "code",
   "execution_count": 39,
   "metadata": {
    "colab": {
     "base_uri": "https://localhost:8080/",
     "height": 269
    },
    "id": "Tpzn1SMry1yK",
    "outputId": "c392a2c5-10fe-4fc4-9998-a1d4c7db2bd3"
   },
   "outputs": [
    {
     "data": {
      "image/png": "[encoded data removed]",
      "text/plain": [
       "<Figure size 432x288 with 1 Axes>"
      ]
     },
     "metadata": {
      "needs_background": "light"
     },
     "output_type": "display_data"
    }
   ],
   "source": [
    "img = cv2.imread(IMAGE_PATH)\n",
    "image_np = np.array(img)\n",
    "\n",
    "input_tensor = tf.convert_to_tensor(np.expand_dims(image_np, 0), dtype=tf.float32)\n",
    "detections = detect_fn(input_tensor)\n",
    "\n",
    "num_detections = int(detections.pop('num_detections'))\n",
    "detections = {key: value[0, :num_detections].numpy()\n",
    "              for key, value in detections.items()}\n",
    "detections['num_detections'] = num_detections\n",
    "\n",
    "# detection_classes should be ints.\n",
    "detections['detection_classes'] = detections['detection_classes'].astype(np.int64)\n",
    "\n",
    "label_id_offset = 1\n",
    "image_np_with_detections = image_np.copy()\n",
    "\n",
    "viz_utils.visualize_boxes_and_labels_on_image_array(\n",
    "            image_np_with_detections,\n",
    "            detections['detection_boxes'],\n",
    "            detections['detection_classes']+label_id_offset,\n",
    "            detections['detection_scores'],\n",
    "            category_index,\n",
    "            use_normalized_coordinates=True,\n",
    "            max_boxes_to_draw=5,\n",
    "            min_score_thresh=.8,\n",
    "            agnostic_mode=False)\n",
    "\n",
    "plt.imshow(cv2.cvtColor(image_np_with_detections, cv2.COLOR_BGR2RGB))\n",
    "plt.show()"
   ]
  },
  {
   "cell_type": "markdown",
   "metadata": {
    "id": "IsNAaYAo0WVL"
   },
   "source": [
    "# 10. Real Time Detections from your Webcam"
   ]
  },
  {
   "cell_type": "code",
   "execution_count": 37,
   "metadata": {},
   "outputs": [
    {
     "name": "stdout",
     "output_type": "stream",
     "text": [
      "Found existing installation: opencv-python-headless 4.5.1.48\n",
      "Uninstalling opencv-python-headless-4.5.1.48:\n",
      "  Successfully uninstalled opencv-python-headless-4.5.1.48\n"
     ]
    }
   ],
   "source": [
    "!pip uninstall opencv-python-headless -y"
   ]
  },
  {
   "cell_type": "code",
   "execution_count": 40,
   "metadata": {},
   "outputs": [
    {
     "name": "stdout",
     "output_type": "stream",
     "text": [
      "Collecting opencv-python-headless\n",
      "  Using cached opencv_python_headless-4.5.1.48-cp38-cp38-macosx_10_13_x86_64.whl (40.3 MB)\n",
      "Requirement already satisfied: numpy>=1.17.3 in /Users/benoit/.pyenv/versions/3.8.6/envs/diving/lib/python3.8/site-packages (from opencv-python-headless) (1.19.2)\n",
      "Installing collected packages: opencv-python-headless\n",
      "Successfully installed opencv-python-headless-4.5.1.48\n"
     ]
    }
   ],
   "source": [
    "!pip install opencv-python-headless"
   ]
  },
  {
   "cell_type": "code",
   "execution_count": null,
   "metadata": {
    "id": "o_grs6OGpfDJ"
   },
   "outputs": [],
   "source": [
    "cap = cv2.VideoCapture(0)\n",
    "width = int(cap.get(cv2.CAP_PROP_FRAME_WIDTH))\n",
    "height = int(cap.get(cv2.CAP_PROP_FRAME_HEIGHT))\n",
    "\n",
    "while cap.isOpened(): \n",
    "    ret, frame = cap.read()\n",
    "    image_np = np.array(frame)\n",
    "    \n",
    "    input_tensor = tf.convert_to_tensor(np.expand_dims(image_np, 0), dtype=tf.float32)\n",
    "    detections = detect_fn(input_tensor)\n",
    "    \n",
    "    num_detections = int(detections.pop('num_detections'))\n",
    "    detections = {key: value[0, :num_detections].numpy()\n",
    "                  for key, value in detections.items()}\n",
    "    detections['num_detections'] = num_detections\n",
    "\n",
    "    # detection_classes should be ints.\n",
    "    detections['detection_classes'] = detections['detection_classes'].astype(np.int64)\n",
    "\n",
    "    label_id_offset = 1\n",
    "    image_np_with_detections = image_np.copy()\n",
    "\n",
    "    viz_utils.visualize_boxes_and_labels_on_image_array(\n",
    "                image_np_with_detections,\n",
    "                detections['detection_boxes'],\n",
    "                detections['detection_classes']+label_id_offset,\n",
    "                detections['detection_scores'],\n",
    "                category_index,\n",
    "                use_normalized_coordinates=True,\n",
    "                max_boxes_to_draw=5,\n",
    "                min_score_thresh=.8,\n",
    "                agnostic_mode=False)\n",
    "\n",
    "    cv2.imshow('object detection',  cv2.resize(image_np_with_detections, (800, 600)))\n",
    "    \n",
    "    if cv2.waitKey(10) & 0xFF == ord('q'):\n",
    "        cap.release()\n",
    "        cv2.destroyAllWindows()\n",
    "        break"
   ]
  },
  {
   "cell_type": "markdown",
   "metadata": {
    "id": "rzlM4jt0pfDJ"
   },
   "source": [
    "# 10. Freezing the Graph"
   ]
  },
  {
   "cell_type": "code",
   "execution_count": 20,
   "metadata": {
    "id": "n4olHB2npfDJ"
   },
   "outputs": [],
   "source": [
    "FREEZE_SCRIPT = os.path.join(paths['APIMODEL_PATH'], 'research', 'object_detection', 'exporter_main_v2.py ')"
   ]
  },
  {
   "cell_type": "code",
   "execution_count": 21,
   "metadata": {
    "id": "0AjO93QDpfDJ"
   },
   "outputs": [],
   "source": [
    "command = \"python {} --input_type=image_tensor --pipeline_config_path={} --trained_checkpoint_dir={} --output_directory={}\".format(FREEZE_SCRIPT ,files['PIPELINE_CONFIG'], paths['CHECKPOINT_PATH'], paths['OUTPUT_PATH'])"
   ]
  },
  {
   "cell_type": "code",
   "execution_count": 22,
   "metadata": {
    "colab": {
     "base_uri": "https://localhost:8080/"
    },
    "id": "F6Lsp3tCpfDJ",
    "outputId": "c3828529-bf06-4df5-d7f3-145890ec3edd"
   },
   "outputs": [
    {
     "name": "stdout",
     "output_type": "stream",
     "text": [
      "python Tensorflow/models/research/object_detection/exporter_main_v2.py  --input_type=image_tensor --pipeline_config_path=Tensorflow/workspace/models/my_ssd_mobnetv2/pipeline.config --trained_checkpoint_dir=Tensorflow/workspace/models/my_ssd_mobnetv2 --output_directory=Tensorflow/workspace/models/my_ssd_mobnetv2/export\n"
     ]
    }
   ],
   "source": [
    "print(command)"
   ]
  },
  {
   "cell_type": "code",
   "execution_count": null,
   "metadata": {
    "colab": {
     "base_uri": "https://localhost:8080/"
    },
    "id": "1Sw1ULgHpfDJ",
    "outputId": "6fd441e1-9fc9-4889-d072-3395c21e40b6"
   },
   "outputs": [],
   "source": [
    "!{command}"
   ]
  },
  {
   "cell_type": "markdown",
   "metadata": {
    "id": "wTPmdqaXpfDK"
   },
   "source": [
    "# 11. Conversion to TFJS"
   ]
  },
  {
   "cell_type": "code",
   "execution_count": 23,
   "metadata": {
    "colab": {
     "base_uri": "https://localhost:8080/"
    },
    "id": "gZ6UzY_fpfDK",
    "outputId": "0c84722e-1c2b-4002-d857-80827ade828a",
    "scrolled": true
   },
   "outputs": [
    {
     "name": "stdout",
     "output_type": "stream",
     "text": [
      "Collecting tensorflowjs\n",
      "  Downloading tensorflowjs-3.6.0-py3-none-any.whl (63 kB)\n",
      "\u001b[K     |████████████████████████████████| 63 kB 2.9 MB/s eta 0:00:011\n",
      "\u001b[?25hCollecting tensorflow-hub<0.10,>=0.7.0\n",
      "  Downloading tensorflow_hub-0.9.0-py2.py3-none-any.whl (103 kB)\n",
      "\u001b[K     |████████████████████████████████| 103 kB 10.1 MB/s eta 0:00:01\n",
      "\u001b[?25hRequirement already satisfied: six<2,>=1.12.0 in /Users/benoit/.pyenv/versions/3.8.6/envs/lewagon/lib/python3.8/site-packages (from tensorflowjs) (1.15.0)\n",
      "Requirement already satisfied: tensorflow<3,>=2.1.0 in /Users/benoit/.pyenv/versions/3.8.6/envs/lewagon/lib/python3.8/site-packages (from tensorflowjs) (2.4.1)\n",
      "Requirement already satisfied: wrapt~=1.12.1 in /Users/benoit/.pyenv/versions/3.8.6/envs/lewagon/lib/python3.8/site-packages (from tensorflow<3,>=2.1.0->tensorflowjs) (1.12.1)\n",
      "Requirement already satisfied: google-pasta~=0.2 in /Users/benoit/.pyenv/versions/3.8.6/envs/lewagon/lib/python3.8/site-packages (from tensorflow<3,>=2.1.0->tensorflowjs) (0.2.0)\n",
      "Requirement already satisfied: gast==0.3.3 in /Users/benoit/.pyenv/versions/3.8.6/envs/lewagon/lib/python3.8/site-packages (from tensorflow<3,>=2.1.0->tensorflowjs) (0.3.3)\n",
      "Requirement already satisfied: tensorflow-estimator<2.5.0,>=2.4.0 in /Users/benoit/.pyenv/versions/3.8.6/envs/lewagon/lib/python3.8/site-packages (from tensorflow<3,>=2.1.0->tensorflowjs) (2.4.0)\n",
      "Requirement already satisfied: h5py~=2.10.0 in /Users/benoit/.pyenv/versions/3.8.6/envs/lewagon/lib/python3.8/site-packages (from tensorflow<3,>=2.1.0->tensorflowjs) (2.10.0)\n",
      "Requirement already satisfied: astunparse~=1.6.3 in /Users/benoit/.pyenv/versions/3.8.6/envs/lewagon/lib/python3.8/site-packages (from tensorflow<3,>=2.1.0->tensorflowjs) (1.6.3)\n",
      "Requirement already satisfied: flatbuffers~=1.12.0 in /Users/benoit/.pyenv/versions/3.8.6/envs/lewagon/lib/python3.8/site-packages (from tensorflow<3,>=2.1.0->tensorflowjs) (1.12)\n",
      "Requirement already satisfied: wheel~=0.35 in /Users/benoit/.pyenv/versions/3.8.6/envs/lewagon/lib/python3.8/site-packages (from tensorflow<3,>=2.1.0->tensorflowjs) (0.36.2)\n",
      "Requirement already satisfied: typing-extensions~=3.7.4 in /Users/benoit/.pyenv/versions/3.8.6/envs/lewagon/lib/python3.8/site-packages (from tensorflow<3,>=2.1.0->tensorflowjs) (3.7.4.3)\n",
      "Requirement already satisfied: tensorboard~=2.4 in /Users/benoit/.pyenv/versions/3.8.6/envs/lewagon/lib/python3.8/site-packages (from tensorflow<3,>=2.1.0->tensorflowjs) (2.4.0)\n",
      "Requirement already satisfied: keras-preprocessing~=1.1.2 in /Users/benoit/.pyenv/versions/3.8.6/envs/lewagon/lib/python3.8/site-packages (from tensorflow<3,>=2.1.0->tensorflowjs) (1.1.2)\n",
      "Requirement already satisfied: absl-py~=0.10 in /Users/benoit/.pyenv/versions/3.8.6/envs/lewagon/lib/python3.8/site-packages (from tensorflow<3,>=2.1.0->tensorflowjs) (0.11.0)\n",
      "Requirement already satisfied: termcolor~=1.1.0 in /Users/benoit/.pyenv/versions/3.8.6/envs/lewagon/lib/python3.8/site-packages (from tensorflow<3,>=2.1.0->tensorflowjs) (1.1.0)\n",
      "Requirement already satisfied: opt-einsum~=3.3.0 in /Users/benoit/.pyenv/versions/3.8.6/envs/lewagon/lib/python3.8/site-packages (from tensorflow<3,>=2.1.0->tensorflowjs) (3.3.0)\n",
      "Requirement already satisfied: numpy~=1.19.2 in /Users/benoit/.pyenv/versions/3.8.6/envs/lewagon/lib/python3.8/site-packages (from tensorflow<3,>=2.1.0->tensorflowjs) (1.19.5)\n",
      "Requirement already satisfied: protobuf>=3.9.2 in /Users/benoit/.pyenv/versions/3.8.6/envs/lewagon/lib/python3.8/site-packages (from tensorflow<3,>=2.1.0->tensorflowjs) (3.15.8)\n",
      "Requirement already satisfied: grpcio~=1.32.0 in /Users/benoit/.pyenv/versions/3.8.6/envs/lewagon/lib/python3.8/site-packages (from tensorflow<3,>=2.1.0->tensorflowjs) (1.32.0)\n",
      "Requirement already satisfied: requests<3,>=2.21.0 in /Users/benoit/.pyenv/versions/3.8.6/envs/lewagon/lib/python3.8/site-packages (from tensorboard~=2.4->tensorflow<3,>=2.1.0->tensorflowjs) (2.25.1)\n",
      "Requirement already satisfied: google-auth-oauthlib<0.5,>=0.4.1 in /Users/benoit/.pyenv/versions/3.8.6/envs/lewagon/lib/python3.8/site-packages (from tensorboard~=2.4->tensorflow<3,>=2.1.0->tensorflowjs) (0.4.2)\n",
      "Requirement already satisfied: google-auth<2,>=1.6.3 in /Users/benoit/.pyenv/versions/3.8.6/envs/lewagon/lib/python3.8/site-packages (from tensorboard~=2.4->tensorflow<3,>=2.1.0->tensorflowjs) (1.24.0)\n",
      "Requirement already satisfied: tensorboard-plugin-wit>=1.6.0 in /Users/benoit/.pyenv/versions/3.8.6/envs/lewagon/lib/python3.8/site-packages (from tensorboard~=2.4->tensorflow<3,>=2.1.0->tensorflowjs) (1.7.0)\n",
      "Requirement already satisfied: werkzeug>=0.11.15 in /Users/benoit/.pyenv/versions/3.8.6/envs/lewagon/lib/python3.8/site-packages (from tensorboard~=2.4->tensorflow<3,>=2.1.0->tensorflowjs) (1.0.1)\n",
      "Requirement already satisfied: markdown>=2.6.8 in /Users/benoit/.pyenv/versions/3.8.6/envs/lewagon/lib/python3.8/site-packages (from tensorboard~=2.4->tensorflow<3,>=2.1.0->tensorflowjs) (3.3.3)\n",
      "Requirement already satisfied: setuptools>=41.0.0 in /Users/benoit/.pyenv/versions/3.8.6/envs/lewagon/lib/python3.8/site-packages (from tensorboard~=2.4->tensorflow<3,>=2.1.0->tensorflowjs) (49.2.1)\n",
      "Requirement already satisfied: pyasn1-modules>=0.2.1 in /Users/benoit/.pyenv/versions/3.8.6/envs/lewagon/lib/python3.8/site-packages (from google-auth<2,>=1.6.3->tensorboard~=2.4->tensorflow<3,>=2.1.0->tensorflowjs) (0.2.8)\n",
      "Requirement already satisfied: cachetools<5.0,>=2.0.0 in /Users/benoit/.pyenv/versions/3.8.6/envs/lewagon/lib/python3.8/site-packages (from google-auth<2,>=1.6.3->tensorboard~=2.4->tensorflow<3,>=2.1.0->tensorflowjs) (4.2.0)\n",
      "Requirement already satisfied: rsa<5,>=3.1.4 in /Users/benoit/.pyenv/versions/3.8.6/envs/lewagon/lib/python3.8/site-packages (from google-auth<2,>=1.6.3->tensorboard~=2.4->tensorflow<3,>=2.1.0->tensorflowjs) (4.7)\n",
      "Requirement already satisfied: requests-oauthlib>=0.7.0 in /Users/benoit/.pyenv/versions/3.8.6/envs/lewagon/lib/python3.8/site-packages (from google-auth-oauthlib<0.5,>=0.4.1->tensorboard~=2.4->tensorflow<3,>=2.1.0->tensorflowjs) (1.3.0)\n",
      "Requirement already satisfied: pyasn1<0.5.0,>=0.4.6 in /Users/benoit/.pyenv/versions/3.8.6/envs/lewagon/lib/python3.8/site-packages (from pyasn1-modules>=0.2.1->google-auth<2,>=1.6.3->tensorboard~=2.4->tensorflow<3,>=2.1.0->tensorflowjs) (0.4.8)\n",
      "Requirement already satisfied: chardet<5,>=3.0.2 in /Users/benoit/.pyenv/versions/3.8.6/envs/lewagon/lib/python3.8/site-packages (from requests<3,>=2.21.0->tensorboard~=2.4->tensorflow<3,>=2.1.0->tensorflowjs) (3.0.4)\n",
      "Requirement already satisfied: urllib3<1.27,>=1.21.1 in /Users/benoit/.pyenv/versions/3.8.6/envs/lewagon/lib/python3.8/site-packages (from requests<3,>=2.21.0->tensorboard~=2.4->tensorflow<3,>=2.1.0->tensorflowjs) (1.26.2)\n",
      "Requirement already satisfied: certifi>=2017.4.17 in /Users/benoit/.pyenv/versions/3.8.6/envs/lewagon/lib/python3.8/site-packages (from requests<3,>=2.21.0->tensorboard~=2.4->tensorflow<3,>=2.1.0->tensorflowjs) (2020.12.5)\n",
      "Requirement already satisfied: idna<3,>=2.5 in /Users/benoit/.pyenv/versions/3.8.6/envs/lewagon/lib/python3.8/site-packages (from requests<3,>=2.21.0->tensorboard~=2.4->tensorflow<3,>=2.1.0->tensorflowjs) (2.10)\n",
      "Requirement already satisfied: oauthlib>=3.0.0 in /Users/benoit/.pyenv/versions/3.8.6/envs/lewagon/lib/python3.8/site-packages (from requests-oauthlib>=0.7.0->google-auth-oauthlib<0.5,>=0.4.1->tensorboard~=2.4->tensorflow<3,>=2.1.0->tensorflowjs) (3.1.0)\n",
      "Installing collected packages: tensorflow-hub, tensorflowjs\n",
      "  Attempting uninstall: tensorflow-hub\n",
      "    Found existing installation: tensorflow-hub 0.11.0\n",
      "    Uninstalling tensorflow-hub-0.11.0:\n",
      "      Successfully uninstalled tensorflow-hub-0.11.0\n",
      "Successfully installed tensorflow-hub-0.9.0 tensorflowjs-3.6.0\n",
      "\u001b[33mWARNING: You are using pip version 21.0.1; however, version 21.1.1 is available.\n",
      "You should consider upgrading via the '/Users/benoit/.pyenv/versions/3.8.6/envs/lewagon/bin/python3.8 -m pip install --upgrade pip' command.\u001b[0m\n"
     ]
    }
   ],
   "source": [
    "!pip install tensorflowjs"
   ]
  },
  {
   "cell_type": "code",
   "execution_count": null,
   "metadata": {
    "id": "0oxbVynHpfDK"
   },
   "outputs": [],
   "source": [
    "command = \"tensorflowjs_converter --input_format=tf_saved_model --output_node_names='detection_boxes,detection_classes,detection_features,detection_multiclass_scores,detection_scores,num_detections,raw_detection_boxes,raw_detection_scores' --output_format=tfjs_graph_model --signature_name=serving_default {} {}\".format(os.path.join(paths['OUTPUT_PATH'], 'saved_model'), paths['TFJS_PATH'])"
   ]
  },
  {
   "cell_type": "code",
   "execution_count": null,
   "metadata": {
    "colab": {
     "base_uri": "https://localhost:8080/"
    },
    "id": "DB2AGNmJpfDK",
    "outputId": "fbc9f747-f511-47e8-df8f-5ea65cef0374"
   },
   "outputs": [],
   "source": [
    "print(command)"
   ]
  },
  {
   "cell_type": "code",
   "execution_count": null,
   "metadata": {
    "colab": {
     "base_uri": "https://localhost:8080/"
    },
    "id": "K7rfT4-hpfDK",
    "outputId": "532707fd-6feb-4bc6-84a3-325b5d16303c"
   },
   "outputs": [],
   "source": [
    "!{command}"
   ]
  },
  {
   "cell_type": "code",
   "execution_count": null,
   "metadata": {
    "id": "o8_hm-itpfDK"
   },
   "outputs": [],
   "source": [
    "# Test Code: https://github.com/nicknochnack/RealTimeSignLanguageDetectionwithTFJS"
   ]
  },
  {
   "cell_type": "markdown",
   "metadata": {
    "id": "VtUw73FHpfDK"
   },
   "source": [
    "# 12. Conversion to TFLite"
   ]
  },
  {
   "cell_type": "code",
   "execution_count": 24,
   "metadata": {
    "id": "XviMtewLpfDK"
   },
   "outputs": [],
   "source": [
    "TFLITE_SCRIPT = os.path.join(paths['APIMODEL_PATH'], 'research', 'object_detection', 'export_tflite_graph_tf2.py ')"
   ]
  },
  {
   "cell_type": "code",
   "execution_count": 25,
   "metadata": {
    "id": "us86cjC4pfDL"
   },
   "outputs": [],
   "source": [
    "command = \"python {} --pipeline_config_path={} --trained_checkpoint_dir={} --output_directory={}\".format(TFLITE_SCRIPT ,files['PIPELINE_CONFIG'], paths['CHECKPOINT_PATH'], paths['TFLITE_PATH'])"
   ]
  },
  {
   "cell_type": "code",
   "execution_count": 26,
   "metadata": {
    "colab": {
     "base_uri": "https://localhost:8080/"
    },
    "id": "n1r5YO3rpfDL",
    "outputId": "5fcdf7a4-eee2-4365-f1ca-1751968379ea"
   },
   "outputs": [
    {
     "name": "stdout",
     "output_type": "stream",
     "text": [
      "python Tensorflow/models/research/object_detection/export_tflite_graph_tf2.py  --pipeline_config_path=Tensorflow/workspace/models/my_ssd_mobnetv2/pipeline.config --trained_checkpoint_dir=Tensorflow/workspace/models/my_ssd_mobnetv2 --output_directory=Tensorflow/workspace/models/my_ssd_mobnetv2/tfliteexport\n"
     ]
    }
   ],
   "source": [
    "print(command)"
   ]
  },
  {
   "cell_type": "code",
   "execution_count": 27,
   "metadata": {
    "colab": {
     "base_uri": "https://localhost:8080/"
    },
    "id": "I-xWpHN8pfDL",
    "outputId": "7f6bacd8-d077-43b5-c131-5b081fba24a4"
   },
   "outputs": [
    {
     "name": "stdout",
     "output_type": "stream",
     "text": [
      "Traceback (most recent call last):\r\n",
      "  File \"Tensorflow/models/research/object_detection/export_tflite_graph_tf2.py\", line 161, in <module>\r\n",
      "    app.run(main)\r\n",
      "  File \"/Users/benoit/.pyenv/versions/lewagon/lib/python3.8/site-packages/absl/app.py\", line 303, in run\r\n",
      "    _run_main(main, args)\r\n",
      "  File \"/Users/benoit/.pyenv/versions/lewagon/lib/python3.8/site-packages/absl/app.py\", line 251, in _run_main\r\n",
      "    sys.exit(main(argv))\r\n",
      "  File \"Tensorflow/models/research/object_detection/export_tflite_graph_tf2.py\", line 149, in main\r\n",
      "    text_format.Parse(f.read(), pipeline_config)\r\n",
      "  File \"/Users/benoit/.pyenv/versions/lewagon/lib/python3.8/site-packages/tensorflow/python/lib/io/file_io.py\", line 117, in read\r\n",
      "    self._preread_check()\r\n",
      "  File \"/Users/benoit/.pyenv/versions/lewagon/lib/python3.8/site-packages/tensorflow/python/lib/io/file_io.py\", line 79, in _preread_check\r\n",
      "    self._read_buf = _pywrap_file_io.BufferedInputStream(\r\n",
      "tensorflow.python.framework.errors_impl.NotFoundError: Tensorflow/workspace/models/my_ssd_mobnetv2/pipeline.config; No such file or directory\r\n"
     ]
    }
   ],
   "source": [
    "!{command}"
   ]
  },
  {
   "cell_type": "code",
   "execution_count": 28,
   "metadata": {
    "id": "iJfYMbN6pfDL"
   },
   "outputs": [],
   "source": [
    "FROZEN_TFLITE_PATH = os.path.join(paths['TFLITE_PATH'], 'saved_model')\n",
    "TFLITE_MODEL = os.path.join(paths['TFLITE_PATH'], 'saved_model', 'detect.tflite')"
   ]
  },
  {
   "cell_type": "code",
   "execution_count": 29,
   "metadata": {},
   "outputs": [],
   "source": [
    "command = \"tflite_convert \\\n",
    "--saved_model_dir={} \\\n",
    "--output_file={} \\\n",
    "--input_shapes=1,300,300,3 \\\n",
    "--input_arrays=normalized_input_image_tensor \\\n",
    "--output_arrays='TFLite_Detection_PostProcess','TFLite_Detection_PostProcess:1','TFLite_Detection_PostProcess:2','TFLite_Detection_PostProcess:3' \\\n",
    "--inference_type=FLOAT \\\n",
    "--allow_custom_ops\".format(FROZEN_TFLITE_PATH, TFLITE_MODEL, )"
   ]
  },
  {
   "cell_type": "code",
   "execution_count": 30,
   "metadata": {
    "colab": {
     "base_uri": "https://localhost:8080/"
    },
    "id": "E8GwUeoFpfDL",
    "outputId": "fac43ea4-cc85-471b-a362-e994b06fd583"
   },
   "outputs": [
    {
     "name": "stdout",
     "output_type": "stream",
     "text": [
      "tflite_convert --saved_model_dir=Tensorflow/workspace/models/my_ssd_mobnetv2/tfliteexport/saved_model --output_file=Tensorflow/workspace/models/my_ssd_mobnetv2/tfliteexport/saved_model/detect.tflite --input_shapes=1,300,300,3 --input_arrays=normalized_input_image_tensor --output_arrays='TFLite_Detection_PostProcess','TFLite_Detection_PostProcess:1','TFLite_Detection_PostProcess:2','TFLite_Detection_PostProcess:3' --inference_type=FLOAT --allow_custom_ops\n"
     ]
    }
   ],
   "source": [
    "print(command)"
   ]
  },
  {
   "cell_type": "code",
   "execution_count": 31,
   "metadata": {
    "colab": {
     "base_uri": "https://localhost:8080/"
    },
    "id": "Nbd7gqHMpfDL",
    "outputId": "7c8fe6d5-2415-4641-8548-39d425c202f7"
   },
   "outputs": [
    {
     "name": "stdout",
     "output_type": "stream",
     "text": [
      "Traceback (most recent call last):\r\n",
      "  File \"/Users/benoit/.pyenv/versions/lewagon/bin/tflite_convert\", line 8, in <module>\r\n",
      "    sys.exit(main())\r\n",
      "  File \"/Users/benoit/.pyenv/versions/3.8.6/envs/lewagon/lib/python3.8/site-packages/tensorflow/lite/python/tflite_convert.py\", line 646, in main\r\n",
      "    app.run(main=run_main, argv=sys.argv[:1])\r\n",
      "  File \"/Users/benoit/.pyenv/versions/3.8.6/envs/lewagon/lib/python3.8/site-packages/tensorflow/python/platform/app.py\", line 40, in run\r\n",
      "    _run(main=main, argv=argv, flags_parser=_parse_flags_tolerate_undef)\r\n",
      "  File \"/Users/benoit/.pyenv/versions/3.8.6/envs/lewagon/lib/python3.8/site-packages/absl/app.py\", line 303, in run\r\n",
      "    _run_main(main, args)\r\n",
      "  File \"/Users/benoit/.pyenv/versions/3.8.6/envs/lewagon/lib/python3.8/site-packages/absl/app.py\", line 251, in _run_main\r\n",
      "    sys.exit(main(argv))\r\n",
      "  File \"/Users/benoit/.pyenv/versions/3.8.6/envs/lewagon/lib/python3.8/site-packages/tensorflow/lite/python/tflite_convert.py\", line 629, in run_main\r\n",
      "    _convert_tf2_model(tflite_flags)\r\n",
      "  File \"/Users/benoit/.pyenv/versions/3.8.6/envs/lewagon/lib/python3.8/site-packages/tensorflow/lite/python/tflite_convert.py\", line 235, in _convert_tf2_model\r\n",
      "    converter = lite.TFLiteConverterV2.from_saved_model(flags.saved_model_dir)\r\n",
      "  File \"/Users/benoit/.pyenv/versions/3.8.6/envs/lewagon/lib/python3.8/site-packages/tensorflow/lite/python/lite.py\", line 1069, in from_saved_model\r\n",
      "    saved_model = _load(saved_model_dir, tags)\r\n",
      "  File \"/Users/benoit/.pyenv/versions/3.8.6/envs/lewagon/lib/python3.8/site-packages/tensorflow/python/saved_model/load.py\", line 859, in load\r\n",
      "    return load_internal(export_dir, tags, options)[\"root\"]\r\n",
      "  File \"/Users/benoit/.pyenv/versions/3.8.6/envs/lewagon/lib/python3.8/site-packages/tensorflow/python/saved_model/load.py\", line 871, in load_internal\r\n",
      "    loader_impl.parse_saved_model_with_debug_info(export_dir))\r\n",
      "  File \"/Users/benoit/.pyenv/versions/3.8.6/envs/lewagon/lib/python3.8/site-packages/tensorflow/python/saved_model/loader_impl.py\", line 56, in parse_saved_model_with_debug_info\r\n",
      "    saved_model = _parse_saved_model(export_dir)\r\n",
      "  File \"/Users/benoit/.pyenv/versions/3.8.6/envs/lewagon/lib/python3.8/site-packages/tensorflow/python/saved_model/loader_impl.py\", line 111, in parse_saved_model\r\n",
      "    raise IOError(\"SavedModel file does not exist at: %s/{%s|%s}\" %\r\n",
      "OSError: SavedModel file does not exist at: Tensorflow/workspace/models/my_ssd_mobnetv2/tfliteexport/saved_model/{saved_model.pbtxt|saved_model.pb}\r\n"
     ]
    }
   ],
   "source": [
    "!{command}"
   ]
  },
  {
   "cell_type": "markdown",
   "metadata": {
    "id": "5NQqZRdA21Uc"
   },
   "source": [
    "# 13. Zip and Export Models "
   ]
  },
  {
   "cell_type": "code",
   "execution_count": 32,
   "metadata": {
    "id": "tTVTGCQp2ZJJ"
   },
   "outputs": [],
   "source": [
    "!tar -czf models.tar.gz {paths['CHECKPOINT_PATH']}"
   ]
  },
  {
   "cell_type": "code",
   "execution_count": null,
   "metadata": {},
   "outputs": [],
   "source": []
  }
 ],
 "metadata": {
  "accelerator": "GPU",
  "colab": {
   "name": "3. Training and Detection.ipynb",
   "provenance": []
  },
  "kernelspec": {
   "display_name": "tfodj",
   "language": "python",
   "name": "tfodj"
  },
  "language_info": {
   "codemirror_mode": {
    "name": "ipython",
    "version": 3
   },
   "file_extension": ".py",
   "mimetype": "text/x-python",
   "name": "python",
   "nbconvert_exporter": "python",
   "pygments_lexer": "ipython3",
   "version": "3.8.6"
  }
 },
 "nbformat": 4,
 "nbformat_minor": 1
}
